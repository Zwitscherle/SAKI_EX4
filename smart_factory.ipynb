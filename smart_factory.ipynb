{
 "metadata": {
  "language_info": {
   "codemirror_mode": {
    "name": "ipython",
    "version": 3
   },
   "file_extension": ".py",
   "mimetype": "text/x-python",
   "name": "python",
   "nbconvert_exporter": "python",
   "pygments_lexer": "ipython3",
   "version": "3.9.1"
  },
  "orig_nbformat": 4,
  "kernelspec": {
   "name": "python3",
   "display_name": "Python 3.9.1 64-bit ('saki4': venv)"
  },
  "interpreter": {
   "hash": "ad4ad34c08212da66dc6d04eda780af769d3ee710939179ad84caa50910b2cc9"
  }
 },
 "nbformat": 4,
 "nbformat_minor": 2,
 "cells": [
  {
   "source": [
    "This is the Smart Factory Exercise."
   ],
   "cell_type": "markdown",
   "metadata": {}
  },
  {
   "cell_type": "code",
   "execution_count": 2,
   "metadata": {},
   "outputs": [],
   "source": [
    "import mdptoolbox, mdptoolbox.example\n",
    "import numpy as np\n",
    "import itertools"
   ]
  },
  {
   "source": [
    "Define all items, states and actions of our model. <br>\n",
    "* We have three different items (WHITE, BLUE, RED)\n",
    "* We have four different possible states of each warehouse field (EMPTY, WHITE, BLUE, RED)\n",
    "* We have six possible actions for our agent (STORE and RESTORE in combination with each item color)"
   ],
   "cell_type": "markdown",
   "metadata": {}
  },
  {
   "cell_type": "code",
   "execution_count": 3,
   "metadata": {},
   "outputs": [
    {
     "output_type": "stream",
     "name": "stdout",
     "text": [
      "['WHITE', 'BLUE', 'RED']\n['WHITE', 'BLUE', 'RED', 'EMPTY']\n[(0, 0), (0, 1), (1, 0), (1, 1)]\n[('STORE', 'WHITE'), ('STORE', 'BLUE'), ('STORE', 'RED'), ('RESTORE', 'WHITE'), ('RESTORE', 'BLUE'), ('RESTORE', 'RED')]\n"
     ]
    }
   ],
   "source": [
    "def createWarehouseFields(length, height):\n",
    "    warehouseFields = []\n",
    "    for i in range(0, length):\n",
    "        for j in range(0, height):\n",
    "            warehouseFields.append((i,j))\n",
    "    return warehouseFields\n",
    "\n",
    "n = 2\n",
    "warehouseFields = createWarehouseFields(n, n)\n",
    "\n",
    "actions = warehouseFields.copy()\n",
    "\n",
    "\n",
    "items = ['WHITE', 'BLUE', 'RED']\n",
    "operations = ['STORE', 'RESTORE']\n",
    "warehouseState = ['WHITE', 'BLUE', 'RED', 'EMPTY']\n",
    "operationsWithItems = []\n",
    "for operation in operations:\n",
    "    for item in items:\n",
    "        operationsWithItems.append((operation, item))\n",
    "\n",
    "\n",
    "# warehouse size n x n (in our case n = 2)\n",
    "\n",
    "print(items)\n",
    "print(warehouseState)\n",
    "print(actions)\n",
    "print(operationsWithItems)"
   ]
  },
  {
   "source": [
    "Create all fields of the warehouse of size lenght x heigth (in our case 2 x 2)"
   ],
   "cell_type": "markdown",
   "metadata": {}
  },
  {
   "cell_type": "code",
   "execution_count": 82,
   "metadata": {
    "tags": []
   },
   "outputs": [
    {
     "output_type": "stream",
     "name": "stdout",
     "text": [
      "[(0, 0), (0, 1), (1, 0), (1, 1)]\n"
     ]
    }
   ],
   "source": []
  },
  {
   "source": [
    "Next create all possible states of our warehouse. \n",
    "In our case we have 4 fields with 4 different states each (EMPTY, WHITE, BLUE, RED), which results in 4^4 states."
   ],
   "cell_type": "markdown",
   "metadata": {}
  },
  {
   "cell_type": "code",
   "execution_count": 49,
   "metadata": {
    "tags": [
     "outputPrepend"
    ]
   },
   "outputs": [
    {
     "output_type": "stream",
     "name": "stdout",
     "text": [
      ", [('RESTORE', 'BLUE'), 'RED', 'BLUE', 'BLUE', 'RED'], [('RESTORE', 'BLUE'), 'RED', 'BLUE', 'BLUE', 'EMPTY'], [('RESTORE', 'BLUE'), 'RED', 'BLUE', 'RED', 'WHITE'], [('RESTORE', 'BLUE'), 'RED', 'BLUE', 'RED', 'BLUE'], [('RESTORE', 'BLUE'), 'RED', 'BLUE', 'RED', 'RED'], [('RESTORE', 'BLUE'), 'RED', 'BLUE', 'RED', 'EMPTY'], [('RESTORE', 'BLUE'), 'RED', 'BLUE', 'EMPTY', 'WHITE'], [('RESTORE', 'BLUE'), 'RED', 'BLUE', 'EMPTY', 'BLUE'], [('RESTORE', 'BLUE'), 'RED', 'BLUE', 'EMPTY', 'RED'], [('RESTORE', 'BLUE'), 'RED', 'BLUE', 'EMPTY', 'EMPTY'], [('RESTORE', 'BLUE'), 'RED', 'RED', 'WHITE', 'WHITE'], [('RESTORE', 'BLUE'), 'RED', 'RED', 'WHITE', 'BLUE'], [('RESTORE', 'BLUE'), 'RED', 'RED', 'WHITE', 'RED'], [('RESTORE', 'BLUE'), 'RED', 'RED', 'WHITE', 'EMPTY'], [('RESTORE', 'BLUE'), 'RED', 'RED', 'BLUE', 'WHITE'], [('RESTORE', 'BLUE'), 'RED', 'RED', 'BLUE', 'BLUE'], [('RESTORE', 'BLUE'), 'RED', 'RED', 'BLUE', 'RED'], [('RESTORE', 'BLUE'), 'RED', 'RED', 'BLUE', 'EMPTY'], [('RESTORE', 'BLUE'), 'RED', 'RED', 'RED', 'WHITE'], [('RESTORE', 'BLUE'), 'RED', 'RED', 'RED', 'BLUE'], [('RESTORE', 'BLUE'), 'RED', 'RED', 'RED', 'RED'], [('RESTORE', 'BLUE'), 'RED', 'RED', 'RED', 'EMPTY'], [('RESTORE', 'BLUE'), 'RED', 'RED', 'EMPTY', 'WHITE'], [('RESTORE', 'BLUE'), 'RED', 'RED', 'EMPTY', 'BLUE'], [('RESTORE', 'BLUE'), 'RED', 'RED', 'EMPTY', 'RED'], [('RESTORE', 'BLUE'), 'RED', 'RED', 'EMPTY', 'EMPTY'], [('RESTORE', 'BLUE'), 'RED', 'EMPTY', 'WHITE', 'WHITE'], [('RESTORE', 'BLUE'), 'RED', 'EMPTY', 'WHITE', 'BLUE'], [('RESTORE', 'BLUE'), 'RED', 'EMPTY', 'WHITE', 'RED'], [('RESTORE', 'BLUE'), 'RED', 'EMPTY', 'WHITE', 'EMPTY'], [('RESTORE', 'BLUE'), 'RED', 'EMPTY', 'BLUE', 'WHITE'], [('RESTORE', 'BLUE'), 'RED', 'EMPTY', 'BLUE', 'BLUE'], [('RESTORE', 'BLUE'), 'RED', 'EMPTY', 'BLUE', 'RED'], [('RESTORE', 'BLUE'), 'RED', 'EMPTY', 'BLUE', 'EMPTY'], [('RESTORE', 'BLUE'), 'RED', 'EMPTY', 'RED', 'WHITE'], [('RESTORE', 'BLUE'), 'RED', 'EMPTY', 'RED', 'BLUE'], [('RESTORE', 'BLUE'), 'RED', 'EMPTY', 'RED', 'RED'], [('RESTORE', 'BLUE'), 'RED', 'EMPTY', 'RED', 'EMPTY'], [('RESTORE', 'BLUE'), 'RED', 'EMPTY', 'EMPTY', 'WHITE'], [('RESTORE', 'BLUE'), 'RED', 'EMPTY', 'EMPTY', 'BLUE'], [('RESTORE', 'BLUE'), 'RED', 'EMPTY', 'EMPTY', 'RED'], [('RESTORE', 'BLUE'), 'RED', 'EMPTY', 'EMPTY', 'EMPTY'], [('RESTORE', 'BLUE'), 'EMPTY', 'WHITE', 'WHITE', 'WHITE'], [('RESTORE', 'BLUE'), 'EMPTY', 'WHITE', 'WHITE', 'BLUE'], [('RESTORE', 'BLUE'), 'EMPTY', 'WHITE', 'WHITE', 'RED'], [('RESTORE', 'BLUE'), 'EMPTY', 'WHITE', 'WHITE', 'EMPTY'], [('RESTORE', 'BLUE'), 'EMPTY', 'WHITE', 'BLUE', 'WHITE'], [('RESTORE', 'BLUE'), 'EMPTY', 'WHITE', 'BLUE', 'BLUE'], [('RESTORE', 'BLUE'), 'EMPTY', 'WHITE', 'BLUE', 'RED'], [('RESTORE', 'BLUE'), 'EMPTY', 'WHITE', 'BLUE', 'EMPTY'], [('RESTORE', 'BLUE'), 'EMPTY', 'WHITE', 'RED', 'WHITE'], [('RESTORE', 'BLUE'), 'EMPTY', 'WHITE', 'RED', 'BLUE'], [('RESTORE', 'BLUE'), 'EMPTY', 'WHITE', 'RED', 'RED'], [('RESTORE', 'BLUE'), 'EMPTY', 'WHITE', 'RED', 'EMPTY'], [('RESTORE', 'BLUE'), 'EMPTY', 'WHITE', 'EMPTY', 'WHITE'], [('RESTORE', 'BLUE'), 'EMPTY', 'WHITE', 'EMPTY', 'BLUE'], [('RESTORE', 'BLUE'), 'EMPTY', 'WHITE', 'EMPTY', 'RED'], [('RESTORE', 'BLUE'), 'EMPTY', 'WHITE', 'EMPTY', 'EMPTY'], [('RESTORE', 'BLUE'), 'EMPTY', 'BLUE', 'WHITE', 'WHITE'], [('RESTORE', 'BLUE'), 'EMPTY', 'BLUE', 'WHITE', 'BLUE'], [('RESTORE', 'BLUE'), 'EMPTY', 'BLUE', 'WHITE', 'RED'], [('RESTORE', 'BLUE'), 'EMPTY', 'BLUE', 'WHITE', 'EMPTY'], [('RESTORE', 'BLUE'), 'EMPTY', 'BLUE', 'BLUE', 'WHITE'], [('RESTORE', 'BLUE'), 'EMPTY', 'BLUE', 'BLUE', 'BLUE'], [('RESTORE', 'BLUE'), 'EMPTY', 'BLUE', 'BLUE', 'RED'], [('RESTORE', 'BLUE'), 'EMPTY', 'BLUE', 'BLUE', 'EMPTY'], [('RESTORE', 'BLUE'), 'EMPTY', 'BLUE', 'RED', 'WHITE'], [('RESTORE', 'BLUE'), 'EMPTY', 'BLUE', 'RED', 'BLUE'], [('RESTORE', 'BLUE'), 'EMPTY', 'BLUE', 'RED', 'RED'], [('RESTORE', 'BLUE'), 'EMPTY', 'BLUE', 'RED', 'EMPTY'], [('RESTORE', 'BLUE'), 'EMPTY', 'BLUE', 'EMPTY', 'WHITE'], [('RESTORE', 'BLUE'), 'EMPTY', 'BLUE', 'EMPTY', 'BLUE'], [('RESTORE', 'BLUE'), 'EMPTY', 'BLUE', 'EMPTY', 'RED'], [('RESTORE', 'BLUE'), 'EMPTY', 'BLUE', 'EMPTY', 'EMPTY'], [('RESTORE', 'BLUE'), 'EMPTY', 'RED', 'WHITE', 'WHITE'], [('RESTORE', 'BLUE'), 'EMPTY', 'RED', 'WHITE', 'BLUE'], [('RESTORE', 'BLUE'), 'EMPTY', 'RED', 'WHITE', 'RED'], [('RESTORE', 'BLUE'), 'EMPTY', 'RED', 'WHITE', 'EMPTY'], [('RESTORE', 'BLUE'), 'EMPTY', 'RED', 'BLUE', 'WHITE'], [('RESTORE', 'BLUE'), 'EMPTY', 'RED', 'BLUE', 'BLUE'], [('RESTORE', 'BLUE'), 'EMPTY', 'RED', 'BLUE', 'RED'], [('RESTORE', 'BLUE'), 'EMPTY', 'RED', 'BLUE', 'EMPTY'], [('RESTORE', 'BLUE'), 'EMPTY', 'RED', 'RED', 'WHITE'], [('RESTORE', 'BLUE'), 'EMPTY', 'RED', 'RED', 'BLUE'], [('RESTORE', 'BLUE'), 'EMPTY', 'RED', 'RED', 'RED'], [('RESTORE', 'BLUE'), 'EMPTY', 'RED', 'RED', 'EMPTY'], [('RESTORE', 'BLUE'), 'EMPTY', 'RED', 'EMPTY', 'WHITE'], [('RESTORE', 'BLUE'), 'EMPTY', 'RED', 'EMPTY', 'BLUE'], [('RESTORE', 'BLUE'), 'EMPTY', 'RED', 'EMPTY', 'RED'], [('RESTORE', 'BLUE'), 'EMPTY', 'RED', 'EMPTY', 'EMPTY'], [('RESTORE', 'BLUE'), 'EMPTY', 'EMPTY', 'WHITE', 'WHITE'], [('RESTORE', 'BLUE'), 'EMPTY', 'EMPTY', 'WHITE', 'BLUE'], [('RESTORE', 'BLUE'), 'EMPTY', 'EMPTY', 'WHITE', 'RED'], [('RESTORE', 'BLUE'), 'EMPTY', 'EMPTY', 'WHITE', 'EMPTY'], [('RESTORE', 'BLUE'), 'EMPTY', 'EMPTY', 'BLUE', 'WHITE'], [('RESTORE', 'BLUE'), 'EMPTY', 'EMPTY', 'BLUE', 'BLUE'], [('RESTORE', 'BLUE'), 'EMPTY', 'EMPTY', 'BLUE', 'RED'], [('RESTORE', 'BLUE'), 'EMPTY', 'EMPTY', 'BLUE', 'EMPTY'], [('RESTORE', 'BLUE'), 'EMPTY', 'EMPTY', 'RED', 'WHITE'], [('RESTORE', 'BLUE'), 'EMPTY', 'EMPTY', 'RED', 'BLUE'], [('RESTORE', 'BLUE'), 'EMPTY', 'EMPTY', 'RED', 'RED'], [('RESTORE', 'BLUE'), 'EMPTY', 'EMPTY', 'RED', 'EMPTY'], [('RESTORE', 'BLUE'), 'EMPTY', 'EMPTY', 'EMPTY', 'WHITE'], [('RESTORE', 'BLUE'), 'EMPTY', 'EMPTY', 'EMPTY', 'BLUE'], [('RESTORE', 'BLUE'), 'EMPTY', 'EMPTY', 'EMPTY', 'RED'], [('RESTORE', 'BLUE'), 'EMPTY', 'EMPTY', 'EMPTY', 'EMPTY'], [('RESTORE', 'RED'), 'WHITE', 'WHITE', 'WHITE', 'WHITE'], [('RESTORE', 'RED'), 'WHITE', 'WHITE', 'WHITE', 'BLUE'], [('RESTORE', 'RED'), 'WHITE', 'WHITE', 'WHITE', 'RED'], [('RESTORE', 'RED'), 'WHITE', 'WHITE', 'WHITE', 'EMPTY'], [('RESTORE', 'RED'), 'WHITE', 'WHITE', 'BLUE', 'WHITE'], [('RESTORE', 'RED'), 'WHITE', 'WHITE', 'BLUE', 'BLUE'], [('RESTORE', 'RED'), 'WHITE', 'WHITE', 'BLUE', 'RED'], [('RESTORE', 'RED'), 'WHITE', 'WHITE', 'BLUE', 'EMPTY'], [('RESTORE', 'RED'), 'WHITE', 'WHITE', 'RED', 'WHITE'], [('RESTORE', 'RED'), 'WHITE', 'WHITE', 'RED', 'BLUE'], [('RESTORE', 'RED'), 'WHITE', 'WHITE', 'RED', 'RED'], [('RESTORE', 'RED'), 'WHITE', 'WHITE', 'RED', 'EMPTY'], [('RESTORE', 'RED'), 'WHITE', 'WHITE', 'EMPTY', 'WHITE'], [('RESTORE', 'RED'), 'WHITE', 'WHITE', 'EMPTY', 'BLUE'], [('RESTORE', 'RED'), 'WHITE', 'WHITE', 'EMPTY', 'RED'], [('RESTORE', 'RED'), 'WHITE', 'WHITE', 'EMPTY', 'EMPTY'], [('RESTORE', 'RED'), 'WHITE', 'BLUE', 'WHITE', 'WHITE'], [('RESTORE', 'RED'), 'WHITE', 'BLUE', 'WHITE', 'BLUE'], [('RESTORE', 'RED'), 'WHITE', 'BLUE', 'WHITE', 'RED'], [('RESTORE', 'RED'), 'WHITE', 'BLUE', 'WHITE', 'EMPTY'], [('RESTORE', 'RED'), 'WHITE', 'BLUE', 'BLUE', 'WHITE'], [('RESTORE', 'RED'), 'WHITE', 'BLUE', 'BLUE', 'BLUE'], [('RESTORE', 'RED'), 'WHITE', 'BLUE', 'BLUE', 'RED'], [('RESTORE', 'RED'), 'WHITE', 'BLUE', 'BLUE', 'EMPTY'], [('RESTORE', 'RED'), 'WHITE', 'BLUE', 'RED', 'WHITE'], [('RESTORE', 'RED'), 'WHITE', 'BLUE', 'RED', 'BLUE'], [('RESTORE', 'RED'), 'WHITE', 'BLUE', 'RED', 'RED'], [('RESTORE', 'RED'), 'WHITE', 'BLUE', 'RED', 'EMPTY'], [('RESTORE', 'RED'), 'WHITE', 'BLUE', 'EMPTY', 'WHITE'], [('RESTORE', 'RED'), 'WHITE', 'BLUE', 'EMPTY', 'BLUE'], [('RESTORE', 'RED'), 'WHITE', 'BLUE', 'EMPTY', 'RED'], [('RESTORE', 'RED'), 'WHITE', 'BLUE', 'EMPTY', 'EMPTY'], [('RESTORE', 'RED'), 'WHITE', 'RED', 'WHITE', 'WHITE'], [('RESTORE', 'RED'), 'WHITE', 'RED', 'WHITE', 'BLUE'], [('RESTORE', 'RED'), 'WHITE', 'RED', 'WHITE', 'RED'], [('RESTORE', 'RED'), 'WHITE', 'RED', 'WHITE', 'EMPTY'], [('RESTORE', 'RED'), 'WHITE', 'RED', 'BLUE', 'WHITE'], [('RESTORE', 'RED'), 'WHITE', 'RED', 'BLUE', 'BLUE'], [('RESTORE', 'RED'), 'WHITE', 'RED', 'BLUE', 'RED'], [('RESTORE', 'RED'), 'WHITE', 'RED', 'BLUE', 'EMPTY'], [('RESTORE', 'RED'), 'WHITE', 'RED', 'RED', 'WHITE'], [('RESTORE', 'RED'), 'WHITE', 'RED', 'RED', 'BLUE'], [('RESTORE', 'RED'), 'WHITE', 'RED', 'RED', 'RED'], [('RESTORE', 'RED'), 'WHITE', 'RED', 'RED', 'EMPTY'], [('RESTORE', 'RED'), 'WHITE', 'RED', 'EMPTY', 'WHITE'], [('RESTORE', 'RED'), 'WHITE', 'RED', 'EMPTY', 'BLUE'], [('RESTORE', 'RED'), 'WHITE', 'RED', 'EMPTY', 'RED'], [('RESTORE', 'RED'), 'WHITE', 'RED', 'EMPTY', 'EMPTY'], [('RESTORE', 'RED'), 'WHITE', 'EMPTY', 'WHITE', 'WHITE'], [('RESTORE', 'RED'), 'WHITE', 'EMPTY', 'WHITE', 'BLUE'], [('RESTORE', 'RED'), 'WHITE', 'EMPTY', 'WHITE', 'RED'], [('RESTORE', 'RED'), 'WHITE', 'EMPTY', 'WHITE', 'EMPTY'], [('RESTORE', 'RED'), 'WHITE', 'EMPTY', 'BLUE', 'WHITE'], [('RESTORE', 'RED'), 'WHITE', 'EMPTY', 'BLUE', 'BLUE'], [('RESTORE', 'RED'), 'WHITE', 'EMPTY', 'BLUE', 'RED'], [('RESTORE', 'RED'), 'WHITE', 'EMPTY', 'BLUE', 'EMPTY'], [('RESTORE', 'RED'), 'WHITE', 'EMPTY', 'RED', 'WHITE'], [('RESTORE', 'RED'), 'WHITE', 'EMPTY', 'RED', 'BLUE'], [('RESTORE', 'RED'), 'WHITE', 'EMPTY', 'RED', 'RED'], [('RESTORE', 'RED'), 'WHITE', 'EMPTY', 'RED', 'EMPTY'], [('RESTORE', 'RED'), 'WHITE', 'EMPTY', 'EMPTY', 'WHITE'], [('RESTORE', 'RED'), 'WHITE', 'EMPTY', 'EMPTY', 'BLUE'], [('RESTORE', 'RED'), 'WHITE', 'EMPTY', 'EMPTY', 'RED'], [('RESTORE', 'RED'), 'WHITE', 'EMPTY', 'EMPTY', 'EMPTY'], [('RESTORE', 'RED'), 'BLUE', 'WHITE', 'WHITE', 'WHITE'], [('RESTORE', 'RED'), 'BLUE', 'WHITE', 'WHITE', 'BLUE'], [('RESTORE', 'RED'), 'BLUE', 'WHITE', 'WHITE', 'RED'], [('RESTORE', 'RED'), 'BLUE', 'WHITE', 'WHITE', 'EMPTY'], [('RESTORE', 'RED'), 'BLUE', 'WHITE', 'BLUE', 'WHITE'], [('RESTORE', 'RED'), 'BLUE', 'WHITE', 'BLUE', 'BLUE'], [('RESTORE', 'RED'), 'BLUE', 'WHITE', 'BLUE', 'RED'], [('RESTORE', 'RED'), 'BLUE', 'WHITE', 'BLUE', 'EMPTY'], [('RESTORE', 'RED'), 'BLUE', 'WHITE', 'RED', 'WHITE'], [('RESTORE', 'RED'), 'BLUE', 'WHITE', 'RED', 'BLUE'], [('RESTORE', 'RED'), 'BLUE', 'WHITE', 'RED', 'RED'], [('RESTORE', 'RED'), 'BLUE', 'WHITE', 'RED', 'EMPTY'], [('RESTORE', 'RED'), 'BLUE', 'WHITE', 'EMPTY', 'WHITE'], [('RESTORE', 'RED'), 'BLUE', 'WHITE', 'EMPTY', 'BLUE'], [('RESTORE', 'RED'), 'BLUE', 'WHITE', 'EMPTY', 'RED'], [('RESTORE', 'RED'), 'BLUE', 'WHITE', 'EMPTY', 'EMPTY'], [('RESTORE', 'RED'), 'BLUE', 'BLUE', 'WHITE', 'WHITE'], [('RESTORE', 'RED'), 'BLUE', 'BLUE', 'WHITE', 'BLUE'], [('RESTORE', 'RED'), 'BLUE', 'BLUE', 'WHITE', 'RED'], [('RESTORE', 'RED'), 'BLUE', 'BLUE', 'WHITE', 'EMPTY'], [('RESTORE', 'RED'), 'BLUE', 'BLUE', 'BLUE', 'WHITE'], [('RESTORE', 'RED'), 'BLUE', 'BLUE', 'BLUE', 'BLUE'], [('RESTORE', 'RED'), 'BLUE', 'BLUE', 'BLUE', 'RED'], [('RESTORE', 'RED'), 'BLUE', 'BLUE', 'BLUE', 'EMPTY'], [('RESTORE', 'RED'), 'BLUE', 'BLUE', 'RED', 'WHITE'], [('RESTORE', 'RED'), 'BLUE', 'BLUE', 'RED', 'BLUE'], [('RESTORE', 'RED'), 'BLUE', 'BLUE', 'RED', 'RED'], [('RESTORE', 'RED'), 'BLUE', 'BLUE', 'RED', 'EMPTY'], [('RESTORE', 'RED'), 'BLUE', 'BLUE', 'EMPTY', 'WHITE'], [('RESTORE', 'RED'), 'BLUE', 'BLUE', 'EMPTY', 'BLUE'], [('RESTORE', 'RED'), 'BLUE', 'BLUE', 'EMPTY', 'RED'], [('RESTORE', 'RED'), 'BLUE', 'BLUE', 'EMPTY', 'EMPTY'], [('RESTORE', 'RED'), 'BLUE', 'RED', 'WHITE', 'WHITE'], [('RESTORE', 'RED'), 'BLUE', 'RED', 'WHITE', 'BLUE'], [('RESTORE', 'RED'), 'BLUE', 'RED', 'WHITE', 'RED'], [('RESTORE', 'RED'), 'BLUE', 'RED', 'WHITE', 'EMPTY'], [('RESTORE', 'RED'), 'BLUE', 'RED', 'BLUE', 'WHITE'], [('RESTORE', 'RED'), 'BLUE', 'RED', 'BLUE', 'BLUE'], [('RESTORE', 'RED'), 'BLUE', 'RED', 'BLUE', 'RED'], [('RESTORE', 'RED'), 'BLUE', 'RED', 'BLUE', 'EMPTY'], [('RESTORE', 'RED'), 'BLUE', 'RED', 'RED', 'WHITE'], [('RESTORE', 'RED'), 'BLUE', 'RED', 'RED', 'BLUE'], [('RESTORE', 'RED'), 'BLUE', 'RED', 'RED', 'RED'], [('RESTORE', 'RED'), 'BLUE', 'RED', 'RED', 'EMPTY'], [('RESTORE', 'RED'), 'BLUE', 'RED', 'EMPTY', 'WHITE'], [('RESTORE', 'RED'), 'BLUE', 'RED', 'EMPTY', 'BLUE'], [('RESTORE', 'RED'), 'BLUE', 'RED', 'EMPTY', 'RED'], [('RESTORE', 'RED'), 'BLUE', 'RED', 'EMPTY', 'EMPTY'], [('RESTORE', 'RED'), 'BLUE', 'EMPTY', 'WHITE', 'WHITE'], [('RESTORE', 'RED'), 'BLUE', 'EMPTY', 'WHITE', 'BLUE'], [('RESTORE', 'RED'), 'BLUE', 'EMPTY', 'WHITE', 'RED'], [('RESTORE', 'RED'), 'BLUE', 'EMPTY', 'WHITE', 'EMPTY'], [('RESTORE', 'RED'), 'BLUE', 'EMPTY', 'BLUE', 'WHITE'], [('RESTORE', 'RED'), 'BLUE', 'EMPTY', 'BLUE', 'BLUE'], [('RESTORE', 'RED'), 'BLUE', 'EMPTY', 'BLUE', 'RED'], [('RESTORE', 'RED'), 'BLUE', 'EMPTY', 'BLUE', 'EMPTY'], [('RESTORE', 'RED'), 'BLUE', 'EMPTY', 'RED', 'WHITE'], [('RESTORE', 'RED'), 'BLUE', 'EMPTY', 'RED', 'BLUE'], [('RESTORE', 'RED'), 'BLUE', 'EMPTY', 'RED', 'RED'], [('RESTORE', 'RED'), 'BLUE', 'EMPTY', 'RED', 'EMPTY'], [('RESTORE', 'RED'), 'BLUE', 'EMPTY', 'EMPTY', 'WHITE'], [('RESTORE', 'RED'), 'BLUE', 'EMPTY', 'EMPTY', 'BLUE'], [('RESTORE', 'RED'), 'BLUE', 'EMPTY', 'EMPTY', 'RED'], [('RESTORE', 'RED'), 'BLUE', 'EMPTY', 'EMPTY', 'EMPTY'], [('RESTORE', 'RED'), 'RED', 'WHITE', 'WHITE', 'WHITE'], [('RESTORE', 'RED'), 'RED', 'WHITE', 'WHITE', 'BLUE'], [('RESTORE', 'RED'), 'RED', 'WHITE', 'WHITE', 'RED'], [('RESTORE', 'RED'), 'RED', 'WHITE', 'WHITE', 'EMPTY'], [('RESTORE', 'RED'), 'RED', 'WHITE', 'BLUE', 'WHITE'], [('RESTORE', 'RED'), 'RED', 'WHITE', 'BLUE', 'BLUE'], [('RESTORE', 'RED'), 'RED', 'WHITE', 'BLUE', 'RED'], [('RESTORE', 'RED'), 'RED', 'WHITE', 'BLUE', 'EMPTY'], [('RESTORE', 'RED'), 'RED', 'WHITE', 'RED', 'WHITE'], [('RESTORE', 'RED'), 'RED', 'WHITE', 'RED', 'BLUE'], [('RESTORE', 'RED'), 'RED', 'WHITE', 'RED', 'RED'], [('RESTORE', 'RED'), 'RED', 'WHITE', 'RED', 'EMPTY'], [('RESTORE', 'RED'), 'RED', 'WHITE', 'EMPTY', 'WHITE'], [('RESTORE', 'RED'), 'RED', 'WHITE', 'EMPTY', 'BLUE'], [('RESTORE', 'RED'), 'RED', 'WHITE', 'EMPTY', 'RED'], [('RESTORE', 'RED'), 'RED', 'WHITE', 'EMPTY', 'EMPTY'], [('RESTORE', 'RED'), 'RED', 'BLUE', 'WHITE', 'WHITE'], [('RESTORE', 'RED'), 'RED', 'BLUE', 'WHITE', 'BLUE'], [('RESTORE', 'RED'), 'RED', 'BLUE', 'WHITE', 'RED'], [('RESTORE', 'RED'), 'RED', 'BLUE', 'WHITE', 'EMPTY'], [('RESTORE', 'RED'), 'RED', 'BLUE', 'BLUE', 'WHITE'], [('RESTORE', 'RED'), 'RED', 'BLUE', 'BLUE', 'BLUE'], [('RESTORE', 'RED'), 'RED', 'BLUE', 'BLUE', 'RED'], [('RESTORE', 'RED'), 'RED', 'BLUE', 'BLUE', 'EMPTY'], [('RESTORE', 'RED'), 'RED', 'BLUE', 'RED', 'WHITE'], [('RESTORE', 'RED'), 'RED', 'BLUE', 'RED', 'BLUE'], [('RESTORE', 'RED'), 'RED', 'BLUE', 'RED', 'RED'], [('RESTORE', 'RED'), 'RED', 'BLUE', 'RED', 'EMPTY'], [('RESTORE', 'RED'), 'RED', 'BLUE', 'EMPTY', 'WHITE'], [('RESTORE', 'RED'), 'RED', 'BLUE', 'EMPTY', 'BLUE'], [('RESTORE', 'RED'), 'RED', 'BLUE', 'EMPTY', 'RED'], [('RESTORE', 'RED'), 'RED', 'BLUE', 'EMPTY', 'EMPTY'], [('RESTORE', 'RED'), 'RED', 'RED', 'WHITE', 'WHITE'], [('RESTORE', 'RED'), 'RED', 'RED', 'WHITE', 'BLUE'], [('RESTORE', 'RED'), 'RED', 'RED', 'WHITE', 'RED'], [('RESTORE', 'RED'), 'RED', 'RED', 'WHITE', 'EMPTY'], [('RESTORE', 'RED'), 'RED', 'RED', 'BLUE', 'WHITE'], [('RESTORE', 'RED'), 'RED', 'RED', 'BLUE', 'BLUE'], [('RESTORE', 'RED'), 'RED', 'RED', 'BLUE', 'RED'], [('RESTORE', 'RED'), 'RED', 'RED', 'BLUE', 'EMPTY'], [('RESTORE', 'RED'), 'RED', 'RED', 'RED', 'WHITE'], [('RESTORE', 'RED'), 'RED', 'RED', 'RED', 'BLUE'], [('RESTORE', 'RED'), 'RED', 'RED', 'RED', 'RED'], [('RESTORE', 'RED'), 'RED', 'RED', 'RED', 'EMPTY'], [('RESTORE', 'RED'), 'RED', 'RED', 'EMPTY', 'WHITE'], [('RESTORE', 'RED'), 'RED', 'RED', 'EMPTY', 'BLUE'], [('RESTORE', 'RED'), 'RED', 'RED', 'EMPTY', 'RED'], [('RESTORE', 'RED'), 'RED', 'RED', 'EMPTY', 'EMPTY'], [('RESTORE', 'RED'), 'RED', 'EMPTY', 'WHITE', 'WHITE'], [('RESTORE', 'RED'), 'RED', 'EMPTY', 'WHITE', 'BLUE'], [('RESTORE', 'RED'), 'RED', 'EMPTY', 'WHITE', 'RED'], [('RESTORE', 'RED'), 'RED', 'EMPTY', 'WHITE', 'EMPTY'], [('RESTORE', 'RED'), 'RED', 'EMPTY', 'BLUE', 'WHITE'], [('RESTORE', 'RED'), 'RED', 'EMPTY', 'BLUE', 'BLUE'], [('RESTORE', 'RED'), 'RED', 'EMPTY', 'BLUE', 'RED'], [('RESTORE', 'RED'), 'RED', 'EMPTY', 'BLUE', 'EMPTY'], [('RESTORE', 'RED'), 'RED', 'EMPTY', 'RED', 'WHITE'], [('RESTORE', 'RED'), 'RED', 'EMPTY', 'RED', 'BLUE'], [('RESTORE', 'RED'), 'RED', 'EMPTY', 'RED', 'RED'], [('RESTORE', 'RED'), 'RED', 'EMPTY', 'RED', 'EMPTY'], [('RESTORE', 'RED'), 'RED', 'EMPTY', 'EMPTY', 'WHITE'], [('RESTORE', 'RED'), 'RED', 'EMPTY', 'EMPTY', 'BLUE'], [('RESTORE', 'RED'), 'RED', 'EMPTY', 'EMPTY', 'RED'], [('RESTORE', 'RED'), 'RED', 'EMPTY', 'EMPTY', 'EMPTY'], [('RESTORE', 'RED'), 'EMPTY', 'WHITE', 'WHITE', 'WHITE'], [('RESTORE', 'RED'), 'EMPTY', 'WHITE', 'WHITE', 'BLUE'], [('RESTORE', 'RED'), 'EMPTY', 'WHITE', 'WHITE', 'RED'], [('RESTORE', 'RED'), 'EMPTY', 'WHITE', 'WHITE', 'EMPTY'], [('RESTORE', 'RED'), 'EMPTY', 'WHITE', 'BLUE', 'WHITE'], [('RESTORE', 'RED'), 'EMPTY', 'WHITE', 'BLUE', 'BLUE'], [('RESTORE', 'RED'), 'EMPTY', 'WHITE', 'BLUE', 'RED'], [('RESTORE', 'RED'), 'EMPTY', 'WHITE', 'BLUE', 'EMPTY'], [('RESTORE', 'RED'), 'EMPTY', 'WHITE', 'RED', 'WHITE'], [('RESTORE', 'RED'), 'EMPTY', 'WHITE', 'RED', 'BLUE'], [('RESTORE', 'RED'), 'EMPTY', 'WHITE', 'RED', 'RED'], [('RESTORE', 'RED'), 'EMPTY', 'WHITE', 'RED', 'EMPTY'], [('RESTORE', 'RED'), 'EMPTY', 'WHITE', 'EMPTY', 'WHITE'], [('RESTORE', 'RED'), 'EMPTY', 'WHITE', 'EMPTY', 'BLUE'], [('RESTORE', 'RED'), 'EMPTY', 'WHITE', 'EMPTY', 'RED'], [('RESTORE', 'RED'), 'EMPTY', 'WHITE', 'EMPTY', 'EMPTY'], [('RESTORE', 'RED'), 'EMPTY', 'BLUE', 'WHITE', 'WHITE'], [('RESTORE', 'RED'), 'EMPTY', 'BLUE', 'WHITE', 'BLUE'], [('RESTORE', 'RED'), 'EMPTY', 'BLUE', 'WHITE', 'RED'], [('RESTORE', 'RED'), 'EMPTY', 'BLUE', 'WHITE', 'EMPTY'], [('RESTORE', 'RED'), 'EMPTY', 'BLUE', 'BLUE', 'WHITE'], [('RESTORE', 'RED'), 'EMPTY', 'BLUE', 'BLUE', 'BLUE'], [('RESTORE', 'RED'), 'EMPTY', 'BLUE', 'BLUE', 'RED'], [('RESTORE', 'RED'), 'EMPTY', 'BLUE', 'BLUE', 'EMPTY'], [('RESTORE', 'RED'), 'EMPTY', 'BLUE', 'RED', 'WHITE'], [('RESTORE', 'RED'), 'EMPTY', 'BLUE', 'RED', 'BLUE'], [('RESTORE', 'RED'), 'EMPTY', 'BLUE', 'RED', 'RED'], [('RESTORE', 'RED'), 'EMPTY', 'BLUE', 'RED', 'EMPTY'], [('RESTORE', 'RED'), 'EMPTY', 'BLUE', 'EMPTY', 'WHITE'], [('RESTORE', 'RED'), 'EMPTY', 'BLUE', 'EMPTY', 'BLUE'], [('RESTORE', 'RED'), 'EMPTY', 'BLUE', 'EMPTY', 'RED'], [('RESTORE', 'RED'), 'EMPTY', 'BLUE', 'EMPTY', 'EMPTY'], [('RESTORE', 'RED'), 'EMPTY', 'RED', 'WHITE', 'WHITE'], [('RESTORE', 'RED'), 'EMPTY', 'RED', 'WHITE', 'BLUE'], [('RESTORE', 'RED'), 'EMPTY', 'RED', 'WHITE', 'RED'], [('RESTORE', 'RED'), 'EMPTY', 'RED', 'WHITE', 'EMPTY'], [('RESTORE', 'RED'), 'EMPTY', 'RED', 'BLUE', 'WHITE'], [('RESTORE', 'RED'), 'EMPTY', 'RED', 'BLUE', 'BLUE'], [('RESTORE', 'RED'), 'EMPTY', 'RED', 'BLUE', 'RED'], [('RESTORE', 'RED'), 'EMPTY', 'RED', 'BLUE', 'EMPTY'], [('RESTORE', 'RED'), 'EMPTY', 'RED', 'RED', 'WHITE'], [('RESTORE', 'RED'), 'EMPTY', 'RED', 'RED', 'BLUE'], [('RESTORE', 'RED'), 'EMPTY', 'RED', 'RED', 'RED'], [('RESTORE', 'RED'), 'EMPTY', 'RED', 'RED', 'EMPTY'], [('RESTORE', 'RED'), 'EMPTY', 'RED', 'EMPTY', 'WHITE'], [('RESTORE', 'RED'), 'EMPTY', 'RED', 'EMPTY', 'BLUE'], [('RESTORE', 'RED'), 'EMPTY', 'RED', 'EMPTY', 'RED'], [('RESTORE', 'RED'), 'EMPTY', 'RED', 'EMPTY', 'EMPTY'], [('RESTORE', 'RED'), 'EMPTY', 'EMPTY', 'WHITE', 'WHITE'], [('RESTORE', 'RED'), 'EMPTY', 'EMPTY', 'WHITE', 'BLUE'], [('RESTORE', 'RED'), 'EMPTY', 'EMPTY', 'WHITE', 'RED'], [('RESTORE', 'RED'), 'EMPTY', 'EMPTY', 'WHITE', 'EMPTY'], [('RESTORE', 'RED'), 'EMPTY', 'EMPTY', 'BLUE', 'WHITE'], [('RESTORE', 'RED'), 'EMPTY', 'EMPTY', 'BLUE', 'BLUE'], [('RESTORE', 'RED'), 'EMPTY', 'EMPTY', 'BLUE', 'RED'], [('RESTORE', 'RED'), 'EMPTY', 'EMPTY', 'BLUE', 'EMPTY'], [('RESTORE', 'RED'), 'EMPTY', 'EMPTY', 'RED', 'WHITE'], [('RESTORE', 'RED'), 'EMPTY', 'EMPTY', 'RED', 'BLUE'], [('RESTORE', 'RED'), 'EMPTY', 'EMPTY', 'RED', 'RED'], [('RESTORE', 'RED'), 'EMPTY', 'EMPTY', 'RED', 'EMPTY'], [('RESTORE', 'RED'), 'EMPTY', 'EMPTY', 'EMPTY', 'WHITE'], [('RESTORE', 'RED'), 'EMPTY', 'EMPTY', 'EMPTY', 'BLUE'], [('RESTORE', 'RED'), 'EMPTY', 'EMPTY', 'EMPTY', 'RED'], [('RESTORE', 'RED'), 'EMPTY', 'EMPTY', 'EMPTY', 'EMPTY']]\n"
     ]
    }
   ],
   "source": [
    "def getStates(warehouseFields, fieldStatus):  \n",
    "    warehouseStates = itertools.product(fieldStatus, repeat=len(warehouseFields))\n",
    "    states = []\n",
    "    for state in warehouseStates:\n",
    "      states.append(list(state))\n",
    "    statesWithOperations = []\n",
    "    for operation in operationsWithItems:\n",
    "      for state in states:\n",
    "        newCompleteState = state.copy()\n",
    "        newCompleteState = [operation] + newCompleteState\n",
    "        statesWithOperations.append(newCompleteState)\n",
    "    return statesWithOperations\n",
    "\n",
    "iterStates = getStates(warehouseFields, warehouseState)\n",
    "states = []\n",
    "for state in iterStates:\n",
    "  states.append(list(state))\n",
    "\n",
    "print(len(states))\n",
    "print(states)"
   ]
  },
  {
   "source": [
    "Create a reward which fits our problem. <br>\n",
    "The reward is higher if the distance our agent has to cover is lower."
   ],
   "cell_type": "markdown",
   "metadata": {}
  },
  {
   "cell_type": "code",
   "execution_count": 5,
   "metadata": {
    "tags": []
   },
   "outputs": [
    {
     "output_type": "stream",
     "name": "stdout",
     "text": [
      "[0.25180384 0.24336554 0.50483062]\n"
     ]
    }
   ],
   "source": [
    "# read statistics from file to calculate better rewards\n",
    "# i = 0: White, i = 1: Blue, i = 2: Red\n",
    "countItems = np.zeros((3))\n",
    "itemsTotal = 0\n",
    "\n",
    "warehouseorder = open('Exercise4_warehousetraining2x2.txt')\n",
    "for line in warehouseorder:\n",
    "    curAction = line.split('\\t')\n",
    "    # curOperation = curAction[0].upper()\n",
    "    curItem = curAction[1].strip('\\n').upper()\n",
    "    if curItem == 'WHITE':\n",
    "        countItems[0] += 1\n",
    "    if curItem == 'BLUE':\n",
    "        countItems[1] += 1\n",
    "    if curItem == 'RED':\n",
    "        countItems[2] += 1\n",
    "    itemsTotal += 1\n",
    "\n",
    "# i = 0: White, i = 1: Blue, i = 2: Red\n",
    "probsItems = countItems / itemsTotal\n",
    "print(probsItems)\n",
    "\n",
    "# reward function based on distance and item probability:\n",
    "def getRewardBasedOnDistanceAndProbability(fieldIndex, item):\n",
    "    x = warehouseFields[fieldIndex]\n",
    "    distance = x[0] + x[1] + 1\n",
    "    prob = 0\n",
    "    if item == 'WHITE':\n",
    "        prob = probsItems[0]\n",
    "    if item == 'BLUE':\n",
    "        prob = probsItems[1]\n",
    "    if item == 'RED':\n",
    "        prob = probsItems[2]\n",
    "    reward = 1/distance * 1/distance * prob\n",
    "    return reward\n"
   ]
  },
  {
   "source": [
    "Bring it all together now and create the transition and the reward matrix. <br>"
   ],
   "cell_type": "markdown",
   "metadata": {}
  },
  {
   "cell_type": "code",
   "execution_count": 112,
   "metadata": {
    "tags": []
   },
   "outputs": [
    {
     "output_type": "stream",
     "name": "stdout",
     "text": [
      "(4, 1536, 1536)\n[0.16666667 0.         0.         ... 0.         0.         0.        ]\n1.0\n"
     ]
    }
   ],
   "source": [
    "# create Transition and reward matrix\n",
    "def createTransitionAndRewardMatrix(actions, states):\n",
    "    T = np.zeros((len(actions), len(states), len(states)))\n",
    "    R = np.zeros((len(actions), len(states), len(states)))\n",
    "\n",
    "    for i in range(len(actions)):\n",
    "        # current action which is the field we take\n",
    "        action = actions[i]\n",
    "        for j in range(len(states)):\n",
    "            curState = states[j]  \n",
    "            \n",
    "            operation = curState[0]\n",
    "            curWarehouseState = curState[1:].copy()\n",
    "            # Do this for each operation\n",
    "            if operation[0] == 'STORE':\n",
    "                if curWarehouseState[i] != 'EMPTY':\n",
    "                    for k in range(0, 6):\n",
    "                        nextOperation = states[(j + 256*k) % len(states)][0]\n",
    "                        T[i, j, (j + k * 256) % len(states)] =  getTransitionProbabiltiy(nextOperation)\n",
    "                else:\n",
    "                    nextWarehouseState = curWarehouseState\n",
    "                    nextWarehouseState[i] = operation[1]\n",
    "                    nextState = [operation] + nextWarehouseState\n",
    "                    nextIndexStart = states.index(nextState)\n",
    "                    for k in range(0, 6):\n",
    "                        nextOperation = states[(nextIndexStart + 256*k) % len(states)][0]\n",
    "                        if T[i, j, (nextIndexStart + 256*k) % len(states)] != 0:\n",
    "                            print(\"does this hpapen?\")\n",
    "                            print(curState)\n",
    "                            print(nextState)\n",
    "                        T[i, j, (nextIndexStart + 256*k) % len(states)] =  getTransitionProbabiltiy(nextOperation)\n",
    "                        rewardTest = [3,2,2,1]\n",
    "                        if  R[i, j,(nextIndexStart + 256*k) % len(states)] != 0:\n",
    "                            print(\"aha\")\n",
    "                        R[i, j,(nextIndexStart + 256*k) % len(states)] = rewardTest[i]\n",
    "\n",
    "            else:\n",
    "                if operation[1] != curWarehouseState[i]:\n",
    "                    for k in range(0, 6):\n",
    "                        nextOperation = states[(j + 256*k) % len(states)][0]\n",
    "                        if T[i, j, (j + k * 256) % len(states)] != 0:\n",
    "                            print(\"does this hpapen?\")\n",
    "                            print(curState)\n",
    "                            print(nextState)\n",
    "                        T[i, j, (j+256*k) % len(states)] = getTransitionProbabiltiy(nextOperation)\n",
    "                else:\n",
    "                    nextWarehouseState = curWarehouseState\n",
    "                    nextWarehouseState[i] = 'EMPTY'\n",
    "                    nextState = [operation] + nextWarehouseState\n",
    "                    nextIndexStart = states.index(nextState)\n",
    "                    for k in range(0, 6):\n",
    "                        nextOperation = states[(nextIndexStart + 256*k) % len(states)][0]\n",
    "                        if T[i, j, (nextIndexStart + 256*k) % len(states)] != 0:\n",
    "                            print(\"does this hpapen?\")\n",
    "                            print(curState)\n",
    "                            print(nextState)\n",
    "                        T[i, j, (nextIndexStart + 256*k) % len(states)] = getTransitionProbabiltiy(nextOperation)\n",
    "                        rewardTest = [3,2,2,1]\n",
    "                        if  R[i, j, (nextIndexStart + 256*k) % len(states)] != 0:\n",
    "                            print(\"aha\")\n",
    "                        R[i, j, (nextIndexStart + 256*k) % len(states)] = rewardTest[i] * rewardTest[i]\n",
    "    return T, R\n",
    "\n",
    "def getTransitionProbabiltiy(operation):\n",
    "    probability = 0\n",
    "    if operation == ('STORE', 'WHITE'):\n",
    "        probability = 0.1\n",
    "    elif operation == ('STORE', 'BLUE'):\n",
    "        probability = 0.1\n",
    "    elif operation == ('STORE', 'RED'):\n",
    "        probability = 0.3\n",
    "    elif operation == ('RESTORE', 'WHITE'):\n",
    "        probability = 0.1\n",
    "    elif operation == ('RESTORE', 'BLUE'):\n",
    "        probability = 0.1\n",
    "    else:\n",
    "        probability = 0.3\n",
    "    return 1/6\n",
    "\n",
    "\n",
    "T, R = createTransitionAndRewardMatrix(actions, states)\n",
    "print(np.shape(T))\n",
    "test = np.sum(T[0][0])\n",
    "print(T[0][0])\n",
    "print(test)\n",
    "#print(states.index([('STORE', 'WHITE'), 'EMPTY', 'WHITE', 'WHITE', 'WHITE']))"
   ]
  },
  {
   "source": [
    "Finally create the mdp models and evaluate the different classes"
   ],
   "cell_type": "markdown",
   "metadata": {}
  },
  {
   "cell_type": "code",
   "execution_count": 113,
   "metadata": {
    "tags": [
     "outputPrepend"
    ]
   },
   "outputs": [
    {
     "output_type": "stream",
     "name": "stdout",
     "text": [
      "62564226, 1.187106662564226, 0.24257822815970628, 0.24289866362875884, 0.2616454468248601, 1.26164544682486, 0.24257822815970623, 0.26164544682486013, 0.24289866362875884, 1.242898663628759, 2.2425782281597058, 2.26164544682486, 2.2428986636287584, 2.293838040998129, 0.24257822815970623, 0.2428986636287589, 0.26164544682486013, 1.2616454468248604, 0.242898663628759, 0.24257822815970634, 0.26164544682485996, 1.26164544682486, 0.31609591144625176, 0.3160959114462519, 0.316095911446252, 1.316095911446252, 2.3160959114462516, 2.3160959114462516, 2.3160959114462516, 2.3659157704279195, 0.24257822815970634, 0.26164544682486013, 0.24289866362875875, 1.242898663628759, 0.3160959114462519, 0.3160959114462519, 0.3160959114462519, 1.316095911446252, 0.24289866362875884, 0.26164544682486013, 0.24257822815970626, 1.2425782281597062, 2.242898663628759, 2.2616454468248604, 2.242578228159706, 2.293838040998129, 2.242578228159706, 2.26164544682486, 2.2428986636287584, 2.293838040998129, 2.3160959114462516, 2.3160959114462516, 2.3160959114462516, 2.36591577042792, 2.242898663628759, 2.2616454468248604, 2.242578228159706, 2.293838040998129, 2.34477414874955, 2.362401413557948, 2.34477414874955, 2.347047083319045, 0.24257822815970623, 0.24289866362875878, 0.26164544682486024, 1.26164544682486, 0.2428986636287589, 0.2425782281597062, 0.26164544682486, 1.26164544682486, 0.316095911446252, 0.316095911446252, 0.316095911446252, 1.3160959114462518, 2.3160959114462516, 2.3160959114462516, 2.3160959114462516, 2.3659157704279195, 0.24289866362875884, 0.24257822815970628, 0.26164544682486024, 1.2616454468248604, 0.18710666256422562, 0.16799284778534543, 0.18710666256422598, 1.187106662564226, 0.2616454468248602, 0.2425782281597062, 0.2428986636287589, 1.242898663628759, 2.2616454468248604, 2.2425782281597058, 2.242898663628759, 2.293838040998129, 0.31609591144625193, 0.316095911446252, 0.316095911446252, 1.3160959114462518, 0.26164544682486013, 0.2425782281597063, 0.2428986636287588, 1.242898663628759, 0.26164544682486, 0.24289866362875895, 0.2425782281597063, 1.2425782281597064, 2.2616454468248604, 2.242898663628759, 2.242578228159706, 2.293838040998129, 2.3160959114462516, 2.3160959114462516, 2.3160959114462516, 2.3659157704279195, 2.26164544682486, 2.242578228159706, 2.2428986636287584, 2.293838040998129, 2.2616454468248604, 2.242898663628759, 2.242578228159706, 2.293838040998129, 2.362401413557948, 2.34477414874955, 2.34477414874955, 2.347047083319045, 0.24257822815970614, 0.2616454468248601, 0.24289866362875903, 1.2428986636287591, 0.31609591144625204, 0.316095911446252, 0.3160959114462519, 1.316095911446252, 0.24289866362875895, 0.2616454468248602, 0.2425782281597064, 1.2425782281597064, 2.2428986636287584, 2.2616454468248604, 2.242578228159706, 2.293838040998129, 0.316095911446252, 0.3160959114462519, 0.3160959114462518, 1.316095911446252, 0.26164544682485985, 0.24257822815970664, 0.24289866362875875, 1.2428986636287587, 0.2616454468248603, 0.2428986636287588, 0.24257822815970656, 1.2425782281597066, 2.2616454468248604, 2.2428986636287584, 2.242578228159706, 2.293838040998129, 0.242898663628759, 0.26164544682486024, 0.24257822815970642, 1.2425782281597064, 0.26164544682486013, 0.24289866362875898, 0.24257822815970642, 1.2425782281597064, 0.18710666256422595, 0.18710666256422587, 0.16799284778534535, 1.1679928477853454, 2.1871066625642257, 2.1871066625642257, 2.167992847785345, 2.220422089135708, 2.2428986636287593, 2.2616454468248604, 2.242578228159706, 2.293838040998129, 2.26164544682486, 2.242898663628759, 2.242578228159706, 2.293838040998129, 2.1871066625642257, 2.1871066625642257, 2.167992847785345, 2.220422089135708, 2.2920337730816334, 2.2920337730816334, 2.274089386814691, 2.2767577555779543, 3.2425782281597058, 3.26164544682486, 3.242898663628759, 3.2938380409981285, 3.316095911446252, 3.3160959114462516, 3.3160959114462516, 3.3659157704279195, 3.2428986636287584, 3.2616454468248604, 3.242578228159706, 3.293838040998129, 3.34477414874955, 3.3624014135579485, 3.3447741487495506, 3.347047083319045, 3.3160959114462516, 3.3160959114462516, 3.3160959114462516, 3.36591577042792, 3.26164544682486, 3.242578228159706, 3.2428986636287584, 3.293838040998129, 3.2616454468248604, 3.2428986636287584, 3.242578228159706, 3.293838040998129, 3.3624014135579485, 3.34477414874955, 3.34477414874955, 3.347047083319045, 3.2428986636287593, 3.2616454468248604, 3.242578228159706, 3.293838040998129, 3.26164544682486, 3.242898663628759, 3.242578228159706, 3.293838040998129, 3.1871066625642257, 3.1871066625642257, 3.167992847785345, 3.220422089135708, 3.2920337730816334, 3.2920337730816334, 3.274089386814691, 3.2767577555779543, 3.34477414874955, 3.3624014135579485, 3.3447741487495506, 3.347047083319045, 3.362401413557948, 3.34477414874955, 3.34477414874955, 3.347047083319045, 3.2920337730816334, 3.2920337730816334, 3.2740893868146914, 3.2767577555779543, 3.2960668418413164, 3.2960668418413164, 3.2785178897681413, 3.278334411010083, 9.239606628194004, 9.257551014460947, 9.257551014460947, 9.242274996957258, 9.31029139012886, 9.31029139012886, 9.327918654937264, 9.31256432469835, 9.31029139012886, 9.327918654937264, 9.31029139012886, 9.31256432469835, 9.244035131147452, 9.261584083220626, 9.261584083220626, 9.243851652389393, 9.31029139012886, 9.31029139012886, 9.327918654937264, 9.31256432469835, 9.257551014460947, 9.239606628194004, 9.257551014460947, 9.242274996957258, 9.327918654937264, 9.31029139012886, 9.31029139012886, 9.31256432469835, 9.261584083220626, 9.244035131147452, 9.261584083220626, 9.243851652389393, 9.31029139012886, 9.327918654937264, 9.31029139012886, 9.31256432469835, 9.327918654937264, 9.31029139012886, 9.31029139012886, 9.31256432469835, 9.257551014460947, 9.257551014460947, 9.239606628194004, 9.242274996957258, 9.261584083220626, 9.261584083220626, 9.244035131147452, 9.243851652389393, 9.244035131147452, 9.261584083220626, 9.261584083220626, 9.243851652389393, 9.261584083220626, 9.244035131147452, 9.261584083220626, 9.243851652389393, 9.261584083220626, 9.261584083220626, 9.244035131147452, 9.243851652389393, 9.190399922238278, 9.190399922238278, 9.190399922238278, 9.172543916368943, 4.3447741487495515, 4.3447741487495515, 4.362401413557952, 4.347047083319045, 4.292033773081635, 4.274089386814694, 4.292033773081635, 4.276757755577955, 4.362401413557952, 4.3447741487495515, 4.3447741487495515, 4.347047083319047, 4.296066841841315, 4.278517889768145, 4.2960668418413155, 4.278334411010082, 4.292033773081635, 4.274089386814694, 4.292033773081635, 4.276757755577955, 1.2204220891357078, 0.16799284778534543, 0.18710666256422598, 0.220422089135708, 1.2938380409981292, 0.2425782281597062, 0.2428986636287589, 0.29383804099812943, 1.2767577555779548, 0.2740893868146932, 0.29203377308163425, 0.27675775557795446, 4.362401413557952, 4.3447741487495515, 4.3447741487495515, 4.347047083319047, 1.2938380409981292, 0.2425782281597063, 0.24289866362875884, 0.2938380409981294, 1.2938380409981292, 0.2428986636287589, 0.24257822815970637, 0.29383804099812943, 1.347047083319045, 0.3447741487495506, 0.34477414874955065, 0.34704708331904516, 4.2960668418413155, 4.278517889768142, 4.296066841841316, 4.278334411010086, 1.2767577555779552, 0.27408938681469314, 0.2920337730816343, 0.2767577555779545, 1.347047083319045, 0.34477414874955054, 0.3447741487495506, 0.34704708331904516, 1.2783344110100876, 0.2785178897681388, 0.2960668418413136, 0.27833441101008655, 4.3447741487495515, 4.362401413557952, 4.3447741487495515, 4.347047083319045, 4.362401413557952, 4.3447741487495515, 4.3447741487495515, 4.347047083319047, 4.292033773081635, 4.292033773081635, 4.274089386814694, 4.276757755577955, 4.296066841841315, 4.2960668418413155, 4.278517889768145, 4.278334411010078, 4.362401413557952, 4.3447741487495515, 4.3447741487495515, 4.347047083319047, 1.293838040998129, 0.24257822815970664, 0.24289866362875878, 0.2938380409981292, 1.293838040998129, 0.24289866362875884, 0.24257822815970653, 0.2938380409981292, 1.3470470833190453, 0.3447741487495505, 0.34477414874955054, 0.3470470833190453, 4.292033773081635, 4.292033773081635, 4.274089386814694, 4.276757755577955, 1.293838040998129, 0.24289866362875895, 0.24257822815970645, 0.2938380409981293, 1.220422089135708, 0.18710666256422587, 0.16799284778534535, 0.22042208913570815, 1.2767577555779548, 0.29203377308163425, 0.2740893868146929, 0.27675775557795446, 4.2960668418413155, 4.296066841841316, 4.278517889768142, 4.278334411010081, 1.347047083319045, 0.3447741487495504, 0.3447741487495503, 0.3470470833190451, 1.2767577555779552, 0.29203377308163436, 0.2740893868146931, 0.2767577555779546, 1.2783344110100872, 0.29606684184131354, 0.2785178897681391, 0.27833441101008616, 4.24403513114745, 4.261584083220625, 4.261584083220625, 4.243851652389397, 4.261584083220627, 4.244035131147451, 4.261584083220626, 4.243851652389393, 4.261584083220627, 4.261584083220626, 4.244035131147451, 4.243851652389393, 4.190399922238259, 4.190399922238261, 4.190399922238261, 4.17254391636896, 4.261584083220627, 4.244035131147451, 4.261584083220626, 4.243851652389393, 1.2422749969572655, 0.23960662819400375, 0.25755101446094464, 0.2422749969572649, 1.3125643246983556, 0.3102913901288609, 0.3102913901288609, 0.31256432469835543, 1.2438516523893959, 0.24403513114744932, 0.26158408322062393, 0.24385165238939657, 4.261584083220627, 4.261584083220626, 4.244035131147451, 4.243851652389393, 1.3125643246983558, 0.3102913901288608, 0.3102913901288609, 0.31256432469835543, 1.2422749969572655, 0.2575510144609446, 0.23960662819400366, 0.24227499695726493, 1.2438516523893957, 0.2615840832206239, 0.2440351311474494, 0.24385165238939654, 4.190399922238265, 4.190399922238266, 4.190399922238266, 4.172543916368964, 1.2438516523893959, 0.24403513114744946, 0.26158408322062393, 0.24385165238939663, 1.2438516523893959, 0.2615840832206239, 0.24403513114744937, 0.24385165238939657, 1.1725439163689533, 0.19039992223827132, 0.19039992223827132, 0.1725439163689522, 0.16799284778534568, 1.2204220891357087, 0.187106662564226, 0.22042208913570788, 4.274089386814691, 4.292033773081635, 4.2920337730816325, 4.276757755577948, 0.24257822815970634, 1.2938380409981296, 0.24289866362875887, 0.29383804099812943, 0.27408938681469325, 1.2767577555779557, 0.2920337730816343, 0.2767577555779543, 4.2740893868146905, 4.292033773081638, 4.2920337730816325, 4.276757755577957, 4.344774148749556, 4.3447741487495515, 4.362401413557943, 4.347047083319039, 4.344774148749545, 4.362401413557947, 4.34477414874955, 4.347047083319044, 4.2785178897681355, 4.296066841841316, 4.296066841841313, 4.278334411010078, 0.24257822815970645, 1.2938380409981296, 0.24289866362875878, 0.29383804099812943, 4.344774148749545, 4.362401413557947, 4.34477414874955, 4.347047083319043, 0.2428986636287589, 1.293838040998129, 0.24257822815970637, 0.2938380409981294, 0.3447741487495505, 1.3470470833190467, 0.3447741487495507, 0.3470470833190451, 0.2740893868146931, 1.276757755577955, 0.2920337730816342, 0.2767577555779545, 4.278517889768136, 4.296066841841316, 4.296066841841316, 4.278334411010077, 0.3447741487495505, 1.3470470833190467, 0.3447741487495507, 0.3470470833190452, 0.2785178897681399, 1.278334411010086, 0.2960668418413134, 0.2783344110100864, 9.239606628193997, 9.25755101446094, 9.257551014460953, 9.242274996957269, 9.310291390128862, 9.310291390128853, 9.327918654937255, 9.31256432469835, 9.31029139012886, 9.327918654937264, 9.31029139012886, 9.312564324698357, 9.244035131147456, 9.261584083220617, 9.261584083220626, 9.243851652389377, 9.31029139012886, 9.310291390128858, 9.32791865493727, 9.312564324698357, 9.257551014460928, 9.239606628193998, 9.257551014460947, 9.242274996957265, 9.327918654937267, 9.31029139012886, 9.310291390128862, 9.312564324698355, 9.261584083220617, 9.244035131147447, 9.261584083220619, 9.243851652389392, 9.31029139012886, 9.327918654937264, 9.31029139012886, 9.312564324698357, 9.327918654937267, 9.31029139012886, 9.310291390128862, 9.312564324698355, 9.257551014460946, 9.257551014460947, 9.239606628194005, 9.242274996957265, 9.261584083220617, 9.261584083220626, 9.244035131147452, 9.243851652389393, 9.244035131147442, 9.261584083220624, 9.261584083220622, 9.2438516523894, 9.261584083220615, 9.244035131147445, 9.261584083220622, 9.243851652389393, 9.261584083220617, 9.261584083220626, 9.244035131147452, 9.243851652389393, 9.190399922238269, 9.190399922238257, 9.190399922238283, 9.17254391636897, 0.24257822815970614, 1.2938380409981303, 0.24289866362875898, 0.29383804099812927, 4.344774148749547, 4.362401413557946, 4.344774148749551, 4.3470470833190475, 0.24289866362875884, 1.2938380409981294, 0.24257822815970642, 0.29383804099812966, 0.3447741487495505, 1.3470470833190469, 0.34477414874955054, 0.34704708331904516, 4.3447741487495515, 4.362401413557946, 4.34477414874955, 4.347047083319043, 4.362401413557947, 4.344774148749553, 4.344774148749548, 4.347047083319047, 4.2920337730816325, 4.292033773081634, 4.274089386814692, 4.276757755577954, 4.296066841841316, 4.296066841841316, 4.278517889768138, 4.278334411010087, 0.2428986636287589, 1.2938380409981294, 0.24257822815970642, 0.2938380409981296, 4.2920337730816325, 4.292033773081633, 4.274089386814691, 4.276757755577954, 0.18710666256422598, 1.2204220891357078, 0.16799284778534535, 0.22042208913570815, 0.2920337730816342, 1.2767577555779546, 0.27408938681469297, 0.27675775557795446, 0.34477414874955037, 1.3470470833190455, 0.3447741487495507, 0.34704708331904477, 4.296066841841318, 4.296066841841312, 4.27851788976814, 4.278334411010081, 0.29203377308163414, 1.2767577555779548, 0.27408938681469314, 0.27675775557795457, 0.29606684184131327, 1.2783344110100854, 0.278517889768139, 0.2783344110100862, 0.2396066281940035, 1.2422749969572644, 0.2575510144609447, 0.2422749969572649, 4.244035131147448, 4.2615840832206215, 4.261584083220623, 4.2438516523893925, 0.31029139012886076, 1.312564324698356, 0.310291390128861, 0.31256432469835527, 0.2440351311474494, 1.2438516523893948, 0.2615840832206239, 0.24385165238939663, 4.244035131147443, 4.261584083220625, 4.261584083220623, 4.243851652389394, 4.261584083220632, 4.244035131147454, 4.26158408322062, 4.243851652389395, 4.2615840832206295, 4.261584083220622, 4.244035131147453, 4.243851652389397, 4.190399922238267, 4.190399922238263, 4.190399922238268, 4.172543916368959, 0.3102913901288608, 1.312564324698356, 0.31029139012886103, 0.3125643246983554, 4.26158408322063, 4.261584083220622, 4.244035131147453, 4.243851652389396, 0.2575510144609448, 1.242274996957265, 0.2396066281940036, 0.2422749969572649, 0.26158408322062365, 1.2438516523893965, 0.24403513114744943, 0.2438516523893966, 0.2440351311474493, 1.2438516523893963, 0.2615840832206239, 0.24385165238939674, 4.190399922238268, 4.190399922238271, 4.190399922238269, 4.172543916368961, 0.26158408322062365, 1.2438516523893965, 0.2440351311474494, 0.24385165238939663, 0.19039992223827115, 1.1725439163689504, 0.19039992223827112, 0.17254391636895197, 0.16799284778534543, 0.18710666256422614, 1.2204220891357078, 0.2204220891357077, 0.2425782281597064, 0.24289866362875892, 1.293838040998129, 0.29383804099812955, 4.2740893868146905, 4.292033773081634, 4.292033773081634, 4.276757755577954, 0.27408938681469325, 0.2920337730816342, 1.2767577555779548, 0.276757755577955, 0.24257822815970642, 0.2428986636287588, 1.2938380409981298, 0.2938380409981299, 0.2428986636287591, 0.24257822815970645, 1.2938380409981276, 0.29383804099812943, 4.344774148749541, 4.344774148749548, 4.3624014135579525, 4.347047083319045, 0.34477414874955037, 0.3447741487495511, 1.3470470833190462, 0.3470470833190451, 4.274089386814696, 4.292033773081634, 4.29203377308163, 4.276757755577955, 4.344774148749546, 4.344774148749548, 4.362401413557948, 4.347047083319054, 4.344774148749547, 4.3624014135579525, 4.344774148749547, 4.347047083319041, 4.2785178897681355, 4.296066841841318, 4.296066841841314, 4.278334411010083, 0.27408938681469297, 0.292033773081634, 1.2767577555779543, 0.27675775557795435, 0.3447741487495504, 0.344774148749551, 1.347047083319046, 0.3470470833190453, 4.278517889768136, 4.296066841841317, 4.296066841841313, 4.2783344110100865, 0.27851788976813935, 0.2960668418413132, 1.2783344110100867, 0.27833441101008627, 0.24257822815970637, 0.2428986636287589, 1.2938380409981285, 0.29383804099812943, 0.24289866362875903, 0.24257822815970645, 1.293838040998129, 0.2938380409981295, 4.344774148749551, 4.344774148749548, 4.362401413557949, 4.347047083319046, 0.3447741487495504, 0.3447741487495507, 1.3470470833190447, 0.3470470833190451, 0.24289866362875875, 0.24257822815970634, 1.2938380409981294, 0.2938380409981292, 0.18710666256422606, 0.16799284778534565, 1.2204220891357072, 0.2204220891357078, 4.292033773081635, 4.274089386814688, 4.292033773081637, 4.276757755577959, 0.29203377308163453, 0.2740893868146932, 1.2767577555779543, 0.27675775557795435, 4.344774148749547, 4.344774148749547, 4.362401413557952, 4.3470470833190475, 4.292033773081631, 4.274089386814693, 4.2920337730816325, 4.276757755577954, 4.362401413557946, 4.344774148749551, 4.34477414874955, 4.347047083319047, 4.296066841841316, 4.278517889768143, 4.296066841841316, 4.278334411010087, 0.3447741487495504, 0.34477414874955076, 1.3470470833190458, 0.34704708331904505, 0.29203377308163425, 0.2740893868146933, 1.2767577555779546, 0.2767577555779548, 4.2960668418413155, 4.278517889768142, 4.296066841841313, 4.278334411010087, 0.29606684184131393, 0.27851788976813874, 1.2783344110100852, 0.27833441101008655, 9.239606628193993, 9.257551014460944, 9.257551014460953, 9.242274996957244, 9.310291390128867, 9.310291390128866, 9.327918654937253, 9.312564324698355, 9.310291390128866, 9.327918654937266, 9.310291390128864, 9.312564324698359, 9.244035131147454, 9.261584083220631, 9.261584083220617, 9.243851652389397, 9.31029139012886, 9.310291390128858, 9.327918654937251, 9.312564324698366, 9.257551014460933, 9.239606628194018, 9.257551014460944, 9.242274996957253, 9.327918654937276, 9.31029139012886, 9.310291390128874, 9.312564324698345, 9.261584083220631, 9.244035131147442, 9.261584083220626, 9.243851652389404, 9.310291390128867, 9.327918654937267, 9.310291390128866, 9.312564324698355, 9.327918654937267, 9.310291390128867, 9.310291390128869, 9.31256432469835, 9.257551014460946, 9.257551014460942, 9.239606628193995, 9.242274996957276, 9.261584083220615, 9.26158408322062, 9.244035131147433, 9.243851652389388, 9.24403513114744, 9.261584083220642, 9.261584083220631, 9.243851652389392, 9.261584083220612, 9.244035131147445, 9.261584083220612, 9.243851652389397, 9.261584083220612, 9.261584083220628, 9.244035131147442, 9.243851652389397, 9.190399922238264, 9.190399922238276, 9.190399922238266, 9.172543916368948, 0.23960662819400355, 0.2575510144609447, 1.242274996957264, 0.24227499695726515, 0.31029139012886076, 0.3102913901288608, 1.3125643246983565, 0.31256432469835504, 4.244035131147446, 4.2615840832206295, 4.261584083220625, 4.243851652389388, 0.2440351311474492, 0.26158408322062365, 1.243851652389395, 0.24385165238939677, 0.3102913901288606, 0.3102913901288612, 1.3125643246983558, 0.3125643246983554, 0.2575510144609447, 0.23960662819400355, 1.2422749969572653, 0.2422749969572648, 4.2615840832206295, 4.244035131147451, 4.261584083220623, 4.243851652389393, 0.2615840832206237, 0.24403513114744943, 1.2438516523893952, 0.24385165238939652, 4.2440351311474505, 4.261584083220624, 4.261584083220625, 4.243851652389394, 4.261584083220632, 4.244035131147446, 4.261584083220624, 4.243851652389396, 4.261584083220629, 4.261584083220619, 4.24403513114745, 4.243851652389395, 4.190399922238273, 4.190399922238268, 4.190399922238266, 4.172543916368957, 0.2440351311474492, 0.261584083220624, 1.243851652389396, 0.24385165238939663, 0.2615840832206236, 0.24403513114744924, 1.2438516523893963, 0.2438516523893966, 4.190399922238273, 4.190399922238269, 4.1903999222382655, 4.172543916368959, 0.19039992223827107, 0.19039992223827112, 1.1725439163689508, 0.172543916368952)\n100\n"
     ]
    }
   ],
   "source": [
    "# 1. Policy Iteration\n",
    "mdpWarehousePolicy = mdptoolbox.mdp.PolicyIteration(T, R, 0.1, max_iter=100)\n",
    "# Run the MDP\n",
    "mdpWarehousePolicy.run()\n",
    "\n",
    "print('PolicyIteration:')\n",
    "print(mdpWarehousePolicy.policy)\n",
    "print(mdpWarehousePolicy.V)\n",
    "print(mdpWarehousePolicy.iter)"
   ]
  },
  {
   "cell_type": "code",
   "execution_count": 115,
   "metadata": {
    "tags": []
   },
   "outputs": [
    {
     "output_type": "stream",
     "name": "stdout",
     "text": [
      "Q learning:\n0\n0.060390864737687816\n"
     ]
    }
   ],
   "source": [
    "# 2. QLearning\n",
    "mdpWarehouseQ = mdptoolbox.mdp.QLearning(T, R, 0.1)\n",
    "# Run the MDP\n",
    "mdpWarehouseQ.run()\n",
    "\n",
    "print('Q learning:')\n",
    "print(mdpWarehouseQ.policy[0])\n",
    "print(mdpWarehouseQ.V[0])"
   ]
  },
  {
   "cell_type": "code",
   "execution_count": 117,
   "metadata": {
    "tags": [
     "outputPrepend"
    ]
   },
   "outputs": [
    {
     "output_type": "stream",
     "name": "stdout",
     "text": [
      "666666667, 1.2166666666666668, 0.2333333333333333, 0.21666666666666667, 0.21666666666666667, 1.2166666666666668, 2.2333333333333334, 2.216666666666667, 2.216666666666667, 2.2666666666666666, 0.21666666666666667, 0.2333333333333333, 0.21666666666666667, 1.2333333333333334, 0.2333333333333333, 0.21666666666666667, 0.21666666666666667, 1.2166666666666668, 0.16666666666666666, 0.16666666666666666, 0.15000000000000002, 1.1666666666666667, 2.2333333333333334, 2.216666666666667, 2.216666666666667, 2.2666666666666666, 2.283333333333333, 2.283333333333333, 2.283333333333333, 2.3333333333333335, 2.2333333333333334, 2.216666666666667, 2.216666666666667, 2.2666666666666666, 2.2333333333333334, 2.216666666666667, 2.216666666666667, 2.2666666666666666, 2.3333333333333335, 2.3166666666666664, 2.3166666666666664, 2.3166666666666664, 3.216666666666667, 3.216666666666667, 3.2333333333333334, 3.2666666666666666, 3.216666666666667, 3.216666666666667, 3.2333333333333334, 3.2666666666666666, 3.283333333333333, 3.283333333333333, 3.283333333333333, 3.3333333333333335, 3.3166666666666664, 3.3166666666666664, 3.3333333333333335, 3.3166666666666664, 3.216666666666667, 3.216666666666667, 3.2333333333333334, 3.2666666666666666, 3.1666666666666665, 3.15, 3.1666666666666665, 3.2, 3.2333333333333334, 3.216666666666667, 3.216666666666667, 3.2666666666666666, 3.2666666666666666, 3.25, 3.2666666666666666, 3.25, 3.283333333333333, 3.283333333333333, 3.283333333333333, 3.3333333333333335, 3.2333333333333334, 3.216666666666667, 3.216666666666667, 3.2666666666666666, 3.2333333333333334, 3.216666666666667, 3.216666666666667, 3.2666666666666666, 3.3333333333333335, 3.3166666666666664, 3.3166666666666664, 3.3166666666666664, 3.3166666666666664, 3.3166666666666664, 3.3333333333333335, 3.3166666666666664, 3.2666666666666666, 3.25, 3.2666666666666666, 3.25, 3.3333333333333335, 3.3166666666666664, 3.3166666666666664, 3.3166666666666664, 3.2666666666666666, 3.25, 3.2666666666666666, 3.25, 0.15000000000000002, 0.16666666666666669, 0.16666666666666669, 1.1666666666666667, 0.21666666666666667, 0.21666666666666667, 0.2333333333333333, 1.2333333333333334, 0.21666666666666667, 0.23333333333333336, 0.21666666666666667, 1.2166666666666668, 2.216666666666667, 2.2333333333333334, 2.216666666666667, 2.2666666666666666, 0.21666666666666667, 0.21666666666666667, 0.2333333333333333, 1.2333333333333334, 0.21666666666666667, 0.21666666666666667, 0.2333333333333333, 1.2333333333333334, 0.2833333333333333, 0.2833333333333333, 0.2833333333333333, 1.2833333333333332, 2.283333333333333, 2.283333333333333, 2.283333333333333, 2.3333333333333335, 0.21666666666666667, 0.23333333333333336, 0.21666666666666667, 1.2166666666666668, 0.2833333333333333, 0.2833333333333333, 0.2833333333333333, 1.2833333333333332, 0.21666666666666667, 0.23333333333333336, 0.21666666666666667, 1.2166666666666668, 2.216666666666667, 2.2333333333333334, 2.216666666666667, 2.2666666666666666, 2.216666666666667, 2.2333333333333334, 2.216666666666667, 2.2666666666666666, 2.283333333333333, 2.283333333333333, 2.283333333333333, 2.3333333333333335, 2.216666666666667, 2.2333333333333334, 2.216666666666667, 2.2666666666666666, 2.3166666666666664, 2.3333333333333335, 2.3166666666666664, 2.3166666666666664, 0.21666666666666667, 0.21666666666666667, 0.2333333333333333, 1.2333333333333334, 0.21666666666666667, 0.21666666666666667, 0.2333333333333333, 1.2333333333333334, 0.2833333333333333, 0.2833333333333333, 0.2833333333333333, 1.2833333333333332, 2.283333333333333, 2.283333333333333, 2.283333333333333, 2.3333333333333335, 0.21666666666666667, 0.21666666666666667, 0.2333333333333333, 1.2333333333333334, 0.16666666666666666, 0.15000000000000002, 0.16666666666666669, 1.1666666666666667, 0.2333333333333333, 0.21666666666666667, 0.21666666666666667, 1.2166666666666668, 2.2333333333333334, 2.216666666666667, 2.216666666666667, 2.2666666666666666, 0.2833333333333333, 0.2833333333333333, 0.2833333333333333, 1.2833333333333332, 0.2333333333333333, 0.21666666666666667, 0.21666666666666667, 1.2166666666666668, 0.2333333333333333, 0.21666666666666667, 0.21666666666666667, 1.2166666666666668, 2.2333333333333334, 2.216666666666667, 2.216666666666667, 2.2666666666666666, 2.283333333333333, 2.283333333333333, 2.283333333333333, 2.3333333333333335, 2.2333333333333334, 2.216666666666667, 2.216666666666667, 2.2666666666666666, 2.2333333333333334, 2.216666666666667, 2.216666666666667, 2.2666666666666666, 2.3333333333333335, 2.3166666666666664, 2.3166666666666664, 2.3166666666666664, 0.21666666666666667, 0.2333333333333333, 0.21666666666666667, 1.2166666666666668, 0.2833333333333333, 0.2833333333333333, 0.2833333333333333, 1.2833333333333332, 0.21666666666666667, 0.2333333333333333, 0.21666666666666667, 1.2166666666666668, 2.216666666666667, 2.2333333333333334, 2.216666666666667, 2.2666666666666666, 0.2833333333333333, 0.2833333333333333, 0.2833333333333333, 1.2833333333333332, 0.2333333333333333, 0.21666666666666667, 0.21666666666666667, 1.2166666666666668, 0.2333333333333333, 0.21666666666666667, 0.21666666666666667, 1.2166666666666668, 2.2333333333333334, 2.216666666666667, 2.216666666666667, 2.2666666666666666, 0.21666666666666667, 0.2333333333333333, 0.21666666666666667, 1.2166666666666668, 0.2333333333333333, 0.21666666666666667, 0.21666666666666667, 1.2166666666666668, 0.16666666666666666, 0.16666666666666666, 0.15000000000000002, 1.15, 2.1666666666666665, 2.1666666666666665, 2.15, 2.2, 2.216666666666667, 2.2333333333333334, 2.216666666666667, 2.2666666666666666, 2.2333333333333334, 2.216666666666667, 2.216666666666667, 2.2666666666666666, 2.1666666666666665, 2.1666666666666665, 2.15, 2.2, 2.2666666666666666, 2.2666666666666666, 2.25, 2.25, 3.216666666666667, 3.2333333333333334, 3.216666666666667, 3.2666666666666666, 3.283333333333333, 3.283333333333333, 3.283333333333333, 3.3333333333333335, 3.216666666666667, 3.2333333333333334, 3.216666666666667, 3.2666666666666666, 3.3166666666666664, 3.3333333333333335, 3.3166666666666664, 3.3166666666666664, 3.283333333333333, 3.283333333333333, 3.283333333333333, 3.3333333333333335, 3.2333333333333334, 3.216666666666667, 3.216666666666667, 3.2666666666666666, 3.2333333333333334, 3.216666666666667, 3.216666666666667, 3.2666666666666666, 3.3333333333333335, 3.3166666666666664, 3.3166666666666664, 3.3166666666666664, 3.216666666666667, 3.2333333333333334, 3.216666666666667, 3.2666666666666666, 3.2333333333333334, 3.216666666666667, 3.216666666666667, 3.2666666666666666, 3.1666666666666665, 3.1666666666666665, 3.15, 3.2, 3.2666666666666666, 3.2666666666666666, 3.25, 3.25, 3.3166666666666664, 3.3333333333333335, 3.3166666666666664, 3.3166666666666664, 3.3333333333333335, 3.3166666666666664, 3.3166666666666664, 3.3166666666666664, 3.2666666666666666, 3.2666666666666666, 3.25, 3.25, 3.2666666666666666, 3.2666666666666666, 3.25, 3.25, 9.216666666666667, 9.233333333333333, 9.233333333333333, 9.216666666666667, 9.283333333333333, 9.283333333333333, 9.3, 9.283333333333333, 9.283333333333333, 9.3, 9.283333333333333, 9.283333333333333, 9.216666666666667, 9.233333333333333, 9.233333333333333, 9.216666666666667, 9.283333333333333, 9.283333333333333, 9.3, 9.283333333333333, 9.233333333333333, 9.216666666666667, 9.233333333333333, 9.216666666666667, 9.3, 9.283333333333333, 9.283333333333333, 9.283333333333333, 9.233333333333333, 9.216666666666667, 9.233333333333333, 9.216666666666667, 9.283333333333333, 9.3, 9.283333333333333, 9.283333333333333, 9.3, 9.283333333333333, 9.283333333333333, 9.283333333333333, 9.233333333333333, 9.233333333333333, 9.216666666666667, 9.216666666666667, 9.233333333333333, 9.233333333333333, 9.216666666666667, 9.216666666666667, 9.216666666666667, 9.233333333333333, 9.233333333333333, 9.216666666666667, 9.233333333333333, 9.216666666666667, 9.233333333333333, 9.216666666666667, 9.233333333333333, 9.233333333333333, 9.216666666666667, 9.216666666666667, 9.166666666666666, 9.166666666666666, 9.166666666666666, 9.15, 4.316666666666666, 4.316666666666666, 4.333333333333333, 4.316666666666666, 4.266666666666667, 4.25, 4.266666666666667, 4.25, 4.333333333333333, 4.316666666666666, 4.316666666666666, 4.316666666666666, 4.266666666666667, 4.25, 4.266666666666667, 4.25, 4.266666666666667, 4.25, 4.266666666666667, 4.25, 1.2, 0.15000000000000002, 0.16666666666666669, 0.2, 1.2666666666666666, 0.21666666666666667, 0.21666666666666667, 0.26666666666666666, 1.25, 0.25, 0.26666666666666666, 0.25, 4.333333333333333, 4.316666666666666, 4.316666666666666, 4.316666666666666, 1.2666666666666666, 0.21666666666666667, 0.21666666666666667, 0.26666666666666666, 1.2666666666666666, 0.21666666666666667, 0.21666666666666667, 0.26666666666666666, 1.3166666666666667, 0.31666666666666665, 0.31666666666666665, 0.31666666666666665, 4.266666666666667, 4.25, 4.266666666666667, 4.25, 1.25, 0.25, 0.26666666666666666, 0.25, 1.3166666666666667, 0.31666666666666665, 0.31666666666666665, 0.31666666666666665, 1.25, 0.25, 0.26666666666666666, 0.25, 4.316666666666666, 4.333333333333333, 4.316666666666666, 4.316666666666666, 4.333333333333333, 4.316666666666666, 4.316666666666666, 4.316666666666666, 4.266666666666667, 4.266666666666667, 4.25, 4.25, 4.266666666666667, 4.266666666666667, 4.25, 4.25, 4.333333333333333, 4.316666666666666, 4.316666666666666, 4.316666666666666, 1.2666666666666666, 0.21666666666666667, 0.21666666666666667, 0.26666666666666666, 1.2666666666666666, 0.21666666666666667, 0.21666666666666667, 0.26666666666666666, 1.3166666666666667, 0.31666666666666665, 0.31666666666666665, 0.31666666666666665, 4.266666666666667, 4.266666666666667, 4.25, 4.25, 1.2666666666666666, 0.21666666666666667, 0.21666666666666667, 0.26666666666666666, 1.2, 0.16666666666666666, 0.15000000000000002, 0.2, 1.25, 0.26666666666666666, 0.25, 0.25, 4.266666666666667, 4.266666666666667, 4.25, 4.25, 1.3166666666666667, 0.31666666666666665, 0.31666666666666665, 0.31666666666666665, 1.25, 0.26666666666666666, 0.25, 0.25, 1.25, 0.26666666666666666, 0.25, 0.25, 4.216666666666667, 4.233333333333333, 4.233333333333333, 4.216666666666667, 4.233333333333333, 4.216666666666667, 4.233333333333333, 4.216666666666667, 4.233333333333333, 4.233333333333333, 4.216666666666667, 4.216666666666667, 4.166666666666667, 4.166666666666667, 4.166666666666667, 4.15, 4.233333333333333, 4.216666666666667, 4.233333333333333, 4.216666666666667, 1.2166666666666668, 0.21666666666666667, 0.2333333333333333, 0.21666666666666667, 1.2833333333333332, 0.2833333333333333, 0.2833333333333333, 0.2833333333333333, 1.2166666666666668, 0.21666666666666667, 0.2333333333333333, 0.21666666666666667, 4.233333333333333, 4.233333333333333, 4.216666666666667, 4.216666666666667, 1.2833333333333332, 0.2833333333333333, 0.2833333333333333, 0.2833333333333333, 1.2166666666666668, 0.23333333333333336, 0.21666666666666667, 0.21666666666666667, 1.2166666666666668, 0.23333333333333336, 0.21666666666666667, 0.21666666666666667, 4.166666666666667, 4.166666666666667, 4.166666666666667, 4.15, 1.2166666666666668, 0.21666666666666667, 0.2333333333333333, 0.21666666666666667, 1.2166666666666668, 0.23333333333333336, 0.21666666666666667, 0.21666666666666667, 1.15, 0.16666666666666669, 0.16666666666666669, 0.15000000000000002, 0.15000000000000002, 1.2, 0.16666666666666669, 0.2, 4.25, 4.266666666666667, 4.266666666666667, 4.25, 0.21666666666666667, 1.2666666666666666, 0.21666666666666667, 0.26666666666666666, 0.25, 1.25, 0.26666666666666666, 0.25, 4.25, 4.266666666666667, 4.266666666666667, 4.25, 4.316666666666666, 4.316666666666666, 4.333333333333333, 4.316666666666666, 4.316666666666666, 4.333333333333333, 4.316666666666666, 4.316666666666666, 4.25, 4.266666666666667, 4.266666666666667, 4.25, 0.21666666666666667, 1.2666666666666666, 0.21666666666666667, 0.26666666666666666, 4.316666666666666, 4.333333333333333, 4.316666666666666, 4.316666666666666, 0.21666666666666667, 1.2666666666666666, 0.21666666666666667, 0.26666666666666666, 0.31666666666666665, 1.3166666666666667, 0.31666666666666665, 0.31666666666666665, 0.25, 1.25, 0.26666666666666666, 0.25, 4.25, 4.266666666666667, 4.266666666666667, 4.25, 0.31666666666666665, 1.3166666666666667, 0.31666666666666665, 0.31666666666666665, 0.25, 1.25, 0.26666666666666666, 0.25, 9.216666666666667, 9.233333333333333, 9.233333333333333, 9.216666666666667, 9.283333333333333, 9.283333333333333, 9.3, 9.283333333333333, 9.283333333333333, 9.3, 9.283333333333333, 9.283333333333333, 9.216666666666667, 9.233333333333333, 9.233333333333333, 9.216666666666667, 9.283333333333333, 9.283333333333333, 9.3, 9.283333333333333, 9.233333333333333, 9.216666666666667, 9.233333333333333, 9.216666666666667, 9.3, 9.283333333333333, 9.283333333333333, 9.283333333333333, 9.233333333333333, 9.216666666666667, 9.233333333333333, 9.216666666666667, 9.283333333333333, 9.3, 9.283333333333333, 9.283333333333333, 9.3, 9.283333333333333, 9.283333333333333, 9.283333333333333, 9.233333333333333, 9.233333333333333, 9.216666666666667, 9.216666666666667, 9.233333333333333, 9.233333333333333, 9.216666666666667, 9.216666666666667, 9.216666666666667, 9.233333333333333, 9.233333333333333, 9.216666666666667, 9.233333333333333, 9.216666666666667, 9.233333333333333, 9.216666666666667, 9.233333333333333, 9.233333333333333, 9.216666666666667, 9.216666666666667, 9.166666666666666, 9.166666666666666, 9.166666666666666, 9.15, 0.21666666666666667, 1.2666666666666666, 0.21666666666666667, 0.26666666666666666, 4.316666666666666, 4.333333333333333, 4.316666666666666, 4.316666666666666, 0.21666666666666667, 1.2666666666666666, 0.21666666666666667, 0.26666666666666666, 0.31666666666666665, 1.3166666666666667, 0.31666666666666665, 0.31666666666666665, 4.316666666666666, 4.333333333333333, 4.316666666666666, 4.316666666666666, 4.333333333333333, 4.316666666666666, 4.316666666666666, 4.316666666666666, 4.266666666666667, 4.266666666666667, 4.25, 4.25, 4.266666666666667, 4.266666666666667, 4.25, 4.25, 0.21666666666666667, 1.2666666666666666, 0.21666666666666667, 0.26666666666666666, 4.266666666666667, 4.266666666666667, 4.25, 4.25, 0.16666666666666666, 1.2, 0.15000000000000002, 0.2, 0.26666666666666666, 1.25, 0.25, 0.25, 0.31666666666666665, 1.3166666666666667, 0.31666666666666665, 0.31666666666666665, 4.266666666666667, 4.266666666666667, 4.25, 4.25, 0.26666666666666666, 1.25, 0.25, 0.25, 0.26666666666666666, 1.25, 0.25, 0.25, 0.21666666666666667, 1.2166666666666668, 0.2333333333333333, 0.21666666666666667, 4.216666666666667, 4.233333333333333, 4.233333333333333, 4.216666666666667, 0.2833333333333333, 1.2833333333333332, 0.2833333333333333, 0.2833333333333333, 0.21666666666666667, 1.2166666666666668, 0.2333333333333333, 0.21666666666666667, 4.216666666666667, 4.233333333333333, 4.233333333333333, 4.216666666666667, 4.233333333333333, 4.216666666666667, 4.233333333333333, 4.216666666666667, 4.233333333333333, 4.233333333333333, 4.216666666666667, 4.216666666666667, 4.166666666666667, 4.166666666666667, 4.166666666666667, 4.15, 0.2833333333333333, 1.2833333333333332, 0.2833333333333333, 0.2833333333333333, 4.233333333333333, 4.233333333333333, 4.216666666666667, 4.216666666666667, 0.23333333333333336, 1.2166666666666668, 0.21666666666666667, 0.21666666666666667, 0.23333333333333336, 1.2166666666666668, 0.21666666666666667, 0.21666666666666667, 0.21666666666666667, 1.2166666666666668, 0.2333333333333333, 0.21666666666666667, 4.166666666666667, 4.166666666666667, 4.166666666666667, 4.15, 0.23333333333333336, 1.2166666666666668, 0.21666666666666667, 0.21666666666666667, 0.16666666666666669, 1.15, 0.16666666666666669, 0.15000000000000002, 0.15000000000000002, 0.16666666666666669, 1.2, 0.2, 0.21666666666666667, 0.21666666666666667, 1.2666666666666666, 0.26666666666666666, 4.25, 4.266666666666667, 4.266666666666667, 4.25, 0.25, 0.26666666666666666, 1.25, 0.25, 0.21666666666666667, 0.21666666666666667, 1.2666666666666666, 0.26666666666666666, 0.21666666666666667, 0.21666666666666667, 1.2666666666666666, 0.26666666666666666, 4.316666666666666, 4.316666666666666, 4.333333333333333, 4.316666666666666, 0.31666666666666665, 0.31666666666666665, 1.3166666666666667, 0.31666666666666665, 4.25, 4.266666666666667, 4.266666666666667, 4.25, 4.316666666666666, 4.316666666666666, 4.333333333333333, 4.316666666666666, 4.316666666666666, 4.333333333333333, 4.316666666666666, 4.316666666666666, 4.25, 4.266666666666667, 4.266666666666667, 4.25, 0.25, 0.26666666666666666, 1.25, 0.25, 0.31666666666666665, 0.31666666666666665, 1.3166666666666667, 0.31666666666666665, 4.25, 4.266666666666667, 4.266666666666667, 4.25, 0.25, 0.26666666666666666, 1.25, 0.25, 0.21666666666666667, 0.21666666666666667, 1.2666666666666666, 0.26666666666666666, 0.21666666666666667, 0.21666666666666667, 1.2666666666666666, 0.26666666666666666, 4.316666666666666, 4.316666666666666, 4.333333333333333, 4.316666666666666, 0.31666666666666665, 0.31666666666666665, 1.3166666666666667, 0.31666666666666665, 0.21666666666666667, 0.21666666666666667, 1.2666666666666666, 0.26666666666666666, 0.16666666666666666, 0.15000000000000002, 1.2, 0.2, 4.266666666666667, 4.25, 4.266666666666667, 4.25, 0.26666666666666666, 0.25, 1.25, 0.25, 4.316666666666666, 4.316666666666666, 4.333333333333333, 4.316666666666666, 4.266666666666667, 4.25, 4.266666666666667, 4.25, 4.333333333333333, 4.316666666666666, 4.316666666666666, 4.316666666666666, 4.266666666666667, 4.25, 4.266666666666667, 4.25, 0.31666666666666665, 0.31666666666666665, 1.3166666666666667, 0.31666666666666665, 0.26666666666666666, 0.25, 1.25, 0.25, 4.266666666666667, 4.25, 4.266666666666667, 4.25, 0.26666666666666666, 0.25, 1.25, 0.25, 9.216666666666667, 9.233333333333333, 9.233333333333333, 9.216666666666667, 9.283333333333333, 9.283333333333333, 9.3, 9.283333333333333, 9.283333333333333, 9.3, 9.283333333333333, 9.283333333333333, 9.216666666666667, 9.233333333333333, 9.233333333333333, 9.216666666666667, 9.283333333333333, 9.283333333333333, 9.3, 9.283333333333333, 9.233333333333333, 9.216666666666667, 9.233333333333333, 9.216666666666667, 9.3, 9.283333333333333, 9.283333333333333, 9.283333333333333, 9.233333333333333, 9.216666666666667, 9.233333333333333, 9.216666666666667, 9.283333333333333, 9.3, 9.283333333333333, 9.283333333333333, 9.3, 9.283333333333333, 9.283333333333333, 9.283333333333333, 9.233333333333333, 9.233333333333333, 9.216666666666667, 9.216666666666667, 9.233333333333333, 9.233333333333333, 9.216666666666667, 9.216666666666667, 9.216666666666667, 9.233333333333333, 9.233333333333333, 9.216666666666667, 9.233333333333333, 9.216666666666667, 9.233333333333333, 9.216666666666667, 9.233333333333333, 9.233333333333333, 9.216666666666667, 9.216666666666667, 9.166666666666666, 9.166666666666666, 9.166666666666666, 9.15, 0.21666666666666667, 0.2333333333333333, 1.2166666666666668, 0.21666666666666667, 0.2833333333333333, 0.2833333333333333, 1.2833333333333332, 0.2833333333333333, 4.216666666666667, 4.233333333333333, 4.233333333333333, 4.216666666666667, 0.21666666666666667, 0.2333333333333333, 1.2166666666666668, 0.21666666666666667, 0.2833333333333333, 0.2833333333333333, 1.2833333333333332, 0.2833333333333333, 0.23333333333333336, 0.21666666666666667, 1.2166666666666668, 0.21666666666666667, 4.233333333333333, 4.216666666666667, 4.233333333333333, 4.216666666666667, 0.23333333333333336, 0.21666666666666667, 1.2166666666666668, 0.21666666666666667, 4.216666666666667, 4.233333333333333, 4.233333333333333, 4.216666666666667, 4.233333333333333, 4.216666666666667, 4.233333333333333, 4.216666666666667, 4.233333333333333, 4.233333333333333, 4.216666666666667, 4.216666666666667, 4.166666666666667, 4.166666666666667, 4.166666666666667, 4.15, 0.21666666666666667, 0.2333333333333333, 1.2166666666666668, 0.21666666666666667, 0.23333333333333336, 0.21666666666666667, 1.2166666666666668, 0.21666666666666667, 4.166666666666667, 4.166666666666667, 4.166666666666667, 4.15, 0.16666666666666669, 0.16666666666666669, 1.15, 0.15000000000000002)\n2\n"
     ]
    }
   ],
   "source": [
    "# 3. ValueIteration\n",
    "mdpWarehouseValueIter = mdptoolbox.mdp.ValueIteration(T, R, 0.1, max_iter=10)\n",
    "# Run the MDP\n",
    "mdpWarehouseValueIter.run()\n",
    "\n",
    "print('Value Iteration:')\n",
    "print(mdpWarehouseValueIter.policy)\n",
    "print(mdpWarehouseValueIter.V)\n",
    "print(mdpWarehouseValueIter.iter)"
   ]
  },
  {
   "source": [
    "Now we evaluate the models and compare the needed steps for each model and also compare them to a greedy approach."
   ],
   "cell_type": "markdown",
   "metadata": {}
  },
  {
   "cell_type": "code",
   "execution_count": 121,
   "metadata": {
    "tags": [
     "outputPrepend"
    ]
   },
   "outputs": [
    {
     "output_type": "stream",
     "name": "stdout",
     "text": [
      "E', 'RED'), ('RESTORE', 'WHITE'), ('RESTORE', 'WHITE'), ('STORE', 'RED'), ('STORE', 'WHITE'), ('STORE', 'RED'), ('RESTORE', 'RED'), ('RESTORE', 'RED'), ('STORE', 'RED'), ('STORE', 'WHITE'), ('STORE', 'WHITE'), ('RESTORE', 'RED'), ('RESTORE', 'WHITE'), ('RESTORE', 'WHITE'), ('RESTORE', 'WHITE'), ('STORE', 'WHITE'), ('STORE', 'RED'), ('STORE', 'WHITE'), ('RESTORE', 'RED'), ('RESTORE', 'WHITE'), ('RESTORE', 'WHITE'), ('STORE', 'WHITE'), ('STORE', 'RED'), ('STORE', 'WHITE'), ('RESTORE', 'RED'), ('RESTORE', 'WHITE'), ('STORE', 'RED'), ('STORE', 'RED'), ('RESTORE', 'WHITE'), ('STORE', 'RED'), ('RESTORE', 'RED'), ('RESTORE', 'RED'), ('STORE', 'RED'), ('STORE', 'RED'), ('RESTORE', 'RED'), ('RESTORE', 'RED'), ('STORE', 'RED'), ('STORE', 'RED'), ('STORE', 'RED'), ('RESTORE', 'RED'), ('RESTORE', 'RED'), ('RESTORE', 'RED'), ('RESTORE', 'RED'), ('STORE', 'BLUE'), ('STORE', 'RED'), ('STORE', 'RED'), ('RESTORE', 'BLUE'), ('RESTORE', 'RED'), ('RESTORE', 'RED'), ('STORE', 'BLUE'), ('RESTORE', 'BLUE'), ('STORE', 'RED'), ('STORE', 'RED'), ('STORE', 'RED'), ('RESTORE', 'RED'), ('RESTORE', 'RED'), ('STORE', 'RED'), ('STORE', 'BLUE'), ('STORE', 'RED'), ('RESTORE', 'RED'), ('RESTORE', 'RED'), ('STORE', 'WHITE'), ('STORE', 'RED'), ('RESTORE', 'WHITE'), ('RESTORE', 'RED'), ('STORE', 'WHITE'), ('STORE', 'RED'), ('RESTORE', 'RED'), ('RESTORE', 'WHITE'), ('RESTORE', 'BLUE'), ('STORE', 'RED'), ('STORE', 'BLUE'), ('RESTORE', 'RED'), ('RESTORE', 'RED'), ('STORE', 'BLUE'), ('STORE', 'RED'), ('STORE', 'RED'), ('RESTORE', 'RED'), ('RESTORE', 'BLUE'), ('RESTORE', 'BLUE'), ('STORE', 'RED'), ('RESTORE', 'RED'), ('RESTORE', 'RED'), ('STORE', 'BLUE'), ('STORE', 'WHITE'), ('STORE', 'RED'), ('STORE', 'RED'), ('RESTORE', 'BLUE'), ('RESTORE', 'WHITE'), ('RESTORE', 'RED'), ('RESTORE', 'RED'), ('STORE', 'BLUE'), ('STORE', 'RED'), ('RESTORE', 'BLUE'), ('RESTORE', 'RED'), ('STORE', 'RED'), ('STORE', 'BLUE'), ('STORE', 'RED'), ('RESTORE', 'RED'), ('RESTORE', 'BLUE'), ('STORE', 'RED'), ('STORE', 'BLUE'), ('RESTORE', 'RED'), ('RESTORE', 'RED'), ('RESTORE', 'BLUE'), ('STORE', 'WHITE'), ('STORE', 'RED'), ('RESTORE', 'RED'), ('RESTORE', 'WHITE'), ('STORE', 'BLUE'), ('STORE', 'RED'), ('STORE', 'RED'), ('STORE', 'RED'), ('RESTORE', 'RED'), ('RESTORE', 'BLUE'), ('RESTORE', 'RED'), ('RESTORE', 'RED'), ('STORE', 'RED'), ('RESTORE', 'RED'), ('STORE', 'BLUE'), ('STORE', 'RED'), ('STORE', 'WHITE'), ('STORE', 'WHITE'), ('RESTORE', 'RED'), ('RESTORE', 'BLUE'), ('RESTORE', 'WHITE'), ('RESTORE', 'WHITE'), ('STORE', 'RED'), ('STORE', 'WHITE'), ('STORE', 'WHITE'), ('RESTORE', 'RED'), ('RESTORE', 'WHITE'), ('RESTORE', 'WHITE'), ('STORE', 'RED'), ('RESTORE', 'RED'), ('STORE', 'RED'), ('STORE', 'WHITE'), ('RESTORE', 'RED'), ('RESTORE', 'WHITE'), ('STORE', 'BLUE'), ('STORE', 'RED'), ('STORE', 'BLUE'), ('STORE', 'RED'), ('RESTORE', 'RED'), ('STORE', 'RED'), ('RESTORE', 'RED'), ('RESTORE', 'BLUE'), ('STORE', 'WHITE'), ('STORE', 'RED'), ('RESTORE', 'RED'), ('RESTORE', 'BLUE'), ('RESTORE', 'RED'), ('RESTORE', 'WHITE'), ('STORE', 'WHITE'), ('STORE', 'WHITE'), ('STORE', 'BLUE'), ('STORE', 'RED'), ('RESTORE', 'RED'), ('RESTORE', 'BLUE'), ('STORE', 'RED'), ('STORE', 'BLUE'), ('RESTORE', 'WHITE'), ('RESTORE', 'RED'), ('RESTORE', 'WHITE'), ('STORE', 'WHITE'), ('STORE', 'RED'), ('STORE', 'WHITE'), ('RESTORE', 'RED'), ('RESTORE', 'WHITE'), ('RESTORE', 'WHITE'), ('RESTORE', 'BLUE'), ('STORE', 'WHITE'), ('STORE', 'WHITE'), ('STORE', 'RED'), ('RESTORE', 'RED'), ('RESTORE', 'WHITE'), ('STORE', 'BLUE'), ('STORE', 'RED'), ('RESTORE', 'WHITE'), ('STORE', 'RED'), ('STORE', 'WHITE'), ('RESTORE', 'RED'), ('RESTORE', 'BLUE'), ('RESTORE', 'RED'), ('STORE', 'RED'), ('RESTORE', 'WHITE'), ('STORE', 'WHITE'), ('STORE', 'RED'), ('STORE', 'RED'), ('RESTORE', 'RED'), ('RESTORE', 'RED'), ('STORE', 'RED'), ('STORE', 'RED'), ('RESTORE', 'WHITE'), ('RESTORE', 'RED'), ('RESTORE', 'RED'), ('RESTORE', 'RED'), ('STORE', 'RED'), ('STORE', 'RED'), ('STORE', 'RED'), ('STORE', 'RED'), ('RESTORE', 'RED'), ('RESTORE', 'RED'), ('RESTORE', 'RED'), ('STORE', 'RED'), ('STORE', 'RED'), ('STORE', 'WHITE'), ('RESTORE', 'RED'), ('RESTORE', 'WHITE'), ('RESTORE', 'RED'), ('RESTORE', 'RED'), ('STORE', 'RED'), ('STORE', 'BLUE'), ('STORE', 'WHITE'), ('STORE', 'RED'), ('RESTORE', 'WHITE'), ('RESTORE', 'RED'), ('RESTORE', 'RED'), ('RESTORE', 'BLUE'), ('STORE', 'BLUE'), ('STORE', 'RED'), ('STORE', 'WHITE'), ('STORE', 'RED'), ('RESTORE', 'RED'), ('RESTORE', 'BLUE'), ('RESTORE', 'WHITE'), ('RESTORE', 'RED'), ('STORE', 'BLUE'), ('STORE', 'WHITE'), ('STORE', 'BLUE'), ('RESTORE', 'BLUE'), ('RESTORE', 'WHITE'), ('RESTORE', 'BLUE'), ('STORE', 'RED'), ('STORE', 'WHITE'), ('STORE', 'BLUE'), ('STORE', 'WHITE'), ('RESTORE', 'RED'), ('RESTORE', 'WHITE'), ('RESTORE', 'BLUE'), ('RESTORE', 'WHITE'), ('STORE', 'WHITE'), ('RESTORE', 'WHITE'), ('STORE', 'BLUE'), ('STORE', 'BLUE'), ('STORE', 'BLUE'), ('STORE', 'RED'), ('RESTORE', 'RED'), ('RESTORE', 'BLUE'), ('RESTORE', 'BLUE'), ('STORE', 'WHITE'), ('RESTORE', 'BLUE'), ('STORE', 'WHITE'), ('STORE', 'WHITE'), ('RESTORE', 'WHITE'), ('STORE', 'RED'), ('STORE', 'BLUE'), ('RESTORE', 'BLUE'), ('RESTORE', 'RED'), ('STORE', 'BLUE'), ('STORE', 'RED'), ('RESTORE', 'BLUE'), ('RESTORE', 'RED'), ('STORE', 'RED'), ('RESTORE', 'RED'), ('RESTORE', 'WHITE'), ('RESTORE', 'WHITE'), ('STORE', 'RED'), ('RESTORE', 'RED'), ('STORE', 'RED'), ('STORE', 'RED'), ('RESTORE', 'RED'), ('STORE', 'RED'), ('STORE', 'RED'), ('RESTORE', 'RED'), ('RESTORE', 'RED'), ('RESTORE', 'RED'), ('STORE', 'RED'), ('STORE', 'RED'), ('STORE', 'RED'), ('STORE', 'WHITE'), ('RESTORE', 'RED'), ('RESTORE', 'WHITE'), ('RESTORE', 'RED'), ('RESTORE', 'RED'), ('STORE', 'RED'), ('STORE', 'WHITE'), ('STORE', 'RED'), ('RESTORE', 'RED'), ('RESTORE', 'WHITE'), ('STORE', 'RED'), ('STORE', 'BLUE'), ('STORE', 'RED'), ('RESTORE', 'RED'), ('RESTORE', 'BLUE'), ('RESTORE', 'RED'), ('RESTORE', 'RED'), ('STORE', 'RED'), ('STORE', 'WHITE'), ('STORE', 'RED'), ('RESTORE', 'WHITE'), ('RESTORE', 'RED'), ('STORE', 'WHITE'), ('STORE', 'RED'), ('STORE', 'RED'), ('RESTORE', 'WHITE'), ('RESTORE', 'RED'), ('RESTORE', 'RED'), ('RESTORE', 'RED'), ('STORE', 'BLUE'), ('STORE', 'BLUE'), ('STORE', 'WHITE'), ('STORE', 'RED'), ('RESTORE', 'BLUE'), ('RESTORE', 'RED'), ('RESTORE', 'WHITE'), ('RESTORE', 'BLUE'), ('STORE', 'BLUE'), ('STORE', 'RED'), ('STORE', 'BLUE'), ('RESTORE', 'RED'), ('RESTORE', 'BLUE'), ('STORE', 'RED'), ('STORE', 'RED'), ('RESTORE', 'BLUE'), ('STORE', 'BLUE'), ('STORE', 'WHITE'), ('RESTORE', 'RED'), ('RESTORE', 'RED'), ('STORE', 'RED'), ('STORE', 'RED'), ('RESTORE', 'BLUE'), ('RESTORE', 'RED'), ('RESTORE', 'WHITE'), ('STORE', 'RED'), ('RESTORE', 'RED'), ('STORE', 'WHITE'), ('STORE', 'BLUE'), ('RESTORE', 'RED'), ('RESTORE', 'WHITE'), ('RESTORE', 'BLUE'), ('STORE', 'RED'), ('STORE', 'RED'), ('STORE', 'BLUE'), ('RESTORE', 'BLUE'), ('RESTORE', 'RED'), ('RESTORE', 'RED'), ('STORE', 'BLUE'), ('STORE', 'BLUE'), ('RESTORE', 'BLUE'), ('STORE', 'BLUE'), ('STORE', 'RED'), ('STORE', 'WHITE'), ('RESTORE', 'BLUE'), ('RESTORE', 'BLUE'), ('RESTORE', 'RED'), ('RESTORE', 'WHITE'), ('STORE', 'WHITE'), ('STORE', 'WHITE'), ('STORE', 'RED'), ('STORE', 'RED'), ('RESTORE', 'RED'), ('RESTORE', 'RED'), ('RESTORE', 'WHITE'), ('STORE', 'BLUE'), ('STORE', 'RED'), ('RESTORE', 'WHITE'), ('RESTORE', 'BLUE'), ('STORE', 'RED'), ('RESTORE', 'RED'), ('STORE', 'BLUE'), ('STORE', 'WHITE'), ('RESTORE', 'WHITE'), ('STORE', 'RED'), ('RESTORE', 'BLUE'), ('RESTORE', 'RED'), ('RESTORE', 'RED'), ('STORE', 'BLUE'), ('STORE', 'RED'), ('STORE', 'WHITE'), ('RESTORE', 'RED'), ('RESTORE', 'WHITE'), ('STORE', 'RED'), ('STORE', 'RED'), ('RESTORE', 'BLUE'), ('RESTORE', 'RED'), ('RESTORE', 'RED'), ('STORE', 'RED'), ('STORE', 'RED'), ('STORE', 'RED'), ('RESTORE', 'RED'), ('RESTORE', 'RED'), ('STORE', 'BLUE'), ('RESTORE', 'RED'), ('RESTORE', 'BLUE'), ('STORE', 'RED'), ('RESTORE', 'RED'), ('STORE', 'RED'), ('STORE', 'RED'), ('STORE', 'WHITE'), ('STORE', 'BLUE'), ('RESTORE', 'RED'), ('RESTORE', 'RED'), ('RESTORE', 'BLUE'), ('RESTORE', 'WHITE'), ('STORE', 'RED'), ('STORE', 'BLUE'), ('STORE', 'RED'), ('RESTORE', 'RED'), ('RESTORE', 'RED'), ('RESTORE', 'BLUE'), ('STORE', 'BLUE'), ('STORE', 'BLUE'), ('STORE', 'RED'), ('RESTORE', 'RED'), ('RESTORE', 'BLUE'), ('STORE', 'WHITE'), ('STORE', 'WHITE'), ('STORE', 'RED'), ('RESTORE', 'BLUE'), ('RESTORE', 'RED'), ('RESTORE', 'WHITE'), ('RESTORE', 'WHITE'), ('STORE', 'WHITE'), ('STORE', 'RED'), ('STORE', 'RED'), ('RESTORE', 'WHITE'), ('RESTORE', 'RED'), ('STORE', 'BLUE'), ('STORE', 'RED'), ('RESTORE', 'BLUE'), ('RESTORE', 'RED'), ('RESTORE', 'RED'), ('STORE', 'RED'), ('STORE', 'WHITE'), ('RESTORE', 'WHITE'), ('RESTORE', 'RED'), ('STORE', 'WHITE'), ('STORE', 'RED'), ('RESTORE', 'RED'), ('RESTORE', 'WHITE'), ('STORE', 'BLUE'), ('STORE', 'RED'), ('STORE', 'BLUE'), ('STORE', 'WHITE'), ('RESTORE', 'BLUE'), ('RESTORE', 'WHITE'), ('RESTORE', 'RED'), ('RESTORE', 'BLUE'), ('STORE', 'RED'), ('STORE', 'WHITE'), ('STORE', 'WHITE'), ('RESTORE', 'RED'), ('RESTORE', 'WHITE'), ('RESTORE', 'WHITE'), ('STORE', 'BLUE'), ('STORE', 'WHITE'), ('RESTORE', 'BLUE'), ('STORE', 'RED'), ('STORE', 'WHITE'), ('STORE', 'BLUE'), ('RESTORE', 'RED'), ('STORE', 'WHITE'), ('RESTORE', 'WHITE'), ('RESTORE', 'BLUE'), ('RESTORE', 'WHITE'), ('RESTORE', 'WHITE'), ('STORE', 'BLUE'), ('STORE', 'WHITE'), ('STORE', 'RED'), ('STORE', 'WHITE'), ('RESTORE', 'BLUE'), ('STORE', 'RED'), ('RESTORE', 'RED'), ('RESTORE', 'RED'), ('RESTORE', 'WHITE'), ('RESTORE', 'WHITE'), ('STORE', 'RED'), ('STORE', 'BLUE'), ('STORE', 'WHITE'), ('RESTORE', 'WHITE'), ('RESTORE', 'RED'), ('STORE', 'BLUE'), ('STORE', 'RED'), ('RESTORE', 'BLUE'), ('RESTORE', 'RED'), ('RESTORE', 'BLUE'), ('STORE', 'BLUE'), ('STORE', 'WHITE'), ('STORE', 'WHITE'), ('STORE', 'RED'), ('RESTORE', 'WHITE'), ('RESTORE', 'BLUE'), ('STORE', 'WHITE'), ('STORE', 'WHITE'), ('RESTORE', 'WHITE'), ('RESTORE', 'WHITE'), ('RESTORE', 'WHITE'), ('RESTORE', 'RED'), ('STORE', 'WHITE'), ('STORE', 'RED'), ('RESTORE', 'RED'), ('RESTORE', 'WHITE'), ('STORE', 'WHITE'), ('STORE', 'RED'), ('STORE', 'WHITE'), ('STORE', 'RED'), ('RESTORE', 'RED'), ('RESTORE', 'RED'), ('STORE', 'RED'), ('STORE', 'BLUE'), ('RESTORE', 'RED'), ('RESTORE', 'BLUE'), ('RESTORE', 'WHITE'), ('RESTORE', 'WHITE'), ('STORE', 'RED'), ('STORE', 'RED'), ('RESTORE', 'RED'), ('STORE', 'RED'), ('STORE', 'WHITE'), ('STORE', 'RED'), ('RESTORE', 'RED'), ('RESTORE', 'RED'), ('RESTORE', 'WHITE'), ('RESTORE', 'RED'), ('STORE', 'WHITE'), ('STORE', 'RED'), ('RESTORE', 'RED'), ('STORE', 'WHITE'), ('RESTORE', 'WHITE'), ('STORE', 'WHITE'), ('STORE', 'RED'), ('RESTORE', 'WHITE'), ('RESTORE', 'WHITE'), ('STORE', 'RED'), ('RESTORE', 'RED'), ('RESTORE', 'RED'), ('STORE', 'RED'), ('STORE', 'BLUE'), ('STORE', 'RED'), ('RESTORE', 'RED'), ('RESTORE', 'BLUE'), ('RESTORE', 'RED'), ('STORE', 'RED'), ('STORE', 'RED'), ('STORE', 'BLUE'), ('STORE', 'WHITE'), ('RESTORE', 'RED'), ('RESTORE', 'RED'), ('RESTORE', 'BLUE'), ('STORE', 'RED'), ('STORE', 'RED'), ('RESTORE', 'RED'), ('RESTORE', 'WHITE'), ('RESTORE', 'RED'), ('STORE', 'RED'), ('RESTORE', 'RED'), ('STORE', 'RED'), ('RESTORE', 'RED'), ('STORE', 'RED'), ('STORE', 'WHITE'), ('STORE', 'RED'), ('RESTORE', 'RED'), ('STORE', 'RED'), ('STORE', 'WHITE'), ('RESTORE', 'RED'), ('RESTORE', 'RED'), ('RESTORE', 'WHITE'), ('STORE', 'BLUE'), ('RESTORE', 'WHITE'), ('STORE', 'BLUE'), ('STORE', 'WHITE'), ('STORE', 'WHITE'), ('RESTORE', 'BLUE'), ('RESTORE', 'BLUE'), ('RESTORE', 'WHITE'), ('STORE', 'RED'), ('STORE', 'RED'), ('RESTORE', 'RED'), ('RESTORE', 'WHITE'), ('STORE', 'RED'), ('STORE', 'RED'), ('STORE', 'RED'), ('RESTORE', 'RED'), ('RESTORE', 'RED'), ('RESTORE', 'RED'), ('STORE', 'RED'), ('STORE', 'BLUE'), ('STORE', 'BLUE'), ('RESTORE', 'RED'), ('RESTORE', 'BLUE'), ('RESTORE', 'BLUE'), ('STORE', 'WHITE'), ('STORE', 'RED'), ('STORE', 'BLUE'), ('RESTORE', 'RED'), ('RESTORE', 'BLUE'), ('RESTORE', 'WHITE'), ('RESTORE', 'RED'), ('STORE', 'RED'), ('RESTORE', 'RED'), ('STORE', 'BLUE'), ('RESTORE', 'BLUE'), ('STORE', 'RED'), ('STORE', 'WHITE'), ('STORE', 'RED'), ('STORE', 'RED'), ('RESTORE', 'RED'), ('STORE', 'RED'), ('RESTORE', 'RED'), ('RESTORE', 'RED'), ('RESTORE', 'RED'), ('STORE', 'BLUE'), ('STORE', 'RED'), ('STORE', 'WHITE'), ('RESTORE', 'RED'), ('STORE', 'BLUE'), ('RESTORE', 'WHITE'), ('RESTORE', 'WHITE'), ('STORE', 'WHITE'), ('RESTORE', 'WHITE'), ('STORE', 'BLUE'), ('STORE', 'BLUE'), ('RESTORE', 'BLUE'), ('RESTORE', 'BLUE'), ('RESTORE', 'BLUE'), ('RESTORE', 'BLUE'), ('STORE', 'RED'), ('STORE', 'BLUE'), ('RESTORE', 'RED'), ('STORE', 'WHITE'), ('STORE', 'RED'), ('STORE', 'BLUE'), ('RESTORE', 'RED'), ('RESTORE', 'WHITE'), ('RESTORE', 'BLUE'), ('RESTORE', 'BLUE'), ('STORE', 'RED'), ('STORE', 'RED'), ('STORE', 'BLUE'), ('STORE', 'RED'), ('RESTORE', 'RED'), ('RESTORE', 'RED'), ('STORE', 'WHITE'), ('STORE', 'WHITE'), ('RESTORE', 'RED'), ('RESTORE', 'BLUE'), ('RESTORE', 'WHITE'), ('RESTORE', 'WHITE'), ('STORE', 'WHITE'), ('RESTORE', 'WHITE'), ('STORE', 'BLUE'), ('RESTORE', 'BLUE'), ('STORE', 'RED'), ('STORE', 'RED'), ('STORE', 'RED'), ('RESTORE', 'RED'), ('RESTORE', 'RED'), ('RESTORE', 'RED'), ('STORE', 'WHITE'), ('STORE', 'BLUE'), ('STORE', 'BLUE'), ('STORE', 'WHITE'), ('RESTORE', 'WHITE'), ('RESTORE', 'BLUE'), ('RESTORE', 'BLUE'), ('STORE', 'WHITE'), ('STORE', 'BLUE'), ('STORE', 'WHITE'), ('RESTORE', 'WHITE'), ('RESTORE', 'BLUE'), ('STORE', 'RED'), ('STORE', 'BLUE'), ('RESTORE', 'WHITE'), ('STORE', 'RED'), ('RESTORE', 'RED'), ('STORE', 'WHITE'), ('RESTORE', 'RED'), ('RESTORE', 'WHITE'), ('RESTORE', 'WHITE'), ('RESTORE', 'BLUE'), ('STORE', 'WHITE'), ('STORE', 'RED'), ('STORE', 'RED'), ('STORE', 'RED'), ('RESTORE', 'WHITE'), ('RESTORE', 'RED'), ('RESTORE', 'RED'), ('RESTORE', 'RED'), ('STORE', 'RED'), ('STORE', 'RED'), ('STORE', 'WHITE'), ('STORE', 'RED'), ('RESTORE', 'RED'), ('RESTORE', 'WHITE'), ('STORE', 'BLUE'), ('STORE', 'BLUE'), ('RESTORE', 'RED'), ('RESTORE', 'BLUE'), ('RESTORE', 'BLUE'), ('RESTORE', 'RED'), ('STORE', 'RED'), ('STORE', 'WHITE'), ('STORE', 'BLUE'), ('RESTORE', 'BLUE'), ('RESTORE', 'RED'), ('STORE', 'WHITE'), ('STORE', 'WHITE'), ('RESTORE', 'WHITE'), ('RESTORE', 'WHITE'), ('RESTORE', 'WHITE'), ('STORE', 'WHITE'), ('RESTORE', 'WHITE'), ('STORE', 'WHITE'), ('STORE', 'RED'), ('STORE', 'RED'), ('STORE', 'WHITE'), ('RESTORE', 'RED'), ('RESTORE', 'RED'), ('RESTORE', 'WHITE'), ('STORE', 'RED'), ('RESTORE', 'RED'), ('RESTORE', 'WHITE'), ('STORE', 'WHITE'), ('STORE', 'RED'), ('RESTORE', 'WHITE'), ('STORE', 'RED'), ('STORE', 'BLUE'), ('STORE', 'BLUE'), ('RESTORE', 'BLUE'), ('RESTORE', 'RED'), ('RESTORE', 'RED'), ('STORE', 'RED'), ('STORE', 'BLUE'), ('STORE', 'RED'), ('RESTORE', 'BLUE'), ('RESTORE', 'BLUE'), ('STORE', 'RED'), ('RESTORE', 'RED'), ('RESTORE', 'RED'), ('STORE', 'RED'), ('STORE', 'RED'), ('RESTORE', 'RED'), ('RESTORE', 'RED'), ('RESTORE', 'RED'), ('STORE', 'WHITE'), ('STORE', 'RED'), ('STORE', 'RED'), ('STORE', 'WHITE'), ('RESTORE', 'RED'), ('RESTORE', 'RED'), ('STORE', 'BLUE'), ('STORE', 'WHITE'), ('RESTORE', 'WHITE'), ('RESTORE', 'BLUE'), ('RESTORE', 'WHITE'), ('RESTORE', 'WHITE'), ('STORE', 'RED'), ('STORE', 'RED'), ('STORE', 'RED'), ('RESTORE', 'RED'), ('RESTORE', 'RED'), ('RESTORE', 'RED'), ('STORE', 'BLUE'), ('STORE', 'RED'), ('RESTORE', 'RED'), ('RESTORE', 'BLUE'), ('STORE', 'RED'), ('STORE', 'WHITE'), ('RESTORE', 'RED'), ('RESTORE', 'WHITE'), ('STORE', 'BLUE'), ('STORE', 'WHITE'), ('STORE', 'BLUE'), ('RESTORE', 'WHITE'), ('STORE', 'WHITE'), ('STORE', 'RED'), ('RESTORE', 'WHITE'), ('RESTORE', 'RED'), ('RESTORE', 'BLUE'), ('STORE', 'BLUE'), ('RESTORE', 'BLUE'), ('STORE', 'WHITE'), ('RESTORE', 'WHITE'), ('RESTORE', 'BLUE'), ('STORE', 'WHITE'), ('STORE', 'RED'), ('STORE', 'RED'), ('STORE', 'WHITE'), ('RESTORE', 'RED'), ('RESTORE', 'RED'), ('RESTORE', 'WHITE'), ('RESTORE', 'WHITE'), ('STORE', 'WHITE'), ('STORE', 'BLUE'), ('STORE', 'RED'), ('STORE', 'RED'), ('RESTORE', 'RED'), ('RESTORE', 'WHITE'), ('RESTORE', 'RED'), ('RESTORE', 'BLUE'), ('STORE', 'BLUE'), ('STORE', 'WHITE'), ('STORE', 'RED'), ('RESTORE', 'BLUE'), ('STORE', 'WHITE'), ('RESTORE', 'RED'), ('RESTORE', 'WHITE'), ('RESTORE', 'WHITE'), ('STORE', 'RED'), ('STORE', 'BLUE'), ('STORE', 'RED'), ('RESTORE', 'RED'), ('RESTORE', 'RED'), ('RESTORE', 'BLUE'), ('STORE', 'RED'), ('STORE', 'BLUE'), ('RESTORE', 'BLUE'), ('RESTORE', 'RED'), ('STORE', 'BLUE'), ('STORE', 'RED'), ('STORE', 'BLUE'), ('RESTORE', 'BLUE'), ('RESTORE', 'RED'), ('RESTORE', 'BLUE'), ('STORE', 'RED'), ('STORE', 'RED'), ('STORE', 'BLUE'), ('STORE', 'WHITE'), ('RESTORE', 'BLUE'), ('RESTORE', 'WHITE'), ('STORE', 'RED'), ('STORE', 'WHITE'), ('RESTORE', 'WHITE'), ('RESTORE', 'RED'), ('RESTORE', 'RED'), ('RESTORE', 'RED'), ('STORE', 'RED'), ('STORE', 'BLUE'), ('STORE', 'WHITE'), ('STORE', 'RED'), ('RESTORE', 'RED'), ('RESTORE', 'BLUE'), ('STORE', 'RED'), ('STORE', 'WHITE'), ('RESTORE', 'RED'), ('STORE', 'RED'), ('RESTORE', 'WHITE'), ('RESTORE', 'RED'), ('RESTORE', 'RED'), ('STORE', 'RED'), ('RESTORE', 'RED'), ('STORE', 'BLUE'), ('STORE', 'RED'), ('RESTORE', 'WHITE'), ('RESTORE', 'BLUE'), ('RESTORE', 'RED'), ('STORE', 'WHITE'), ('RESTORE', 'WHITE'), ('STORE', 'WHITE'), ('RESTORE', 'WHITE'), ('STORE', 'BLUE'), ('STORE', 'RED'), ('STORE', 'RED'), ('STORE', 'RED'), ('RESTORE', 'RED'), ('STORE', 'WHITE'), ('RESTORE', 'RED'), ('RESTORE', 'RED'), ('STORE', 'BLUE'), ('RESTORE', 'BLUE'), ('RESTORE', 'WHITE'), ('RESTORE', 'BLUE'), ('STORE', 'WHITE'), ('STORE', 'BLUE'), ('STORE', 'BLUE'), ('STORE', 'WHITE'), ('RESTORE', 'BLUE'), ('RESTORE', 'BLUE'), ('STORE', 'RED'), ('STORE', 'WHITE'), ('RESTORE', 'RED'), ('RESTORE', 'WHITE'), ('RESTORE', 'WHITE'), ('RESTORE', 'WHITE'), ('STORE', 'WHITE'), ('STORE', 'RED'), ('STORE', 'RED'), ('STORE', 'RED'), ('RESTORE', 'RED'), ('RESTORE', 'RED'), ('RESTORE', 'WHITE'), ('RESTORE', 'RED'), ('STORE', 'RED'), ('STORE', 'RED'), ('STORE', 'WHITE'), ('RESTORE', 'RED'), ('RESTORE', 'WHITE'), ('RESTORE', 'RED'), ('STORE', 'RED'), ('STORE', 'WHITE'), ('STORE', 'RED'), ('RESTORE', 'RED'), ('RESTORE', 'RED'), ('STORE', 'RED'), ('RESTORE', 'RED'), ('STORE', 'RED'), ('RESTORE', 'WHITE'), ('STORE', 'RED'), ('STORE', 'RED'), ('RESTORE', 'RED'), ('RESTORE', 'RED'), ('RESTORE', 'RED'), ('STORE', 'RED'), ('RESTORE', 'RED'), ('STORE', 'WHITE'), ('STORE', 'RED'), ('STORE', 'BLUE'), ('RESTORE', 'WHITE'), ('STORE', 'WHITE'), ('RESTORE', 'RED'), ('RESTORE', 'BLUE'), ('RESTORE', 'WHITE'), ('STORE', 'WHITE'), ('STORE', 'RED'), ('STORE', 'RED'), ('RESTORE', 'WHITE'), ('RESTORE', 'RED'), ('RESTORE', 'RED'), ('STORE', 'WHITE'), ('STORE', 'RED'), ('STORE', 'RED'), ('RESTORE', 'RED'), ('RESTORE', 'RED'), ('STORE', 'RED'), ('STORE', 'BLUE'), ('STORE', 'WHITE'), ('RESTORE', 'WHITE'), ('RESTORE', 'BLUE'), ('RESTORE', 'WHITE'), ('RESTORE', 'RED'), ('STORE', 'BLUE'), ('STORE', 'BLUE'), ('STORE', 'WHITE'), ('RESTORE', 'WHITE'), ('RESTORE', 'BLUE'), ('STORE', 'BLUE'), ('STORE', 'WHITE'), ('STORE', 'BLUE'), ('RESTORE', 'BLUE'), ('RESTORE', 'BLUE'), ('RESTORE', 'BLUE'), ('RESTORE', 'WHITE'), ('STORE', 'RED'), ('STORE', 'WHITE'), ('STORE', 'RED'), ('STORE', 'RED'), ('RESTORE', 'RED'), ('STORE', 'WHITE'), ('RESTORE', 'RED'), ('RESTORE', 'WHITE'), ('RESTORE', 'RED'), ('RESTORE', 'WHITE'), ('STORE', 'RED'), ('STORE', 'BLUE'), ('RESTORE', 'RED'), ('RESTORE', 'BLUE'), ('STORE', 'RED'), ('STORE', 'RED'), ('RESTORE', 'RED'), ('RESTORE', 'RED'), ('STORE', 'WHITE'), ('STORE', 'RED'), ('STORE', 'RED'), ('RESTORE', 'RED'), ('STORE', 'RED'), ('RESTORE', 'RED'), ('RESTORE', 'RED'), ('RESTORE', 'WHITE'), ('STORE', 'RED'), ('STORE', 'RED'), ('STORE', 'WHITE'), ('RESTORE', 'RED'), ('RESTORE', 'RED'), ('STORE', 'WHITE'), ('RESTORE', 'WHITE'), ('STORE', 'BLUE'), ('RESTORE', 'BLUE'), ('STORE', 'RED'), ('STORE', 'BLUE'), ('STORE', 'RED'), ('RESTORE', 'RED'), ('RESTORE', 'BLUE'), ('RESTORE', 'RED'), ('STORE', 'RED'), ('STORE', 'RED'), ('RESTORE', 'RED'), ('STORE', 'RED'), ('RESTORE', 'RED'), ('RESTORE', 'RED'), ('RESTORE', 'WHITE'), ('STORE', 'BLUE'), ('RESTORE', 'BLUE'), ('STORE', 'RED'), ('STORE', 'WHITE'), ('STORE', 'BLUE'), ('STORE', 'WHITE'), ('RESTORE', 'BLUE'), ('STORE', 'RED'), ('RESTORE', 'RED'), ('RESTORE', 'RED'), ('RESTORE', 'WHITE')]\n"
     ]
    }
   ],
   "source": [
    "stepsTaken = [1, 2, 2, 3]\n",
    "\n",
    "# get all test actions form the test file in a list\n",
    "def getTestActions(warehouseorder):\n",
    "    actionList = []\n",
    "    for line in warehouseorder:\n",
    "        split = line.split('\\t')\n",
    "        curOperation = split[0].upper()\n",
    "        curItem = split[1].strip('\\n').upper()\n",
    "        curAction = (curOperation, curItem)\n",
    "        actionList.append(curAction)\n",
    "    return actionList\n",
    "\n",
    "# evaluate a greedy approach, always store/restore at the nearest possible field\n",
    "def greedyStorage(actionList):\n",
    "    curState = ['EMPTY', 'EMPTY', 'EMPTY', 'EMPTY']\n",
    "    steps = 0\n",
    "\n",
    "    for (operation, item) in actionList:\n",
    "        # case operation not possible\n",
    "        if ((operation == 'STORE') and ('EMPTY' not in curState)) \\\n",
    "            or ((operation == 'RESTORE') and (item not in curState)):\n",
    "            print(\"does this happen?\") # => with our test data this is never the case\n",
    "        else:\n",
    "            if operation == 'STORE':\n",
    "                # store in the nearest field\n",
    "                for i in range(0, len(curState)):\n",
    "                    if curState[i] == 'EMPTY':\n",
    "                        curState[i] = item\n",
    "                        steps += stepsTaken[i]\n",
    "                        break\n",
    "            # restore operation\n",
    "            else:\n",
    "                for i in range(0, len(curState)):\n",
    "                    if curState[i] == item:\n",
    "                        curState[i] = 'EMPTY'\n",
    "                        steps += stepsTaken[i]\n",
    "                        break\n",
    "    return steps    \n",
    "\n",
    "print(actions)\n",
    "warehouseorder = open('Exercise4_warehousetraining2x2.txt')\n",
    "actionList = getTestActions(warehouseorder)\n",
    "greedySteps = greedyStorage(actionList)\n",
    "print(greedySteps)\n",
    "print(actionList)"
   ]
  },
  {
   "cell_type": "code",
   "execution_count": 122,
   "metadata": {
    "tags": []
   },
   "outputs": [
    {
     "output_type": "stream",
     "name": "stdout",
     "text": [
      "Greedy approach steps:14401\n",
      "Policy iteration steps:14401\n",
      "Value iteration steps:14401\n",
      "Q learning steps:8487\n"
     ]
    }
   ],
   "source": [
    "# evaluate how much steps our mdp models will take:\n",
    "def evaluateMDPModel(mdpModel, actions, actionList):\n",
    "    steps = 0\n",
    "    policy = mdpModel.policy\n",
    "    V = mdpModel.V\n",
    "    actionSteps = [1,2,2,3]\n",
    "    curState = ['EMPTY', 'EMPTY', 'EMPTY', 'EMPTY']\n",
    "    for action in actionList:\n",
    "        # iterate through actions, transition via policy\n",
    "        curStateIndex = states.index([action] + curState)\n",
    "        actionField = policy[curStateIndex]\n",
    "        steps += actionSteps[actionField]\n",
    "        # change state for next action\n",
    "        (operation, item) = action\n",
    "        if operation == 'STORE':\n",
    "            curState[actionField] = item\n",
    "        else:\n",
    "            curState[actionField] = 'EMPTY'\n",
    "      \n",
    "    return steps    \n",
    "\n",
    "print(\"Greedy approach steps:\" + str(greedySteps))\n",
    "\n",
    "policyIterationSteps = evaluateMDPModel(mdpWarehousePolicy, actions, actionList)\n",
    "print(\"Policy iteration steps:\" + str(policyIterationSteps))\n",
    "\n",
    "valueIterationSteps = evaluateMDPModel(mdpWarehouseValueIter, actions, actionList)\n",
    "print(\"Value iteration steps:\" + str(valueIterationSteps))\n",
    "\n",
    "QlearningSteps = evaluateMDPModel(mdpWarehouseQ, actions, actionList)\n",
    "print(\"Q learning steps:\" + str(QlearningSteps))"
   ]
  },
  {
   "cell_type": "code",
   "execution_count": null,
   "metadata": {},
   "outputs": [],
   "source": []
  }
 ]
}