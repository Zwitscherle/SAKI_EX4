{
 "metadata": {
  "language_info": {
   "codemirror_mode": {
    "name": "ipython",
    "version": 3
   },
   "file_extension": ".py",
   "mimetype": "text/x-python",
   "name": "python",
   "nbconvert_exporter": "python",
   "pygments_lexer": "ipython3",
   "version": "3.9.1"
  },
  "orig_nbformat": 4,
  "kernelspec": {
   "name": "python3",
   "display_name": "Python 3.9.1 64-bit ('saki4': venv)"
  },
  "interpreter": {
   "hash": "ad4ad34c08212da66dc6d04eda780af769d3ee710939179ad84caa50910b2cc9"
  }
 },
 "nbformat": 4,
 "nbformat_minor": 2,
 "cells": [
  {
   "source": [
    "This is the Smart Factory Exercise."
   ],
   "cell_type": "markdown",
   "metadata": {}
  },
  {
   "cell_type": "code",
   "execution_count": 2,
   "metadata": {},
   "outputs": [],
   "source": [
    "import mdptoolbox, mdptoolbox.example\n",
    "import numpy as np\n",
    "import itertools"
   ]
  },
  {
   "source": [
    "Define all items, states and actions of our model. <br>\n",
    "* We have three different items (WHITE, BLUE, RED)\n",
    "* We have four different possible states of each warehouse field (EMPTY, WHITE, BLUE, RED)\n",
    "* We have six possible actions for our agent (STORE and RESTORE in combination with each item color)"
   ],
   "cell_type": "markdown",
   "metadata": {}
  },
  {
   "cell_type": "code",
   "execution_count": 3,
   "metadata": {},
   "outputs": [
    {
     "output_type": "stream",
     "name": "stdout",
     "text": [
      "['WHITE', 'BLUE', 'RED']\n['WHITE', 'BLUE', 'RED', 'EMPTY']\n[(0, 0), (0, 1), (1, 0), (1, 1)]\n[('STORE', 'WHITE'), ('STORE', 'BLUE'), ('STORE', 'RED'), ('RESTORE', 'WHITE'), ('RESTORE', 'BLUE'), ('RESTORE', 'RED')]\n"
     ]
    }
   ],
   "source": [
    "def createWarehouseFields(length, height):\n",
    "    warehouseFields = []\n",
    "    for i in range(0, length):\n",
    "        for j in range(0, height):\n",
    "            warehouseFields.append((i,j))\n",
    "    return warehouseFields\n",
    "\n",
    "n = 2\n",
    "warehouseFields = createWarehouseFields(n, n)\n",
    "\n",
    "actions = warehouseFields.copy()\n",
    "\n",
    "\n",
    "items = ['WHITE', 'BLUE', 'RED']\n",
    "operations = ['STORE', 'RESTORE']\n",
    "warehouseState = ['WHITE', 'BLUE', 'RED', 'EMPTY']\n",
    "operationsWithItems = []\n",
    "for operation in operations:\n",
    "    for item in items:\n",
    "        operationsWithItems.append((operation, item))\n",
    "\n",
    "\n",
    "# warehouse size n x n (in our case n = 2)\n",
    "\n",
    "print(items)\n",
    "print(warehouseState)\n",
    "print(actions)\n",
    "print(operationsWithItems)"
   ]
  },
  {
   "source": [
    "Create all fields of the warehouse of size lenght x heigth (in our case 2 x 2)"
   ],
   "cell_type": "markdown",
   "metadata": {}
  },
  {
   "cell_type": "code",
   "execution_count": 82,
   "metadata": {
    "tags": []
   },
   "outputs": [
    {
     "output_type": "stream",
     "name": "stdout",
     "text": [
      "[(0, 0), (0, 1), (1, 0), (1, 1)]\n"
     ]
    }
   ],
   "source": []
  },
  {
   "source": [
    "Next create all possible states of our warehouse. \n",
    "In our case we have 4 fields with 4 different states each (EMPTY, WHITE, BLUE, RED), which results in 4^4 states."
   ],
   "cell_type": "markdown",
   "metadata": {}
  },
  {
   "cell_type": "code",
   "execution_count": 49,
   "metadata": {
    "tags": [
     "outputPrepend"
    ]
   },
   "outputs": [
    {
     "output_type": "stream",
     "name": "stdout",
     "text": [
      ", [('RESTORE', 'BLUE'), 'RED', 'BLUE', 'BLUE', 'RED'], [('RESTORE', 'BLUE'), 'RED', 'BLUE', 'BLUE', 'EMPTY'], [('RESTORE', 'BLUE'), 'RED', 'BLUE', 'RED', 'WHITE'], [('RESTORE', 'BLUE'), 'RED', 'BLUE', 'RED', 'BLUE'], [('RESTORE', 'BLUE'), 'RED', 'BLUE', 'RED', 'RED'], [('RESTORE', 'BLUE'), 'RED', 'BLUE', 'RED', 'EMPTY'], [('RESTORE', 'BLUE'), 'RED', 'BLUE', 'EMPTY', 'WHITE'], [('RESTORE', 'BLUE'), 'RED', 'BLUE', 'EMPTY', 'BLUE'], [('RESTORE', 'BLUE'), 'RED', 'BLUE', 'EMPTY', 'RED'], [('RESTORE', 'BLUE'), 'RED', 'BLUE', 'EMPTY', 'EMPTY'], [('RESTORE', 'BLUE'), 'RED', 'RED', 'WHITE', 'WHITE'], [('RESTORE', 'BLUE'), 'RED', 'RED', 'WHITE', 'BLUE'], [('RESTORE', 'BLUE'), 'RED', 'RED', 'WHITE', 'RED'], [('RESTORE', 'BLUE'), 'RED', 'RED', 'WHITE', 'EMPTY'], [('RESTORE', 'BLUE'), 'RED', 'RED', 'BLUE', 'WHITE'], [('RESTORE', 'BLUE'), 'RED', 'RED', 'BLUE', 'BLUE'], [('RESTORE', 'BLUE'), 'RED', 'RED', 'BLUE', 'RED'], [('RESTORE', 'BLUE'), 'RED', 'RED', 'BLUE', 'EMPTY'], [('RESTORE', 'BLUE'), 'RED', 'RED', 'RED', 'WHITE'], [('RESTORE', 'BLUE'), 'RED', 'RED', 'RED', 'BLUE'], [('RESTORE', 'BLUE'), 'RED', 'RED', 'RED', 'RED'], [('RESTORE', 'BLUE'), 'RED', 'RED', 'RED', 'EMPTY'], [('RESTORE', 'BLUE'), 'RED', 'RED', 'EMPTY', 'WHITE'], [('RESTORE', 'BLUE'), 'RED', 'RED', 'EMPTY', 'BLUE'], [('RESTORE', 'BLUE'), 'RED', 'RED', 'EMPTY', 'RED'], [('RESTORE', 'BLUE'), 'RED', 'RED', 'EMPTY', 'EMPTY'], [('RESTORE', 'BLUE'), 'RED', 'EMPTY', 'WHITE', 'WHITE'], [('RESTORE', 'BLUE'), 'RED', 'EMPTY', 'WHITE', 'BLUE'], [('RESTORE', 'BLUE'), 'RED', 'EMPTY', 'WHITE', 'RED'], [('RESTORE', 'BLUE'), 'RED', 'EMPTY', 'WHITE', 'EMPTY'], [('RESTORE', 'BLUE'), 'RED', 'EMPTY', 'BLUE', 'WHITE'], [('RESTORE', 'BLUE'), 'RED', 'EMPTY', 'BLUE', 'BLUE'], [('RESTORE', 'BLUE'), 'RED', 'EMPTY', 'BLUE', 'RED'], [('RESTORE', 'BLUE'), 'RED', 'EMPTY', 'BLUE', 'EMPTY'], [('RESTORE', 'BLUE'), 'RED', 'EMPTY', 'RED', 'WHITE'], [('RESTORE', 'BLUE'), 'RED', 'EMPTY', 'RED', 'BLUE'], [('RESTORE', 'BLUE'), 'RED', 'EMPTY', 'RED', 'RED'], [('RESTORE', 'BLUE'), 'RED', 'EMPTY', 'RED', 'EMPTY'], [('RESTORE', 'BLUE'), 'RED', 'EMPTY', 'EMPTY', 'WHITE'], [('RESTORE', 'BLUE'), 'RED', 'EMPTY', 'EMPTY', 'BLUE'], [('RESTORE', 'BLUE'), 'RED', 'EMPTY', 'EMPTY', 'RED'], [('RESTORE', 'BLUE'), 'RED', 'EMPTY', 'EMPTY', 'EMPTY'], [('RESTORE', 'BLUE'), 'EMPTY', 'WHITE', 'WHITE', 'WHITE'], [('RESTORE', 'BLUE'), 'EMPTY', 'WHITE', 'WHITE', 'BLUE'], [('RESTORE', 'BLUE'), 'EMPTY', 'WHITE', 'WHITE', 'RED'], [('RESTORE', 'BLUE'), 'EMPTY', 'WHITE', 'WHITE', 'EMPTY'], [('RESTORE', 'BLUE'), 'EMPTY', 'WHITE', 'BLUE', 'WHITE'], [('RESTORE', 'BLUE'), 'EMPTY', 'WHITE', 'BLUE', 'BLUE'], [('RESTORE', 'BLUE'), 'EMPTY', 'WHITE', 'BLUE', 'RED'], [('RESTORE', 'BLUE'), 'EMPTY', 'WHITE', 'BLUE', 'EMPTY'], [('RESTORE', 'BLUE'), 'EMPTY', 'WHITE', 'RED', 'WHITE'], [('RESTORE', 'BLUE'), 'EMPTY', 'WHITE', 'RED', 'BLUE'], [('RESTORE', 'BLUE'), 'EMPTY', 'WHITE', 'RED', 'RED'], [('RESTORE', 'BLUE'), 'EMPTY', 'WHITE', 'RED', 'EMPTY'], [('RESTORE', 'BLUE'), 'EMPTY', 'WHITE', 'EMPTY', 'WHITE'], [('RESTORE', 'BLUE'), 'EMPTY', 'WHITE', 'EMPTY', 'BLUE'], [('RESTORE', 'BLUE'), 'EMPTY', 'WHITE', 'EMPTY', 'RED'], [('RESTORE', 'BLUE'), 'EMPTY', 'WHITE', 'EMPTY', 'EMPTY'], [('RESTORE', 'BLUE'), 'EMPTY', 'BLUE', 'WHITE', 'WHITE'], [('RESTORE', 'BLUE'), 'EMPTY', 'BLUE', 'WHITE', 'BLUE'], [('RESTORE', 'BLUE'), 'EMPTY', 'BLUE', 'WHITE', 'RED'], [('RESTORE', 'BLUE'), 'EMPTY', 'BLUE', 'WHITE', 'EMPTY'], [('RESTORE', 'BLUE'), 'EMPTY', 'BLUE', 'BLUE', 'WHITE'], [('RESTORE', 'BLUE'), 'EMPTY', 'BLUE', 'BLUE', 'BLUE'], [('RESTORE', 'BLUE'), 'EMPTY', 'BLUE', 'BLUE', 'RED'], [('RESTORE', 'BLUE'), 'EMPTY', 'BLUE', 'BLUE', 'EMPTY'], [('RESTORE', 'BLUE'), 'EMPTY', 'BLUE', 'RED', 'WHITE'], [('RESTORE', 'BLUE'), 'EMPTY', 'BLUE', 'RED', 'BLUE'], [('RESTORE', 'BLUE'), 'EMPTY', 'BLUE', 'RED', 'RED'], [('RESTORE', 'BLUE'), 'EMPTY', 'BLUE', 'RED', 'EMPTY'], [('RESTORE', 'BLUE'), 'EMPTY', 'BLUE', 'EMPTY', 'WHITE'], [('RESTORE', 'BLUE'), 'EMPTY', 'BLUE', 'EMPTY', 'BLUE'], [('RESTORE', 'BLUE'), 'EMPTY', 'BLUE', 'EMPTY', 'RED'], [('RESTORE', 'BLUE'), 'EMPTY', 'BLUE', 'EMPTY', 'EMPTY'], [('RESTORE', 'BLUE'), 'EMPTY', 'RED', 'WHITE', 'WHITE'], [('RESTORE', 'BLUE'), 'EMPTY', 'RED', 'WHITE', 'BLUE'], [('RESTORE', 'BLUE'), 'EMPTY', 'RED', 'WHITE', 'RED'], [('RESTORE', 'BLUE'), 'EMPTY', 'RED', 'WHITE', 'EMPTY'], [('RESTORE', 'BLUE'), 'EMPTY', 'RED', 'BLUE', 'WHITE'], [('RESTORE', 'BLUE'), 'EMPTY', 'RED', 'BLUE', 'BLUE'], [('RESTORE', 'BLUE'), 'EMPTY', 'RED', 'BLUE', 'RED'], [('RESTORE', 'BLUE'), 'EMPTY', 'RED', 'BLUE', 'EMPTY'], [('RESTORE', 'BLUE'), 'EMPTY', 'RED', 'RED', 'WHITE'], [('RESTORE', 'BLUE'), 'EMPTY', 'RED', 'RED', 'BLUE'], [('RESTORE', 'BLUE'), 'EMPTY', 'RED', 'RED', 'RED'], [('RESTORE', 'BLUE'), 'EMPTY', 'RED', 'RED', 'EMPTY'], [('RESTORE', 'BLUE'), 'EMPTY', 'RED', 'EMPTY', 'WHITE'], [('RESTORE', 'BLUE'), 'EMPTY', 'RED', 'EMPTY', 'BLUE'], [('RESTORE', 'BLUE'), 'EMPTY', 'RED', 'EMPTY', 'RED'], [('RESTORE', 'BLUE'), 'EMPTY', 'RED', 'EMPTY', 'EMPTY'], [('RESTORE', 'BLUE'), 'EMPTY', 'EMPTY', 'WHITE', 'WHITE'], [('RESTORE', 'BLUE'), 'EMPTY', 'EMPTY', 'WHITE', 'BLUE'], [('RESTORE', 'BLUE'), 'EMPTY', 'EMPTY', 'WHITE', 'RED'], [('RESTORE', 'BLUE'), 'EMPTY', 'EMPTY', 'WHITE', 'EMPTY'], [('RESTORE', 'BLUE'), 'EMPTY', 'EMPTY', 'BLUE', 'WHITE'], [('RESTORE', 'BLUE'), 'EMPTY', 'EMPTY', 'BLUE', 'BLUE'], [('RESTORE', 'BLUE'), 'EMPTY', 'EMPTY', 'BLUE', 'RED'], [('RESTORE', 'BLUE'), 'EMPTY', 'EMPTY', 'BLUE', 'EMPTY'], [('RESTORE', 'BLUE'), 'EMPTY', 'EMPTY', 'RED', 'WHITE'], [('RESTORE', 'BLUE'), 'EMPTY', 'EMPTY', 'RED', 'BLUE'], [('RESTORE', 'BLUE'), 'EMPTY', 'EMPTY', 'RED', 'RED'], [('RESTORE', 'BLUE'), 'EMPTY', 'EMPTY', 'RED', 'EMPTY'], [('RESTORE', 'BLUE'), 'EMPTY', 'EMPTY', 'EMPTY', 'WHITE'], [('RESTORE', 'BLUE'), 'EMPTY', 'EMPTY', 'EMPTY', 'BLUE'], [('RESTORE', 'BLUE'), 'EMPTY', 'EMPTY', 'EMPTY', 'RED'], [('RESTORE', 'BLUE'), 'EMPTY', 'EMPTY', 'EMPTY', 'EMPTY'], [('RESTORE', 'RED'), 'WHITE', 'WHITE', 'WHITE', 'WHITE'], [('RESTORE', 'RED'), 'WHITE', 'WHITE', 'WHITE', 'BLUE'], [('RESTORE', 'RED'), 'WHITE', 'WHITE', 'WHITE', 'RED'], [('RESTORE', 'RED'), 'WHITE', 'WHITE', 'WHITE', 'EMPTY'], [('RESTORE', 'RED'), 'WHITE', 'WHITE', 'BLUE', 'WHITE'], [('RESTORE', 'RED'), 'WHITE', 'WHITE', 'BLUE', 'BLUE'], [('RESTORE', 'RED'), 'WHITE', 'WHITE', 'BLUE', 'RED'], [('RESTORE', 'RED'), 'WHITE', 'WHITE', 'BLUE', 'EMPTY'], [('RESTORE', 'RED'), 'WHITE', 'WHITE', 'RED', 'WHITE'], [('RESTORE', 'RED'), 'WHITE', 'WHITE', 'RED', 'BLUE'], [('RESTORE', 'RED'), 'WHITE', 'WHITE', 'RED', 'RED'], [('RESTORE', 'RED'), 'WHITE', 'WHITE', 'RED', 'EMPTY'], [('RESTORE', 'RED'), 'WHITE', 'WHITE', 'EMPTY', 'WHITE'], [('RESTORE', 'RED'), 'WHITE', 'WHITE', 'EMPTY', 'BLUE'], [('RESTORE', 'RED'), 'WHITE', 'WHITE', 'EMPTY', 'RED'], [('RESTORE', 'RED'), 'WHITE', 'WHITE', 'EMPTY', 'EMPTY'], [('RESTORE', 'RED'), 'WHITE', 'BLUE', 'WHITE', 'WHITE'], [('RESTORE', 'RED'), 'WHITE', 'BLUE', 'WHITE', 'BLUE'], [('RESTORE', 'RED'), 'WHITE', 'BLUE', 'WHITE', 'RED'], [('RESTORE', 'RED'), 'WHITE', 'BLUE', 'WHITE', 'EMPTY'], [('RESTORE', 'RED'), 'WHITE', 'BLUE', 'BLUE', 'WHITE'], [('RESTORE', 'RED'), 'WHITE', 'BLUE', 'BLUE', 'BLUE'], [('RESTORE', 'RED'), 'WHITE', 'BLUE', 'BLUE', 'RED'], [('RESTORE', 'RED'), 'WHITE', 'BLUE', 'BLUE', 'EMPTY'], [('RESTORE', 'RED'), 'WHITE', 'BLUE', 'RED', 'WHITE'], [('RESTORE', 'RED'), 'WHITE', 'BLUE', 'RED', 'BLUE'], [('RESTORE', 'RED'), 'WHITE', 'BLUE', 'RED', 'RED'], [('RESTORE', 'RED'), 'WHITE', 'BLUE', 'RED', 'EMPTY'], [('RESTORE', 'RED'), 'WHITE', 'BLUE', 'EMPTY', 'WHITE'], [('RESTORE', 'RED'), 'WHITE', 'BLUE', 'EMPTY', 'BLUE'], [('RESTORE', 'RED'), 'WHITE', 'BLUE', 'EMPTY', 'RED'], [('RESTORE', 'RED'), 'WHITE', 'BLUE', 'EMPTY', 'EMPTY'], [('RESTORE', 'RED'), 'WHITE', 'RED', 'WHITE', 'WHITE'], [('RESTORE', 'RED'), 'WHITE', 'RED', 'WHITE', 'BLUE'], [('RESTORE', 'RED'), 'WHITE', 'RED', 'WHITE', 'RED'], [('RESTORE', 'RED'), 'WHITE', 'RED', 'WHITE', 'EMPTY'], [('RESTORE', 'RED'), 'WHITE', 'RED', 'BLUE', 'WHITE'], [('RESTORE', 'RED'), 'WHITE', 'RED', 'BLUE', 'BLUE'], [('RESTORE', 'RED'), 'WHITE', 'RED', 'BLUE', 'RED'], [('RESTORE', 'RED'), 'WHITE', 'RED', 'BLUE', 'EMPTY'], [('RESTORE', 'RED'), 'WHITE', 'RED', 'RED', 'WHITE'], [('RESTORE', 'RED'), 'WHITE', 'RED', 'RED', 'BLUE'], [('RESTORE', 'RED'), 'WHITE', 'RED', 'RED', 'RED'], [('RESTORE', 'RED'), 'WHITE', 'RED', 'RED', 'EMPTY'], [('RESTORE', 'RED'), 'WHITE', 'RED', 'EMPTY', 'WHITE'], [('RESTORE', 'RED'), 'WHITE', 'RED', 'EMPTY', 'BLUE'], [('RESTORE', 'RED'), 'WHITE', 'RED', 'EMPTY', 'RED'], [('RESTORE', 'RED'), 'WHITE', 'RED', 'EMPTY', 'EMPTY'], [('RESTORE', 'RED'), 'WHITE', 'EMPTY', 'WHITE', 'WHITE'], [('RESTORE', 'RED'), 'WHITE', 'EMPTY', 'WHITE', 'BLUE'], [('RESTORE', 'RED'), 'WHITE', 'EMPTY', 'WHITE', 'RED'], [('RESTORE', 'RED'), 'WHITE', 'EMPTY', 'WHITE', 'EMPTY'], [('RESTORE', 'RED'), 'WHITE', 'EMPTY', 'BLUE', 'WHITE'], [('RESTORE', 'RED'), 'WHITE', 'EMPTY', 'BLUE', 'BLUE'], [('RESTORE', 'RED'), 'WHITE', 'EMPTY', 'BLUE', 'RED'], [('RESTORE', 'RED'), 'WHITE', 'EMPTY', 'BLUE', 'EMPTY'], [('RESTORE', 'RED'), 'WHITE', 'EMPTY', 'RED', 'WHITE'], [('RESTORE', 'RED'), 'WHITE', 'EMPTY', 'RED', 'BLUE'], [('RESTORE', 'RED'), 'WHITE', 'EMPTY', 'RED', 'RED'], [('RESTORE', 'RED'), 'WHITE', 'EMPTY', 'RED', 'EMPTY'], [('RESTORE', 'RED'), 'WHITE', 'EMPTY', 'EMPTY', 'WHITE'], [('RESTORE', 'RED'), 'WHITE', 'EMPTY', 'EMPTY', 'BLUE'], [('RESTORE', 'RED'), 'WHITE', 'EMPTY', 'EMPTY', 'RED'], [('RESTORE', 'RED'), 'WHITE', 'EMPTY', 'EMPTY', 'EMPTY'], [('RESTORE', 'RED'), 'BLUE', 'WHITE', 'WHITE', 'WHITE'], [('RESTORE', 'RED'), 'BLUE', 'WHITE', 'WHITE', 'BLUE'], [('RESTORE', 'RED'), 'BLUE', 'WHITE', 'WHITE', 'RED'], [('RESTORE', 'RED'), 'BLUE', 'WHITE', 'WHITE', 'EMPTY'], [('RESTORE', 'RED'), 'BLUE', 'WHITE', 'BLUE', 'WHITE'], [('RESTORE', 'RED'), 'BLUE', 'WHITE', 'BLUE', 'BLUE'], [('RESTORE', 'RED'), 'BLUE', 'WHITE', 'BLUE', 'RED'], [('RESTORE', 'RED'), 'BLUE', 'WHITE', 'BLUE', 'EMPTY'], [('RESTORE', 'RED'), 'BLUE', 'WHITE', 'RED', 'WHITE'], [('RESTORE', 'RED'), 'BLUE', 'WHITE', 'RED', 'BLUE'], [('RESTORE', 'RED'), 'BLUE', 'WHITE', 'RED', 'RED'], [('RESTORE', 'RED'), 'BLUE', 'WHITE', 'RED', 'EMPTY'], [('RESTORE', 'RED'), 'BLUE', 'WHITE', 'EMPTY', 'WHITE'], [('RESTORE', 'RED'), 'BLUE', 'WHITE', 'EMPTY', 'BLUE'], [('RESTORE', 'RED'), 'BLUE', 'WHITE', 'EMPTY', 'RED'], [('RESTORE', 'RED'), 'BLUE', 'WHITE', 'EMPTY', 'EMPTY'], [('RESTORE', 'RED'), 'BLUE', 'BLUE', 'WHITE', 'WHITE'], [('RESTORE', 'RED'), 'BLUE', 'BLUE', 'WHITE', 'BLUE'], [('RESTORE', 'RED'), 'BLUE', 'BLUE', 'WHITE', 'RED'], [('RESTORE', 'RED'), 'BLUE', 'BLUE', 'WHITE', 'EMPTY'], [('RESTORE', 'RED'), 'BLUE', 'BLUE', 'BLUE', 'WHITE'], [('RESTORE', 'RED'), 'BLUE', 'BLUE', 'BLUE', 'BLUE'], [('RESTORE', 'RED'), 'BLUE', 'BLUE', 'BLUE', 'RED'], [('RESTORE', 'RED'), 'BLUE', 'BLUE', 'BLUE', 'EMPTY'], [('RESTORE', 'RED'), 'BLUE', 'BLUE', 'RED', 'WHITE'], [('RESTORE', 'RED'), 'BLUE', 'BLUE', 'RED', 'BLUE'], [('RESTORE', 'RED'), 'BLUE', 'BLUE', 'RED', 'RED'], [('RESTORE', 'RED'), 'BLUE', 'BLUE', 'RED', 'EMPTY'], [('RESTORE', 'RED'), 'BLUE', 'BLUE', 'EMPTY', 'WHITE'], [('RESTORE', 'RED'), 'BLUE', 'BLUE', 'EMPTY', 'BLUE'], [('RESTORE', 'RED'), 'BLUE', 'BLUE', 'EMPTY', 'RED'], [('RESTORE', 'RED'), 'BLUE', 'BLUE', 'EMPTY', 'EMPTY'], [('RESTORE', 'RED'), 'BLUE', 'RED', 'WHITE', 'WHITE'], [('RESTORE', 'RED'), 'BLUE', 'RED', 'WHITE', 'BLUE'], [('RESTORE', 'RED'), 'BLUE', 'RED', 'WHITE', 'RED'], [('RESTORE', 'RED'), 'BLUE', 'RED', 'WHITE', 'EMPTY'], [('RESTORE', 'RED'), 'BLUE', 'RED', 'BLUE', 'WHITE'], [('RESTORE', 'RED'), 'BLUE', 'RED', 'BLUE', 'BLUE'], [('RESTORE', 'RED'), 'BLUE', 'RED', 'BLUE', 'RED'], [('RESTORE', 'RED'), 'BLUE', 'RED', 'BLUE', 'EMPTY'], [('RESTORE', 'RED'), 'BLUE', 'RED', 'RED', 'WHITE'], [('RESTORE', 'RED'), 'BLUE', 'RED', 'RED', 'BLUE'], [('RESTORE', 'RED'), 'BLUE', 'RED', 'RED', 'RED'], [('RESTORE', 'RED'), 'BLUE', 'RED', 'RED', 'EMPTY'], [('RESTORE', 'RED'), 'BLUE', 'RED', 'EMPTY', 'WHITE'], [('RESTORE', 'RED'), 'BLUE', 'RED', 'EMPTY', 'BLUE'], [('RESTORE', 'RED'), 'BLUE', 'RED', 'EMPTY', 'RED'], [('RESTORE', 'RED'), 'BLUE', 'RED', 'EMPTY', 'EMPTY'], [('RESTORE', 'RED'), 'BLUE', 'EMPTY', 'WHITE', 'WHITE'], [('RESTORE', 'RED'), 'BLUE', 'EMPTY', 'WHITE', 'BLUE'], [('RESTORE', 'RED'), 'BLUE', 'EMPTY', 'WHITE', 'RED'], [('RESTORE', 'RED'), 'BLUE', 'EMPTY', 'WHITE', 'EMPTY'], [('RESTORE', 'RED'), 'BLUE', 'EMPTY', 'BLUE', 'WHITE'], [('RESTORE', 'RED'), 'BLUE', 'EMPTY', 'BLUE', 'BLUE'], [('RESTORE', 'RED'), 'BLUE', 'EMPTY', 'BLUE', 'RED'], [('RESTORE', 'RED'), 'BLUE', 'EMPTY', 'BLUE', 'EMPTY'], [('RESTORE', 'RED'), 'BLUE', 'EMPTY', 'RED', 'WHITE'], [('RESTORE', 'RED'), 'BLUE', 'EMPTY', 'RED', 'BLUE'], [('RESTORE', 'RED'), 'BLUE', 'EMPTY', 'RED', 'RED'], [('RESTORE', 'RED'), 'BLUE', 'EMPTY', 'RED', 'EMPTY'], [('RESTORE', 'RED'), 'BLUE', 'EMPTY', 'EMPTY', 'WHITE'], [('RESTORE', 'RED'), 'BLUE', 'EMPTY', 'EMPTY', 'BLUE'], [('RESTORE', 'RED'), 'BLUE', 'EMPTY', 'EMPTY', 'RED'], [('RESTORE', 'RED'), 'BLUE', 'EMPTY', 'EMPTY', 'EMPTY'], [('RESTORE', 'RED'), 'RED', 'WHITE', 'WHITE', 'WHITE'], [('RESTORE', 'RED'), 'RED', 'WHITE', 'WHITE', 'BLUE'], [('RESTORE', 'RED'), 'RED', 'WHITE', 'WHITE', 'RED'], [('RESTORE', 'RED'), 'RED', 'WHITE', 'WHITE', 'EMPTY'], [('RESTORE', 'RED'), 'RED', 'WHITE', 'BLUE', 'WHITE'], [('RESTORE', 'RED'), 'RED', 'WHITE', 'BLUE', 'BLUE'], [('RESTORE', 'RED'), 'RED', 'WHITE', 'BLUE', 'RED'], [('RESTORE', 'RED'), 'RED', 'WHITE', 'BLUE', 'EMPTY'], [('RESTORE', 'RED'), 'RED', 'WHITE', 'RED', 'WHITE'], [('RESTORE', 'RED'), 'RED', 'WHITE', 'RED', 'BLUE'], [('RESTORE', 'RED'), 'RED', 'WHITE', 'RED', 'RED'], [('RESTORE', 'RED'), 'RED', 'WHITE', 'RED', 'EMPTY'], [('RESTORE', 'RED'), 'RED', 'WHITE', 'EMPTY', 'WHITE'], [('RESTORE', 'RED'), 'RED', 'WHITE', 'EMPTY', 'BLUE'], [('RESTORE', 'RED'), 'RED', 'WHITE', 'EMPTY', 'RED'], [('RESTORE', 'RED'), 'RED', 'WHITE', 'EMPTY', 'EMPTY'], [('RESTORE', 'RED'), 'RED', 'BLUE', 'WHITE', 'WHITE'], [('RESTORE', 'RED'), 'RED', 'BLUE', 'WHITE', 'BLUE'], [('RESTORE', 'RED'), 'RED', 'BLUE', 'WHITE', 'RED'], [('RESTORE', 'RED'), 'RED', 'BLUE', 'WHITE', 'EMPTY'], [('RESTORE', 'RED'), 'RED', 'BLUE', 'BLUE', 'WHITE'], [('RESTORE', 'RED'), 'RED', 'BLUE', 'BLUE', 'BLUE'], [('RESTORE', 'RED'), 'RED', 'BLUE', 'BLUE', 'RED'], [('RESTORE', 'RED'), 'RED', 'BLUE', 'BLUE', 'EMPTY'], [('RESTORE', 'RED'), 'RED', 'BLUE', 'RED', 'WHITE'], [('RESTORE', 'RED'), 'RED', 'BLUE', 'RED', 'BLUE'], [('RESTORE', 'RED'), 'RED', 'BLUE', 'RED', 'RED'], [('RESTORE', 'RED'), 'RED', 'BLUE', 'RED', 'EMPTY'], [('RESTORE', 'RED'), 'RED', 'BLUE', 'EMPTY', 'WHITE'], [('RESTORE', 'RED'), 'RED', 'BLUE', 'EMPTY', 'BLUE'], [('RESTORE', 'RED'), 'RED', 'BLUE', 'EMPTY', 'RED'], [('RESTORE', 'RED'), 'RED', 'BLUE', 'EMPTY', 'EMPTY'], [('RESTORE', 'RED'), 'RED', 'RED', 'WHITE', 'WHITE'], [('RESTORE', 'RED'), 'RED', 'RED', 'WHITE', 'BLUE'], [('RESTORE', 'RED'), 'RED', 'RED', 'WHITE', 'RED'], [('RESTORE', 'RED'), 'RED', 'RED', 'WHITE', 'EMPTY'], [('RESTORE', 'RED'), 'RED', 'RED', 'BLUE', 'WHITE'], [('RESTORE', 'RED'), 'RED', 'RED', 'BLUE', 'BLUE'], [('RESTORE', 'RED'), 'RED', 'RED', 'BLUE', 'RED'], [('RESTORE', 'RED'), 'RED', 'RED', 'BLUE', 'EMPTY'], [('RESTORE', 'RED'), 'RED', 'RED', 'RED', 'WHITE'], [('RESTORE', 'RED'), 'RED', 'RED', 'RED', 'BLUE'], [('RESTORE', 'RED'), 'RED', 'RED', 'RED', 'RED'], [('RESTORE', 'RED'), 'RED', 'RED', 'RED', 'EMPTY'], [('RESTORE', 'RED'), 'RED', 'RED', 'EMPTY', 'WHITE'], [('RESTORE', 'RED'), 'RED', 'RED', 'EMPTY', 'BLUE'], [('RESTORE', 'RED'), 'RED', 'RED', 'EMPTY', 'RED'], [('RESTORE', 'RED'), 'RED', 'RED', 'EMPTY', 'EMPTY'], [('RESTORE', 'RED'), 'RED', 'EMPTY', 'WHITE', 'WHITE'], [('RESTORE', 'RED'), 'RED', 'EMPTY', 'WHITE', 'BLUE'], [('RESTORE', 'RED'), 'RED', 'EMPTY', 'WHITE', 'RED'], [('RESTORE', 'RED'), 'RED', 'EMPTY', 'WHITE', 'EMPTY'], [('RESTORE', 'RED'), 'RED', 'EMPTY', 'BLUE', 'WHITE'], [('RESTORE', 'RED'), 'RED', 'EMPTY', 'BLUE', 'BLUE'], [('RESTORE', 'RED'), 'RED', 'EMPTY', 'BLUE', 'RED'], [('RESTORE', 'RED'), 'RED', 'EMPTY', 'BLUE', 'EMPTY'], [('RESTORE', 'RED'), 'RED', 'EMPTY', 'RED', 'WHITE'], [('RESTORE', 'RED'), 'RED', 'EMPTY', 'RED', 'BLUE'], [('RESTORE', 'RED'), 'RED', 'EMPTY', 'RED', 'RED'], [('RESTORE', 'RED'), 'RED', 'EMPTY', 'RED', 'EMPTY'], [('RESTORE', 'RED'), 'RED', 'EMPTY', 'EMPTY', 'WHITE'], [('RESTORE', 'RED'), 'RED', 'EMPTY', 'EMPTY', 'BLUE'], [('RESTORE', 'RED'), 'RED', 'EMPTY', 'EMPTY', 'RED'], [('RESTORE', 'RED'), 'RED', 'EMPTY', 'EMPTY', 'EMPTY'], [('RESTORE', 'RED'), 'EMPTY', 'WHITE', 'WHITE', 'WHITE'], [('RESTORE', 'RED'), 'EMPTY', 'WHITE', 'WHITE', 'BLUE'], [('RESTORE', 'RED'), 'EMPTY', 'WHITE', 'WHITE', 'RED'], [('RESTORE', 'RED'), 'EMPTY', 'WHITE', 'WHITE', 'EMPTY'], [('RESTORE', 'RED'), 'EMPTY', 'WHITE', 'BLUE', 'WHITE'], [('RESTORE', 'RED'), 'EMPTY', 'WHITE', 'BLUE', 'BLUE'], [('RESTORE', 'RED'), 'EMPTY', 'WHITE', 'BLUE', 'RED'], [('RESTORE', 'RED'), 'EMPTY', 'WHITE', 'BLUE', 'EMPTY'], [('RESTORE', 'RED'), 'EMPTY', 'WHITE', 'RED', 'WHITE'], [('RESTORE', 'RED'), 'EMPTY', 'WHITE', 'RED', 'BLUE'], [('RESTORE', 'RED'), 'EMPTY', 'WHITE', 'RED', 'RED'], [('RESTORE', 'RED'), 'EMPTY', 'WHITE', 'RED', 'EMPTY'], [('RESTORE', 'RED'), 'EMPTY', 'WHITE', 'EMPTY', 'WHITE'], [('RESTORE', 'RED'), 'EMPTY', 'WHITE', 'EMPTY', 'BLUE'], [('RESTORE', 'RED'), 'EMPTY', 'WHITE', 'EMPTY', 'RED'], [('RESTORE', 'RED'), 'EMPTY', 'WHITE', 'EMPTY', 'EMPTY'], [('RESTORE', 'RED'), 'EMPTY', 'BLUE', 'WHITE', 'WHITE'], [('RESTORE', 'RED'), 'EMPTY', 'BLUE', 'WHITE', 'BLUE'], [('RESTORE', 'RED'), 'EMPTY', 'BLUE', 'WHITE', 'RED'], [('RESTORE', 'RED'), 'EMPTY', 'BLUE', 'WHITE', 'EMPTY'], [('RESTORE', 'RED'), 'EMPTY', 'BLUE', 'BLUE', 'WHITE'], [('RESTORE', 'RED'), 'EMPTY', 'BLUE', 'BLUE', 'BLUE'], [('RESTORE', 'RED'), 'EMPTY', 'BLUE', 'BLUE', 'RED'], [('RESTORE', 'RED'), 'EMPTY', 'BLUE', 'BLUE', 'EMPTY'], [('RESTORE', 'RED'), 'EMPTY', 'BLUE', 'RED', 'WHITE'], [('RESTORE', 'RED'), 'EMPTY', 'BLUE', 'RED', 'BLUE'], [('RESTORE', 'RED'), 'EMPTY', 'BLUE', 'RED', 'RED'], [('RESTORE', 'RED'), 'EMPTY', 'BLUE', 'RED', 'EMPTY'], [('RESTORE', 'RED'), 'EMPTY', 'BLUE', 'EMPTY', 'WHITE'], [('RESTORE', 'RED'), 'EMPTY', 'BLUE', 'EMPTY', 'BLUE'], [('RESTORE', 'RED'), 'EMPTY', 'BLUE', 'EMPTY', 'RED'], [('RESTORE', 'RED'), 'EMPTY', 'BLUE', 'EMPTY', 'EMPTY'], [('RESTORE', 'RED'), 'EMPTY', 'RED', 'WHITE', 'WHITE'], [('RESTORE', 'RED'), 'EMPTY', 'RED', 'WHITE', 'BLUE'], [('RESTORE', 'RED'), 'EMPTY', 'RED', 'WHITE', 'RED'], [('RESTORE', 'RED'), 'EMPTY', 'RED', 'WHITE', 'EMPTY'], [('RESTORE', 'RED'), 'EMPTY', 'RED', 'BLUE', 'WHITE'], [('RESTORE', 'RED'), 'EMPTY', 'RED', 'BLUE', 'BLUE'], [('RESTORE', 'RED'), 'EMPTY', 'RED', 'BLUE', 'RED'], [('RESTORE', 'RED'), 'EMPTY', 'RED', 'BLUE', 'EMPTY'], [('RESTORE', 'RED'), 'EMPTY', 'RED', 'RED', 'WHITE'], [('RESTORE', 'RED'), 'EMPTY', 'RED', 'RED', 'BLUE'], [('RESTORE', 'RED'), 'EMPTY', 'RED', 'RED', 'RED'], [('RESTORE', 'RED'), 'EMPTY', 'RED', 'RED', 'EMPTY'], [('RESTORE', 'RED'), 'EMPTY', 'RED', 'EMPTY', 'WHITE'], [('RESTORE', 'RED'), 'EMPTY', 'RED', 'EMPTY', 'BLUE'], [('RESTORE', 'RED'), 'EMPTY', 'RED', 'EMPTY', 'RED'], [('RESTORE', 'RED'), 'EMPTY', 'RED', 'EMPTY', 'EMPTY'], [('RESTORE', 'RED'), 'EMPTY', 'EMPTY', 'WHITE', 'WHITE'], [('RESTORE', 'RED'), 'EMPTY', 'EMPTY', 'WHITE', 'BLUE'], [('RESTORE', 'RED'), 'EMPTY', 'EMPTY', 'WHITE', 'RED'], [('RESTORE', 'RED'), 'EMPTY', 'EMPTY', 'WHITE', 'EMPTY'], [('RESTORE', 'RED'), 'EMPTY', 'EMPTY', 'BLUE', 'WHITE'], [('RESTORE', 'RED'), 'EMPTY', 'EMPTY', 'BLUE', 'BLUE'], [('RESTORE', 'RED'), 'EMPTY', 'EMPTY', 'BLUE', 'RED'], [('RESTORE', 'RED'), 'EMPTY', 'EMPTY', 'BLUE', 'EMPTY'], [('RESTORE', 'RED'), 'EMPTY', 'EMPTY', 'RED', 'WHITE'], [('RESTORE', 'RED'), 'EMPTY', 'EMPTY', 'RED', 'BLUE'], [('RESTORE', 'RED'), 'EMPTY', 'EMPTY', 'RED', 'RED'], [('RESTORE', 'RED'), 'EMPTY', 'EMPTY', 'RED', 'EMPTY'], [('RESTORE', 'RED'), 'EMPTY', 'EMPTY', 'EMPTY', 'WHITE'], [('RESTORE', 'RED'), 'EMPTY', 'EMPTY', 'EMPTY', 'BLUE'], [('RESTORE', 'RED'), 'EMPTY', 'EMPTY', 'EMPTY', 'RED'], [('RESTORE', 'RED'), 'EMPTY', 'EMPTY', 'EMPTY', 'EMPTY']]\n"
     ]
    }
   ],
   "source": [
    "def getStates(warehouseFields, fieldStatus):  \n",
    "    warehouseStates = itertools.product(fieldStatus, repeat=len(warehouseFields))\n",
    "    states = []\n",
    "    for state in warehouseStates:\n",
    "      states.append(list(state))\n",
    "    statesWithOperations = []\n",
    "    for operation in operationsWithItems:\n",
    "      for state in states:\n",
    "        newCompleteState = state.copy()\n",
    "        newCompleteState = [operation] + newCompleteState\n",
    "        statesWithOperations.append(newCompleteState)\n",
    "    return statesWithOperations\n",
    "\n",
    "iterStates = getStates(warehouseFields, warehouseState)\n",
    "states = []\n",
    "for state in iterStates:\n",
    "  states.append(list(state))\n",
    "\n",
    "print(len(states))\n",
    "print(states)"
   ]
  },
  {
   "source": [
    "Create a reward which fits our problem. <br>\n",
    "The reward is higher if the distance our agent has to cover is lower."
   ],
   "cell_type": "markdown",
   "metadata": {}
  },
  {
   "cell_type": "code",
   "execution_count": 5,
   "metadata": {
    "tags": []
   },
   "outputs": [
    {
     "output_type": "stream",
     "name": "stdout",
     "text": [
      "[0.25180384 0.24336554 0.50483062]\n"
     ]
    }
   ],
   "source": [
    "# read statistics from file to calculate better rewards\n",
    "# i = 0: White, i = 1: Blue, i = 2: Red\n",
    "countItems = np.zeros((3))\n",
    "itemsTotal = 0\n",
    "\n",
    "warehouseorder = open('Exercise4_warehousetraining2x2.txt')\n",
    "for line in warehouseorder:\n",
    "    curAction = line.split('\\t')\n",
    "    # curOperation = curAction[0].upper()\n",
    "    curItem = curAction[1].strip('\\n').upper()\n",
    "    if curItem == 'WHITE':\n",
    "        countItems[0] += 1\n",
    "    if curItem == 'BLUE':\n",
    "        countItems[1] += 1\n",
    "    if curItem == 'RED':\n",
    "        countItems[2] += 1\n",
    "    itemsTotal += 1\n",
    "\n",
    "# i = 0: White, i = 1: Blue, i = 2: Red\n",
    "probsItems = countItems / itemsTotal\n",
    "print(probsItems)\n",
    "\n",
    "# reward function based on distance and item probability:\n",
    "def getRewardBasedOnDistanceAndProbability(fieldIndex, item):\n",
    "    x = warehouseFields[fieldIndex]\n",
    "    distance = x[0] + x[1] + 1\n",
    "    prob = 0\n",
    "    if item == 'WHITE':\n",
    "        prob = probsItems[0]\n",
    "    if item == 'BLUE':\n",
    "        prob = probsItems[1]\n",
    "    if item == 'RED':\n",
    "        prob = probsItems[2]\n",
    "    reward = 1/distance * 1/distance * prob\n",
    "    return reward\n"
   ]
  },
  {
   "source": [
    "Bring it all together now and create the transition and the reward matrix. <br>"
   ],
   "cell_type": "markdown",
   "metadata": {}
  },
  {
   "cell_type": "code",
   "execution_count": 67,
   "metadata": {
    "tags": []
   },
   "outputs": [
    {
     "output_type": "stream",
     "name": "stdout",
     "text": [
      "(4, 1536, 1536)\n[0.1 0.  0.  ... 0.  0.  0. ]\n1.0\n"
     ]
    }
   ],
   "source": [
    "# create Transition and reward matrix\n",
    "def createTransitionAndRewardMatrix(actions, states):\n",
    "    T = np.zeros((len(actions), len(states), len(states)))\n",
    "    R = np.zeros((len(states), len(actions)))\n",
    "\n",
    "    for i in range(len(actions)):\n",
    "        # current action which is the field we take\n",
    "        action = actions[i]\n",
    "        for j in range(len(states)):\n",
    "            curState = states[j]  \n",
    "            \n",
    "            operation = curState[0]\n",
    "            curWarehouseState = curState[1:].copy()\n",
    "            # Do this for each operation\n",
    "            if operation[0] == 'STORE':\n",
    "                if curWarehouseState[i] != 'EMPTY':\n",
    "                    for k in range(0, 6):\n",
    "                        nextOperation = states[(j + 256*k) % len(states)][0]\n",
    "                        T[i, j, (j + k * 256) % len(states)] =  getTransitionProbabiltiy(nextOperation)\n",
    "                else:\n",
    "\n",
    "                    nextWarehouseState = curWarehouseState\n",
    "                    nextWarehouseState[i] = operation[1]\n",
    "                    nextIndexStart = states.index([operation] + nextWarehouseState)\n",
    "                    transitionProbability = 1 / 6\n",
    "                    for k in range(0, 6):\n",
    "                        nextOperation = states[(nextIndexStart + 256*k) % len(states)][0]\n",
    "                        T[i, j, (nextIndexStart + 256*k) % len(states)] =  getTransitionProbabiltiy(nextOperation)\n",
    "                        rewardTest = [3,2,2,1]\n",
    "                        R[(nextIndexStart + 256*k) % len(states), i] = rewardTest[i]\n",
    "\n",
    "            else:\n",
    "                if operation[1] != curWarehouseState[i]:\n",
    "                    for k in range(0, 6):\n",
    "                        nextOperation = states[(j + 256*k) % len(states)][0]\n",
    "                        T[i, j, (j+256*k) % len(states)] = getTransitionProbabiltiy(nextOperation)\n",
    "                else:\n",
    "                    nextWarehouseState = curWarehouseState\n",
    "                    nextWarehouseState[i] = 'EMPTY'\n",
    "                    nextIndexStart = states.index([operation] + nextWarehouseState)\n",
    "                    transitionProbability = 1 / 6\n",
    "                    for k in range(0, 6):\n",
    "                        nextOperation = states[(nextIndexStart + 256*k) % len(states)][0]\n",
    "                        T[i, j, (nextIndexStart + 256*k) % len(states)] = getTransitionProbabiltiy(nextOperation)\n",
    "                        rewardTest = [3,2,2,1]\n",
    "                        R[(nextIndexStart + 256*k) % len(states), i] = rewardTest[i]\n",
    "    return T, R\n",
    "\n",
    "def getTransitionProbabiltiy(operation):\n",
    "    probability = 0\n",
    "    if operation == ('STORE', 'WHITE'):\n",
    "        probability = 0.1\n",
    "    elif operation == ('STORE', 'BLUE'):\n",
    "        probability = 0.1\n",
    "    elif operation == ('STORE', 'RED'):\n",
    "        probability = 0.3\n",
    "    elif operation == ('RESTORE', 'WHITE'):\n",
    "        probability = 0.1\n",
    "    elif operation == ('RESTORE', 'BLUE'):\n",
    "        probability = 0.1\n",
    "    else:\n",
    "        probability = 0.3\n",
    "    return probability\n",
    "\n",
    "\n",
    "T, R = createTransitionAndRewardMatrix(actions, states)\n",
    "print(np.shape(T))\n",
    "test = np.sum(T[0][0])\n",
    "print(T[0][0])\n",
    "print(test)"
   ]
  },
  {
   "source": [
    "Finally create the mdp models and evaluate the different classes"
   ],
   "cell_type": "markdown",
   "metadata": {}
  },
  {
   "cell_type": "code",
   "execution_count": 68,
   "metadata": {
    "tags": []
   },
   "outputs": [
    {
     "output_type": "stream",
     "name": "stdout",
     "text": [
      "PolicyIteration:\n(0, 0, 0, 0, 0, 0, 0, 0, 0, 0, 0, 0, 0, 0, 0, 0, 0, 0, 0, 0, 0, 0, 0, 0, 0, 0, 0, 0, 0, 0, 0, 0, 0, 0, 0, 0, 0, 0, 0, 0, 0, 0, 0, 0, 0, 0, 0, 0, 0, 0, 0, 0, 0, 0, 0, 0, 0, 0, 0, 0, 0, 0, 0, 0, 0, 0, 0, 0, 0, 0, 0, 0, 0, 0, 0, 0, 0, 0, 0, 0, 0, 0, 0, 0, 0, 0, 0, 0, 0, 0, 0, 0, 0, 0, 0, 0, 0, 0, 0, 0, 0, 0, 0, 0, 0, 0, 0, 0, 0, 0, 0, 0, 0, 0, 0, 0, 0, 0, 0, 0, 0, 0, 0, 0, 0, 0, 0, 0, 0, 0, 0, 0, 0, 0, 0, 0, 0, 0, 0, 0, 0, 0, 0, 0, 0, 0, 0, 0, 0, 0, 0, 0, 0, 0, 0, 0, 0, 0, 0, 0, 0, 0, 0, 0, 0, 0, 0, 0, 0, 0, 0, 0, 0, 0, 0, 0, 0, 0, 0, 0, 0, 0, 0, 0, 0, 0, 0, 0, 0, 0, 0, 0, 0, 0, 0, 0, 0, 0, 0, 0, 0, 0, 0, 0, 0, 0, 0, 0, 0, 0, 0, 0, 0, 0, 0, 0, 0, 0, 0, 0, 0, 0, 0, 0, 0, 0, 0, 0, 0, 0, 0, 0, 0, 0, 0, 0, 0, 0, 0, 0, 0, 0, 0, 0, 0, 0, 0, 0, 0, 0, 0, 0, 0, 0, 0, 0, 0, 0, 0, 0, 0, 0, 0, 0, 0, 0, 0, 0, 0, 0, 0, 0, 0, 0, 0, 0, 0, 0, 0, 0, 0, 0, 0, 0, 0, 0, 0, 0, 0, 0, 0, 0, 0, 0, 0, 0, 0, 0, 0, 0, 0, 0, 0, 0, 0, 0, 0, 0, 0, 0, 0, 0, 0, 0, 0, 0, 0, 0, 0, 0, 0, 0, 0, 0, 0, 0, 0, 0, 0, 0, 0, 0, 0, 0, 0, 0, 0, 0, 0, 0, 0, 0, 0, 0, 0, 0, 0, 0, 0, 0, 0, 0, 0, 0, 0, 0, 0, 0, 0, 0, 0, 0, 0, 0, 0, 0, 0, 0, 0, 0, 0, 0, 0, 0, 0, 0, 0, 0, 0, 0, 0, 0, 0, 0, 0, 0, 0, 0, 0, 0, 0, 0, 0, 0, 0, 0, 0, 0, 0, 0, 0, 0, 0, 0, 0, 0, 0, 0, 0, 0, 0, 0, 0, 0, 0, 0, 0, 0, 0, 0, 0, 0, 0, 0, 0, 0, 0, 0, 0, 0, 0, 0, 0, 0, 0, 0, 0, 0, 0, 0, 0, 0, 0, 0, 0, 0, 0, 0, 0, 0, 0, 0, 0, 0, 0, 0, 0, 0, 0, 0, 0, 0, 0, 0, 0, 0, 0, 0, 0, 0, 0, 0, 0, 0, 0, 0, 0, 0, 0, 0, 0, 0, 0, 0, 0, 0, 0, 0, 0, 0, 0, 0, 0, 0, 0, 0, 0, 0, 0, 0, 0, 0, 0, 0, 0, 0, 0, 0, 0, 0, 0, 0, 0, 0, 0, 0, 0, 0, 0, 0, 0, 0, 0, 0, 0, 0, 0, 0, 0, 0, 0, 0, 0, 0, 0, 0, 0, 0, 0, 0, 0, 0, 0, 0, 0, 0, 0, 0, 0, 0, 0, 0, 0, 0, 0, 0, 0, 0, 0, 0, 0, 0, 0, 0, 0, 0, 0, 0, 0, 0, 0, 0, 0, 0, 0, 0, 0, 0, 0, 0, 0, 0, 0, 0, 0, 0, 0, 0, 0, 0, 0, 0, 0, 0, 0, 0, 0, 0, 0, 0, 0, 0, 0, 0, 0, 0, 0, 0, 0, 0, 0, 0, 0, 0, 0, 0, 0, 0, 0, 0, 0, 0, 0, 0, 0, 0, 0, 0, 0, 0, 0, 0, 0, 0, 0, 0, 0, 0, 0, 0, 0, 0, 0, 0, 0, 0, 0, 0, 0, 0, 0, 0, 0, 0, 0, 0, 0, 0, 0, 0, 0, 0, 0, 0, 0, 0, 0, 0, 0, 0, 0, 0, 0, 0, 0, 0, 0, 0, 0, 0, 0, 0, 0, 0, 0, 0, 0, 0, 0, 0, 0, 0, 0, 0, 0, 0, 0, 0, 0, 0, 0, 0, 0, 0, 0, 0, 0, 0, 0, 0, 0, 0, 0, 0, 0, 0, 0, 0, 0, 0, 0, 0, 0, 0, 0, 0, 0, 0, 0, 0, 0, 0, 0, 0, 0, 0, 0, 0, 0, 0, 0, 0, 0, 0, 0, 0, 0, 0, 0, 0, 0, 0, 0, 0, 0, 0, 0, 0, 0, 0, 0, 0, 0, 0, 0, 0, 0, 0, 0, 0, 0, 0, 0, 0, 0, 0, 0, 0, 0, 0, 0, 0, 0, 0, 0, 0, 0, 0, 0, 0, 0, 0, 0, 0, 0, 0, 0, 0, 0, 0, 0, 0, 0, 0, 0, 0, 0, 0, 0, 0, 0, 0, 0, 0, 0, 0, 0, 0, 0, 0, 0, 0, 0, 0, 0, 0, 0, 0, 0, 0, 0, 0, 0, 0, 0, 0, 0, 0, 0, 0, 0, 0, 0, 0, 0, 0, 0, 0, 0, 0, 0, 0, 0, 0, 0, 0, 0, 0, 0, 0, 0, 0, 0, 0, 0, 0, 0, 0, 0, 0, 0, 0, 0, 0, 0, 0, 0, 0, 0, 0, 0, 0, 0, 0, 0, 0, 0, 0, 0, 0, 0, 0, 0, 0, 0, 0, 0, 0, 0, 0, 0, 0, 0, 0, 0, 0, 0, 0, 0, 0, 0, 0, 0, 0, 0, 0, 0, 0, 0, 0, 0, 0, 0, 0, 0, 0, 0, 0, 0, 0, 0, 0, 0, 0, 0, 0, 0, 0, 0, 0, 0, 0, 0, 0, 0, 0, 0, 0, 0, 0, 0, 0, 0, 0, 0, 0, 0, 0, 0, 0, 0, 0, 0, 0, 0, 0, 0, 0, 0, 0, 0, 0, 0, 0, 0, 0, 0, 0, 0, 0, 0, 0, 0, 0, 0, 0, 0, 0, 0, 0, 0, 0, 0, 0, 0, 0, 0, 0, 0, 0, 0, 0, 0, 0, 0, 0, 0, 0, 0, 0, 0, 0, 0, 0, 0, 0, 0, 0, 0, 0, 0, 0, 0, 0, 0, 0, 0, 0, 0, 0, 0, 0, 0, 0, 0, 0, 0, 0, 0, 0, 0, 0, 0, 0, 0, 0, 0, 0, 0, 0, 0, 0, 0, 0, 0, 0, 0, 0, 0, 0, 0, 0, 0, 0, 0, 0, 0, 0, 0, 0, 0, 0, 0, 0, 0, 0, 0, 0, 0, 0, 0, 0, 0, 0, 0, 0, 0, 0, 0, 0, 0, 0, 0, 0, 0, 0, 0, 0, 0, 0, 0, 0, 0, 0, 0, 0, 0, 0, 0, 0, 0, 0, 0, 0, 0, 0, 0, 0, 0, 0, 0, 0, 0, 0, 0, 0, 0, 0, 0, 0, 0, 0, 0, 0, 0, 0, 0, 0, 0, 0, 0, 0, 0, 0, 0, 0, 0, 0, 0, 0, 0, 0, 0, 0, 0, 0, 0, 0, 0, 0, 0, 0, 0, 0, 0, 0, 0, 0, 0, 0, 0, 0, 0, 0, 0, 0, 0, 0, 0, 0, 0, 0, 0, 0, 0, 0, 0, 0, 0, 0, 0, 0, 0, 0, 0, 0, 0, 0, 0, 0, 0, 0, 0, 0, 0, 0, 0, 0, 0, 0, 0, 0, 0, 0, 0, 0, 0, 0, 0, 0, 0, 0, 0, 0, 0, 0, 0, 0, 0, 0, 0, 0, 0, 0, 0, 0, 0, 0, 0, 0, 0, 0, 0, 0, 0, 0, 0, 0, 0, 0, 0, 0, 0, 0, 0, 0, 0, 0, 0, 0, 0, 0, 0, 0, 0, 0, 0, 0, 0, 0, 0, 0, 0, 0, 0, 0, 0, 0, 0, 0, 0, 0, 0, 0, 0, 0, 0, 0, 0, 0, 0, 0, 0, 0, 0, 0, 0, 0, 0, 0, 0, 0, 0, 0, 0, 0, 0, 0, 0, 0, 0, 0, 0, 0, 0, 0, 0, 0, 0, 0, 0, 0, 0, 0, 0, 0, 0, 0, 0, 0, 0, 0, 0, 0, 0, 0, 0, 0, 0, 0, 0, 0, 0, 0, 0, 0, 0, 0, 0, 0, 0, 0, 0, 0, 0, 0, 0, 0, 0, 0, 0, 0, 0, 0, 0, 0, 0, 0, 0, 0, 0, 0, 0, 0, 0, 0, 0, 0, 0, 0, 0, 0, 0, 0, 0, 0, 0, 0, 0, 0, 0, 0, 0, 0, 0, 0, 0, 0, 0, 0, 0, 0, 0, 0, 0, 0, 0, 0, 0, 0, 0, 0, 0, 0, 0, 0, 0, 0, 0, 0, 0, 0, 0, 0, 0, 0, 0, 0, 0, 0, 0, 0, 0, 0, 0, 0, 0, 0, 0, 0, 0, 0, 0, 0, 0, 0, 0, 0, 0, 0, 0, 0, 0, 0, 0, 0, 0, 0, 0, 0, 0, 0, 0, 0, 0, 0, 0, 0, 0, 0, 0, 0, 0, 0, 0, 0, 0, 0, 0, 0, 0, 0, 0, 0, 0, 0, 0, 0, 0, 0, 0, 0, 0, 0, 0, 0, 0, 0, 0, 0, 0, 0, 0, 0, 0, 0, 0, 0, 0, 0, 0, 0, 0, 0, 0, 0, 0, 0, 0, 0, 0, 0, 0, 0, 0, 0, 0, 0, 0, 0, 0, 0, 0, 0, 0, 0)\n1\n"
     ]
    }
   ],
   "source": [
    "# 1. Policy Iteration\n",
    "mdpWarehousePolicy = mdptoolbox.mdp.PolicyIteration(T, R, 0.1, max_iter=100)\n",
    "# Run the MDP\n",
    "mdpWarehousePolicy.run()\n",
    "\n",
    "print('PolicyIteration:')\n",
    "print(mdpWarehousePolicy.policy)\n",
    "#print(mdpWarehousePolicy.V)\n",
    "print(mdpWarehousePolicy.iter)"
   ]
  },
  {
   "cell_type": "code",
   "execution_count": 69,
   "metadata": {
    "tags": []
   },
   "outputs": [
    {
     "output_type": "stream",
     "name": "stdout",
     "text": [
      "Q learning:\n3\n-1.307742003341208\n"
     ]
    }
   ],
   "source": [
    "# 2. QLearning\n",
    "mdpWarehouseQ = mdptoolbox.mdp.QLearning(T, R, 0.1)\n",
    "# Run the MDP\n",
    "mdpWarehouseQ.run()\n",
    "\n",
    "print('Q learning:')\n",
    "print(mdpWarehouseQ.policy[0])\n",
    "print(mdpWarehouseQ.V[0])"
   ]
  },
  {
   "cell_type": "code",
   "execution_count": 71,
   "metadata": {},
   "outputs": [
    {
     "output_type": "error",
     "ename": "OverflowError",
     "evalue": "cannot convert float infinity to integer",
     "traceback": [
      "\u001b[1;31m---------------------------------------------------------------------------\u001b[0m",
      "\u001b[1;31mOverflowError\u001b[0m                             Traceback (most recent call last)",
      "\u001b[1;32m<ipython-input-71-2111920e4621>\u001b[0m in \u001b[0;36m<module>\u001b[1;34m\u001b[0m\n\u001b[0;32m      1\u001b[0m \u001b[1;31m# 3. ValueIteration\u001b[0m\u001b[1;33m\u001b[0m\u001b[1;33m\u001b[0m\u001b[1;33m\u001b[0m\u001b[0m\n\u001b[1;32m----> 2\u001b[1;33m \u001b[0mmdpWarehouseValueIter\u001b[0m \u001b[1;33m=\u001b[0m \u001b[0mmdptoolbox\u001b[0m\u001b[1;33m.\u001b[0m\u001b[0mmdp\u001b[0m\u001b[1;33m.\u001b[0m\u001b[0mValueIteration\u001b[0m\u001b[1;33m(\u001b[0m\u001b[0mT\u001b[0m\u001b[1;33m,\u001b[0m \u001b[0mR\u001b[0m\u001b[1;33m,\u001b[0m \u001b[1;36m0.1\u001b[0m\u001b[1;33m)\u001b[0m\u001b[1;33m\u001b[0m\u001b[1;33m\u001b[0m\u001b[0m\n\u001b[0m\u001b[0;32m      3\u001b[0m \u001b[1;31m# Run the MDP\u001b[0m\u001b[1;33m\u001b[0m\u001b[1;33m\u001b[0m\u001b[1;33m\u001b[0m\u001b[0m\n\u001b[0;32m      4\u001b[0m \u001b[0mmdpWarehouseValueIter\u001b[0m\u001b[1;33m.\u001b[0m\u001b[0mrun\u001b[0m\u001b[1;33m(\u001b[0m\u001b[1;33m)\u001b[0m\u001b[1;33m\u001b[0m\u001b[1;33m\u001b[0m\u001b[0m\n\u001b[0;32m      5\u001b[0m \u001b[1;33m\u001b[0m\u001b[0m\n",
      "\u001b[1;32mc:\\Users\\Max\\Documents\\Uni\\SoSe2021\\SAKI\\Ex4\\SAKI_EX4\\saki4\\lib\\site-packages\\mdptoolbox\\mdp.py\u001b[0m in \u001b[0;36m__init__\u001b[1;34m(self, transitions, reward, discount, epsilon, max_iter, initial_value)\u001b[0m\n\u001b[0;32m   1307\u001b[0m             \u001b[1;31m# compute a bound for the number of iterations and update the\u001b[0m\u001b[1;33m\u001b[0m\u001b[1;33m\u001b[0m\u001b[1;33m\u001b[0m\u001b[0m\n\u001b[0;32m   1308\u001b[0m             \u001b[1;31m# stored value of self.max_iter\u001b[0m\u001b[1;33m\u001b[0m\u001b[1;33m\u001b[0m\u001b[1;33m\u001b[0m\u001b[0m\n\u001b[1;32m-> 1309\u001b[1;33m             \u001b[0mself\u001b[0m\u001b[1;33m.\u001b[0m\u001b[0m_boundIter\u001b[0m\u001b[1;33m(\u001b[0m\u001b[0mepsilon\u001b[0m\u001b[1;33m)\u001b[0m\u001b[1;33m\u001b[0m\u001b[1;33m\u001b[0m\u001b[0m\n\u001b[0m\u001b[0;32m   1310\u001b[0m             \u001b[1;31m# computation of threshold of variation for V for an epsilon-\u001b[0m\u001b[1;33m\u001b[0m\u001b[1;33m\u001b[0m\u001b[1;33m\u001b[0m\u001b[0m\n\u001b[0;32m   1311\u001b[0m             \u001b[1;31m# optimal policy\u001b[0m\u001b[1;33m\u001b[0m\u001b[1;33m\u001b[0m\u001b[1;33m\u001b[0m\u001b[0m\n",
      "\u001b[1;32mc:\\Users\\Max\\Documents\\Uni\\SoSe2021\\SAKI\\Ex4\\SAKI_EX4\\saki4\\lib\\site-packages\\mdptoolbox\\mdp.py\u001b[0m in \u001b[0;36m_boundIter\u001b[1;34m(self, epsilon)\u001b[0m\n\u001b[0;32m   1359\u001b[0m         \u001b[1;31m#self.V = Vprev\u001b[0m\u001b[1;33m\u001b[0m\u001b[1;33m\u001b[0m\u001b[1;33m\u001b[0m\u001b[0m\n\u001b[0;32m   1360\u001b[0m \u001b[1;33m\u001b[0m\u001b[0m\n\u001b[1;32m-> 1361\u001b[1;33m         \u001b[0mself\u001b[0m\u001b[1;33m.\u001b[0m\u001b[0mmax_iter\u001b[0m \u001b[1;33m=\u001b[0m \u001b[0mint\u001b[0m\u001b[1;33m(\u001b[0m\u001b[0m_math\u001b[0m\u001b[1;33m.\u001b[0m\u001b[0mceil\u001b[0m\u001b[1;33m(\u001b[0m\u001b[0mmax_iter\u001b[0m\u001b[1;33m)\u001b[0m\u001b[1;33m)\u001b[0m\u001b[1;33m\u001b[0m\u001b[1;33m\u001b[0m\u001b[0m\n\u001b[0m\u001b[0;32m   1362\u001b[0m \u001b[1;33m\u001b[0m\u001b[0m\n\u001b[0;32m   1363\u001b[0m     \u001b[1;32mdef\u001b[0m \u001b[0mrun\u001b[0m\u001b[1;33m(\u001b[0m\u001b[0mself\u001b[0m\u001b[1;33m)\u001b[0m\u001b[1;33m:\u001b[0m\u001b[1;33m\u001b[0m\u001b[1;33m\u001b[0m\u001b[0m\n",
      "\u001b[1;31mOverflowError\u001b[0m: cannot convert float infinity to integer"
     ]
    }
   ],
   "source": [
    "# 3. ValueIteration\n",
    "mdpWarehouseValueIter = mdptoolbox.mdp.ValueIteration(T, R, 0.1)\n",
    "# Run the MDP\n",
    "mdpWarehouseValueIter.run()\n",
    "\n",
    "print('Value Iteration:')\n",
    "print(mdpWarehouseValueIter.policy)\n",
    "print(mdpWarehouseValueIter.V)\n",
    "print(mdpWarehouseValueIter.iter)"
   ]
  },
  {
   "source": [
    "Now we evaluate the models and compare the needed steps for each model and also compare them to a greedy approach."
   ],
   "cell_type": "markdown",
   "metadata": {}
  },
  {
   "cell_type": "code",
   "execution_count": 70,
   "metadata": {
    "tags": []
   },
   "outputs": [
    {
     "output_type": "stream",
     "name": "stdout",
     "text": [
      "[(0, 0), (0, 1), (1, 0), (1, 1)]\n14401\n"
     ]
    }
   ],
   "source": [
    "stepsTaken = [1, 2, 2, 3]\n",
    "\n",
    "# get all test actions form the test file in a list\n",
    "def getTestActions(warehouseorder):\n",
    "    actionList = []\n",
    "    for line in warehouseorder:\n",
    "        split = line.split('\\t')\n",
    "        curOperation = split[0].upper()\n",
    "        curItem = split[1].strip('\\n').upper()\n",
    "        curAction = (curOperation, curItem)\n",
    "        actionList.append(curAction)\n",
    "    return actionList\n",
    "\n",
    "# evaluate a greedy approach, always store/restore at the nearest possible field\n",
    "def greedyStorage(actionList):\n",
    "    curState = ['EMPTY', 'EMPTY', 'EMPTY', 'EMPTY']\n",
    "    steps = 0\n",
    "\n",
    "    for (operation, item) in actionList:\n",
    "        # case operation not possible\n",
    "        if ((operation == 'STORE') and ('EMPTY' not in curState)) \\\n",
    "            or ((operation == 'RESTORE') and (item not in curState)):\n",
    "            print(\"does this happen?\") # => with our test data this is never the case\n",
    "        else:\n",
    "            if operation == 'STORE':\n",
    "                # store in the nearest field\n",
    "                for i in range(0, len(curState)):\n",
    "                    if curState[i] == 'EMPTY':\n",
    "                        curState[i] = item\n",
    "                        steps += stepsTaken[i]\n",
    "                        break\n",
    "            # restore operation\n",
    "            else:\n",
    "                for i in range(0, len(curState)):\n",
    "                    if curState[i] == item:\n",
    "                        curState[i] = 'EMPTY'\n",
    "                        steps += stepsTaken[i]\n",
    "                        break\n",
    "    return steps    \n",
    "\n",
    "print(actions)\n",
    "warehouseorder = open('Exercise4_warehousetraining2x2.txt')\n",
    "actionList = getTestActions(warehouseorder)\n",
    "greedySteps = greedyStorage(actionList)\n",
    "print(greedySteps)"
   ]
  },
  {
   "cell_type": "code",
   "execution_count": 103,
   "metadata": {
    "tags": []
   },
   "outputs": [
    {
     "output_type": "stream",
     "name": "stdout",
     "text": [
      "Greedy approach steps:14401\n"
     ]
    },
    {
     "output_type": "error",
     "ename": "ValueError",
     "evalue": "('STORE', 'RED') is not in list",
     "traceback": [
      "\u001b[1;31m---------------------------------------------------------------------------\u001b[0m",
      "\u001b[1;31mValueError\u001b[0m                                Traceback (most recent call last)",
      "\u001b[1;32m<ipython-input-103-ef3d64f17613>\u001b[0m in \u001b[0;36m<module>\u001b[1;34m\u001b[0m\n\u001b[0;32m     36\u001b[0m \u001b[0mprint\u001b[0m\u001b[1;33m(\u001b[0m\u001b[1;34m\"Greedy approach steps:\"\u001b[0m \u001b[1;33m+\u001b[0m \u001b[0mstr\u001b[0m\u001b[1;33m(\u001b[0m\u001b[0mgreedySteps\u001b[0m\u001b[1;33m)\u001b[0m\u001b[1;33m)\u001b[0m\u001b[1;33m\u001b[0m\u001b[1;33m\u001b[0m\u001b[0m\n\u001b[0;32m     37\u001b[0m \u001b[1;33m\u001b[0m\u001b[0m\n\u001b[1;32m---> 38\u001b[1;33m \u001b[0mpolicyIterationSteps\u001b[0m \u001b[1;33m=\u001b[0m \u001b[0mevaluateMDPModel\u001b[0m\u001b[1;33m(\u001b[0m\u001b[0mmdpWarehousePolicy\u001b[0m\u001b[1;33m,\u001b[0m \u001b[0mactions\u001b[0m\u001b[1;33m,\u001b[0m \u001b[0mactionList\u001b[0m\u001b[1;33m)\u001b[0m\u001b[1;33m\u001b[0m\u001b[1;33m\u001b[0m\u001b[0m\n\u001b[0m\u001b[0;32m     39\u001b[0m \u001b[0mprint\u001b[0m\u001b[1;33m(\u001b[0m\u001b[1;34m\"Policy iteration steps:\"\u001b[0m \u001b[1;33m+\u001b[0m \u001b[0mstr\u001b[0m\u001b[1;33m(\u001b[0m\u001b[0mpolicyIterationSteps\u001b[0m\u001b[1;33m)\u001b[0m\u001b[1;33m)\u001b[0m\u001b[1;33m\u001b[0m\u001b[1;33m\u001b[0m\u001b[0m\n\u001b[0;32m     40\u001b[0m \u001b[1;33m\u001b[0m\u001b[0m\n",
      "\u001b[1;32m<ipython-input-103-ef3d64f17613>\u001b[0m in \u001b[0;36mevaluateMDPModel\u001b[1;34m(mdpModel, actions, actionList)\u001b[0m\n\u001b[0;32m     13\u001b[0m         \u001b[1;32melse\u001b[0m\u001b[1;33m:\u001b[0m\u001b[1;33m\u001b[0m\u001b[1;33m\u001b[0m\u001b[0m\n\u001b[0;32m     14\u001b[0m             \u001b[1;31m# 1. get next state based on value of the field?\u001b[0m\u001b[1;33m\u001b[0m\u001b[1;33m\u001b[0m\u001b[1;33m\u001b[0m\u001b[0m\n\u001b[1;32m---> 15\u001b[1;33m             \u001b[0mcurActionIndex\u001b[0m \u001b[1;33m=\u001b[0m \u001b[0mactions\u001b[0m\u001b[1;33m.\u001b[0m\u001b[0mindex\u001b[0m\u001b[1;33m(\u001b[0m\u001b[1;33m(\u001b[0m\u001b[0moperation\u001b[0m\u001b[1;33m,\u001b[0m \u001b[0mitem\u001b[0m\u001b[1;33m)\u001b[0m\u001b[1;33m)\u001b[0m\u001b[1;33m\u001b[0m\u001b[1;33m\u001b[0m\u001b[0m\n\u001b[0m\u001b[0;32m     16\u001b[0m             \u001b[0mindexCurState\u001b[0m \u001b[1;33m=\u001b[0m \u001b[0mstates\u001b[0m\u001b[1;33m.\u001b[0m\u001b[0mindex\u001b[0m\u001b[1;33m(\u001b[0m\u001b[0mcurState\u001b[0m\u001b[1;33m)\u001b[0m\u001b[1;33m\u001b[0m\u001b[1;33m\u001b[0m\u001b[0m\n\u001b[0;32m     17\u001b[0m             \u001b[0mcurTransitionLine\u001b[0m \u001b[1;33m=\u001b[0m \u001b[0mT\u001b[0m\u001b[1;33m[\u001b[0m\u001b[0mcurActionIndex\u001b[0m\u001b[1;33m,\u001b[0m \u001b[0mindexCurState\u001b[0m\u001b[1;33m]\u001b[0m\u001b[1;33m\u001b[0m\u001b[1;33m\u001b[0m\u001b[0m\n",
      "\u001b[1;31mValueError\u001b[0m: ('STORE', 'RED') is not in list"
     ]
    }
   ],
   "source": [
    "# evaluate how much steps our mdp models will take:\n",
    "def evaluateMDPModel(mdpModel, actions, actionList):\n",
    "    steps = 0\n",
    "    policy = mdpModel.policy\n",
    "    V = mdpModel.V\n",
    "\n",
    "    curState = ['EMPTY', 'EMPTY', 'EMPTY', 'EMPTY']\n",
    "    for (operation, item) in actionList:\n",
    "        # case operation not possible\n",
    "        if ((operation == 'STORE') and ('EMPTY' not in curState)) \\\n",
    "            or ((operation == 'RESTORE') and (item not in curState)):\n",
    "            print(\"does this happen?\") # => with our test data this is never the case\n",
    "        else:\n",
    "            # 1. get next state based on value of the field?\n",
    "            curActionIndex = actions.index((operation, item))\n",
    "            indexCurState = states.index(curState)\n",
    "            curTransitionLine = T[curActionIndex, indexCurState]\n",
    "            curPossibleSteps = [i for i, value in enumerate(curTransitionLine) if value != 0]\n",
    "            valuesOfTheField = []\n",
    "            for posInd in curPossibleSteps:\n",
    "                valuesOfTheField.append(V[posInd])\n",
    "            max_value = max(valuesOfTheField)\n",
    "            max_index = curPossibleSteps[valuesOfTheField.index(max_value)]\n",
    "            # get next state\n",
    "            nextState = states[max_index].copy()\n",
    "            # evaluate steps, therefore get index of change:\n",
    "            for index, (first, second) in enumerate(zip(curState, nextState)):\n",
    "                if first != second:\n",
    "                    steps += stepsTaken[index]\n",
    "            # set cur state to next state:\n",
    "            curState = nextState           \n",
    "    return steps    \n",
    "\n",
    "stepsTaken = [1, 2, 2, 3]\n",
    "\n",
    "print(\"Greedy approach steps:\" + str(greedySteps))\n",
    "\n",
    "policyIterationSteps = evaluateMDPModel(mdpWarehousePolicy, actions, actionList)\n",
    "print(\"Policy iteration steps:\" + str(policyIterationSteps))\n",
    "\n",
    "valueIterationSteps = evaluateMDPModel(mdpWarehouseValueIter, actions, actionList)\n",
    "print(\"Value iteration steps:\" + str(valueIterationSteps))\n",
    "\n",
    "QlearningSteps = evaluateMDPModel(mdpWarehouseQ, actions, actionList)\n",
    "print(\"Q learning steps:\" + str(QlearningSteps))"
   ]
  },
  {
   "cell_type": "code",
   "execution_count": null,
   "metadata": {},
   "outputs": [],
   "source": []
  }
 ]
}