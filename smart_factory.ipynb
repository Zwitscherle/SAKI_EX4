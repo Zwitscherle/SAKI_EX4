{
 "metadata": {
  "language_info": {
   "codemirror_mode": {
    "name": "ipython",
    "version": 3
   },
   "file_extension": ".py",
   "mimetype": "text/x-python",
   "name": "python",
   "nbconvert_exporter": "python",
   "pygments_lexer": "ipython3",
   "version": "3.9.1"
  },
  "orig_nbformat": 4,
  "kernelspec": {
   "name": "python3",
   "display_name": "Python 3.9.1 64-bit ('saki4': venv)"
  },
  "interpreter": {
   "hash": "ad4ad34c08212da66dc6d04eda780af769d3ee710939179ad84caa50910b2cc9"
  }
 },
 "nbformat": 4,
 "nbformat_minor": 2,
 "cells": [
  {
   "source": [
    "This is the Smart Factory Exercise."
   ],
   "cell_type": "markdown",
   "metadata": {}
  },
  {
   "cell_type": "code",
   "execution_count": 80,
   "metadata": {},
   "outputs": [],
   "source": [
    "import mdptoolbox, mdptoolbox.example\n",
    "import numpy as np\n",
    "import itertools"
   ]
  },
  {
   "source": [
    "Define all items, states and actions of our model. <br>\n",
    "* We have three different items (WHITE, BLUE, RED)\n",
    "* We have four different possible states of each warehouse field (EMPTY, WHITE, BLUE, RED)\n",
    "* We have six possible actions for our agent (STORE and RESTORE in combination with each item color)"
   ],
   "cell_type": "markdown",
   "metadata": {}
  },
  {
   "cell_type": "code",
   "execution_count": 110,
   "metadata": {},
   "outputs": [
    {
     "output_type": "stream",
     "name": "stdout",
     "text": [
      "['WHITE', 'BLUE', 'RED']\n[('STORE', 'WHITE'), ('STORE', 'BLUE'), ('STORE', 'RED'), ('RESTORE', 'WHITE'), ('RESTORE', 'BLUE'), ('RESTORE', 'RED')]\n[(0, 0), (0, 1), (1, 0), (1, 1)]\n"
     ]
    }
   ],
   "source": [
    "def createWarehouseFields(length, height):\n",
    "    warehouseFields = []\n",
    "    for i in range(0, length):\n",
    "        for j in range(0, height):\n",
    "            warehouseFields.append((i,j))\n",
    "    return warehouseFields\n",
    "\n",
    "warehouseFields = createWarehouseFields(n, n)\n",
    "\n",
    "actions = warehouseFields.copy()\n",
    "\n",
    "\n",
    "items = ['WHITE', 'BLUE', 'RED']\n",
    "operations = ['STORE', 'RESTORE']\n",
    "fieldStatus = []\n",
    "for operation in operations:\n",
    "    for item in items:\n",
    "        fieldStatus.append((operation, item))\n",
    "\n",
    "\n",
    "# warehouse size n x n (in our case n = 2)\n",
    "n = 2\n",
    "print(items)\n",
    "print(fieldStatus)\n",
    "print(actions)"
   ]
  },
  {
   "source": [
    "Create all fields of the warehouse of size lenght x heigth (in our case 2 x 2)"
   ],
   "cell_type": "markdown",
   "metadata": {}
  },
  {
   "cell_type": "code",
   "execution_count": 82,
   "metadata": {
    "tags": []
   },
   "outputs": [
    {
     "output_type": "stream",
     "name": "stdout",
     "text": [
      "[(0, 0), (0, 1), (1, 0), (1, 1)]\n"
     ]
    }
   ],
   "source": []
  },
  {
   "source": [
    "Next create all possible states of our warehouse. \n",
    "In our case we have 4 fields with 4 different states each (EMPTY, WHITE, BLUE, RED), which results in 4^4 states."
   ],
   "cell_type": "markdown",
   "metadata": {}
  },
  {
   "cell_type": "code",
   "execution_count": 111,
   "metadata": {
    "tags": [
     "outputPrepend"
    ]
   },
   "outputs": [
    {
     "output_type": "stream",
     "name": "stdout",
     "text": [
      "), ('STORE', 'BLUE'), ('STORE', 'RED')], [('RESTORE', 'BLUE'), ('RESTORE', 'RED'), ('STORE', 'BLUE'), ('RESTORE', 'WHITE')], [('RESTORE', 'BLUE'), ('RESTORE', 'RED'), ('STORE', 'BLUE'), ('RESTORE', 'BLUE')], [('RESTORE', 'BLUE'), ('RESTORE', 'RED'), ('STORE', 'BLUE'), ('RESTORE', 'RED')], [('RESTORE', 'BLUE'), ('RESTORE', 'RED'), ('STORE', 'RED'), ('STORE', 'WHITE')], [('RESTORE', 'BLUE'), ('RESTORE', 'RED'), ('STORE', 'RED'), ('STORE', 'BLUE')], [('RESTORE', 'BLUE'), ('RESTORE', 'RED'), ('STORE', 'RED'), ('STORE', 'RED')], [('RESTORE', 'BLUE'), ('RESTORE', 'RED'), ('STORE', 'RED'), ('RESTORE', 'WHITE')], [('RESTORE', 'BLUE'), ('RESTORE', 'RED'), ('STORE', 'RED'), ('RESTORE', 'BLUE')], [('RESTORE', 'BLUE'), ('RESTORE', 'RED'), ('STORE', 'RED'), ('RESTORE', 'RED')], [('RESTORE', 'BLUE'), ('RESTORE', 'RED'), ('RESTORE', 'WHITE'), ('STORE', 'WHITE')], [('RESTORE', 'BLUE'), ('RESTORE', 'RED'), ('RESTORE', 'WHITE'), ('STORE', 'BLUE')], [('RESTORE', 'BLUE'), ('RESTORE', 'RED'), ('RESTORE', 'WHITE'), ('STORE', 'RED')], [('RESTORE', 'BLUE'), ('RESTORE', 'RED'), ('RESTORE', 'WHITE'), ('RESTORE', 'WHITE')], [('RESTORE', 'BLUE'), ('RESTORE', 'RED'), ('RESTORE', 'WHITE'), ('RESTORE', 'BLUE')], [('RESTORE', 'BLUE'), ('RESTORE', 'RED'), ('RESTORE', 'WHITE'), ('RESTORE', 'RED')], [('RESTORE', 'BLUE'), ('RESTORE', 'RED'), ('RESTORE', 'BLUE'), ('STORE', 'WHITE')], [('RESTORE', 'BLUE'), ('RESTORE', 'RED'), ('RESTORE', 'BLUE'), ('STORE', 'BLUE')], [('RESTORE', 'BLUE'), ('RESTORE', 'RED'), ('RESTORE', 'BLUE'), ('STORE', 'RED')], [('RESTORE', 'BLUE'), ('RESTORE', 'RED'), ('RESTORE', 'BLUE'), ('RESTORE', 'WHITE')], [('RESTORE', 'BLUE'), ('RESTORE', 'RED'), ('RESTORE', 'BLUE'), ('RESTORE', 'BLUE')], [('RESTORE', 'BLUE'), ('RESTORE', 'RED'), ('RESTORE', 'BLUE'), ('RESTORE', 'RED')], [('RESTORE', 'BLUE'), ('RESTORE', 'RED'), ('RESTORE', 'RED'), ('STORE', 'WHITE')], [('RESTORE', 'BLUE'), ('RESTORE', 'RED'), ('RESTORE', 'RED'), ('STORE', 'BLUE')], [('RESTORE', 'BLUE'), ('RESTORE', 'RED'), ('RESTORE', 'RED'), ('STORE', 'RED')], [('RESTORE', 'BLUE'), ('RESTORE', 'RED'), ('RESTORE', 'RED'), ('RESTORE', 'WHITE')], [('RESTORE', 'BLUE'), ('RESTORE', 'RED'), ('RESTORE', 'RED'), ('RESTORE', 'BLUE')], [('RESTORE', 'BLUE'), ('RESTORE', 'RED'), ('RESTORE', 'RED'), ('RESTORE', 'RED')], [('RESTORE', 'RED'), ('STORE', 'WHITE'), ('STORE', 'WHITE'), ('STORE', 'WHITE')], [('RESTORE', 'RED'), ('STORE', 'WHITE'), ('STORE', 'WHITE'), ('STORE', 'BLUE')], [('RESTORE', 'RED'), ('STORE', 'WHITE'), ('STORE', 'WHITE'), ('STORE', 'RED')], [('RESTORE', 'RED'), ('STORE', 'WHITE'), ('STORE', 'WHITE'), ('RESTORE', 'WHITE')], [('RESTORE', 'RED'), ('STORE', 'WHITE'), ('STORE', 'WHITE'), ('RESTORE', 'BLUE')], [('RESTORE', 'RED'), ('STORE', 'WHITE'), ('STORE', 'WHITE'), ('RESTORE', 'RED')], [('RESTORE', 'RED'), ('STORE', 'WHITE'), ('STORE', 'BLUE'), ('STORE', 'WHITE')], [('RESTORE', 'RED'), ('STORE', 'WHITE'), ('STORE', 'BLUE'), ('STORE', 'BLUE')], [('RESTORE', 'RED'), ('STORE', 'WHITE'), ('STORE', 'BLUE'), ('STORE', 'RED')], [('RESTORE', 'RED'), ('STORE', 'WHITE'), ('STORE', 'BLUE'), ('RESTORE', 'WHITE')], [('RESTORE', 'RED'), ('STORE', 'WHITE'), ('STORE', 'BLUE'), ('RESTORE', 'BLUE')], [('RESTORE', 'RED'), ('STORE', 'WHITE'), ('STORE', 'BLUE'), ('RESTORE', 'RED')], [('RESTORE', 'RED'), ('STORE', 'WHITE'), ('STORE', 'RED'), ('STORE', 'WHITE')], [('RESTORE', 'RED'), ('STORE', 'WHITE'), ('STORE', 'RED'), ('STORE', 'BLUE')], [('RESTORE', 'RED'), ('STORE', 'WHITE'), ('STORE', 'RED'), ('STORE', 'RED')], [('RESTORE', 'RED'), ('STORE', 'WHITE'), ('STORE', 'RED'), ('RESTORE', 'WHITE')], [('RESTORE', 'RED'), ('STORE', 'WHITE'), ('STORE', 'RED'), ('RESTORE', 'BLUE')], [('RESTORE', 'RED'), ('STORE', 'WHITE'), ('STORE', 'RED'), ('RESTORE', 'RED')], [('RESTORE', 'RED'), ('STORE', 'WHITE'), ('RESTORE', 'WHITE'), ('STORE', 'WHITE')], [('RESTORE', 'RED'), ('STORE', 'WHITE'), ('RESTORE', 'WHITE'), ('STORE', 'BLUE')], [('RESTORE', 'RED'), ('STORE', 'WHITE'), ('RESTORE', 'WHITE'), ('STORE', 'RED')], [('RESTORE', 'RED'), ('STORE', 'WHITE'), ('RESTORE', 'WHITE'), ('RESTORE', 'WHITE')], [('RESTORE', 'RED'), ('STORE', 'WHITE'), ('RESTORE', 'WHITE'), ('RESTORE', 'BLUE')], [('RESTORE', 'RED'), ('STORE', 'WHITE'), ('RESTORE', 'WHITE'), ('RESTORE', 'RED')], [('RESTORE', 'RED'), ('STORE', 'WHITE'), ('RESTORE', 'BLUE'), ('STORE', 'WHITE')], [('RESTORE', 'RED'), ('STORE', 'WHITE'), ('RESTORE', 'BLUE'), ('STORE', 'BLUE')], [('RESTORE', 'RED'), ('STORE', 'WHITE'), ('RESTORE', 'BLUE'), ('STORE', 'RED')], [('RESTORE', 'RED'), ('STORE', 'WHITE'), ('RESTORE', 'BLUE'), ('RESTORE', 'WHITE')], [('RESTORE', 'RED'), ('STORE', 'WHITE'), ('RESTORE', 'BLUE'), ('RESTORE', 'BLUE')], [('RESTORE', 'RED'), ('STORE', 'WHITE'), ('RESTORE', 'BLUE'), ('RESTORE', 'RED')], [('RESTORE', 'RED'), ('STORE', 'WHITE'), ('RESTORE', 'RED'), ('STORE', 'WHITE')], [('RESTORE', 'RED'), ('STORE', 'WHITE'), ('RESTORE', 'RED'), ('STORE', 'BLUE')], [('RESTORE', 'RED'), ('STORE', 'WHITE'), ('RESTORE', 'RED'), ('STORE', 'RED')], [('RESTORE', 'RED'), ('STORE', 'WHITE'), ('RESTORE', 'RED'), ('RESTORE', 'WHITE')], [('RESTORE', 'RED'), ('STORE', 'WHITE'), ('RESTORE', 'RED'), ('RESTORE', 'BLUE')], [('RESTORE', 'RED'), ('STORE', 'WHITE'), ('RESTORE', 'RED'), ('RESTORE', 'RED')], [('RESTORE', 'RED'), ('STORE', 'BLUE'), ('STORE', 'WHITE'), ('STORE', 'WHITE')], [('RESTORE', 'RED'), ('STORE', 'BLUE'), ('STORE', 'WHITE'), ('STORE', 'BLUE')], [('RESTORE', 'RED'), ('STORE', 'BLUE'), ('STORE', 'WHITE'), ('STORE', 'RED')], [('RESTORE', 'RED'), ('STORE', 'BLUE'), ('STORE', 'WHITE'), ('RESTORE', 'WHITE')], [('RESTORE', 'RED'), ('STORE', 'BLUE'), ('STORE', 'WHITE'), ('RESTORE', 'BLUE')], [('RESTORE', 'RED'), ('STORE', 'BLUE'), ('STORE', 'WHITE'), ('RESTORE', 'RED')], [('RESTORE', 'RED'), ('STORE', 'BLUE'), ('STORE', 'BLUE'), ('STORE', 'WHITE')], [('RESTORE', 'RED'), ('STORE', 'BLUE'), ('STORE', 'BLUE'), ('STORE', 'BLUE')], [('RESTORE', 'RED'), ('STORE', 'BLUE'), ('STORE', 'BLUE'), ('STORE', 'RED')], [('RESTORE', 'RED'), ('STORE', 'BLUE'), ('STORE', 'BLUE'), ('RESTORE', 'WHITE')], [('RESTORE', 'RED'), ('STORE', 'BLUE'), ('STORE', 'BLUE'), ('RESTORE', 'BLUE')], [('RESTORE', 'RED'), ('STORE', 'BLUE'), ('STORE', 'BLUE'), ('RESTORE', 'RED')], [('RESTORE', 'RED'), ('STORE', 'BLUE'), ('STORE', 'RED'), ('STORE', 'WHITE')], [('RESTORE', 'RED'), ('STORE', 'BLUE'), ('STORE', 'RED'), ('STORE', 'BLUE')], [('RESTORE', 'RED'), ('STORE', 'BLUE'), ('STORE', 'RED'), ('STORE', 'RED')], [('RESTORE', 'RED'), ('STORE', 'BLUE'), ('STORE', 'RED'), ('RESTORE', 'WHITE')], [('RESTORE', 'RED'), ('STORE', 'BLUE'), ('STORE', 'RED'), ('RESTORE', 'BLUE')], [('RESTORE', 'RED'), ('STORE', 'BLUE'), ('STORE', 'RED'), ('RESTORE', 'RED')], [('RESTORE', 'RED'), ('STORE', 'BLUE'), ('RESTORE', 'WHITE'), ('STORE', 'WHITE')], [('RESTORE', 'RED'), ('STORE', 'BLUE'), ('RESTORE', 'WHITE'), ('STORE', 'BLUE')], [('RESTORE', 'RED'), ('STORE', 'BLUE'), ('RESTORE', 'WHITE'), ('STORE', 'RED')], [('RESTORE', 'RED'), ('STORE', 'BLUE'), ('RESTORE', 'WHITE'), ('RESTORE', 'WHITE')], [('RESTORE', 'RED'), ('STORE', 'BLUE'), ('RESTORE', 'WHITE'), ('RESTORE', 'BLUE')], [('RESTORE', 'RED'), ('STORE', 'BLUE'), ('RESTORE', 'WHITE'), ('RESTORE', 'RED')], [('RESTORE', 'RED'), ('STORE', 'BLUE'), ('RESTORE', 'BLUE'), ('STORE', 'WHITE')], [('RESTORE', 'RED'), ('STORE', 'BLUE'), ('RESTORE', 'BLUE'), ('STORE', 'BLUE')], [('RESTORE', 'RED'), ('STORE', 'BLUE'), ('RESTORE', 'BLUE'), ('STORE', 'RED')], [('RESTORE', 'RED'), ('STORE', 'BLUE'), ('RESTORE', 'BLUE'), ('RESTORE', 'WHITE')], [('RESTORE', 'RED'), ('STORE', 'BLUE'), ('RESTORE', 'BLUE'), ('RESTORE', 'BLUE')], [('RESTORE', 'RED'), ('STORE', 'BLUE'), ('RESTORE', 'BLUE'), ('RESTORE', 'RED')], [('RESTORE', 'RED'), ('STORE', 'BLUE'), ('RESTORE', 'RED'), ('STORE', 'WHITE')], [('RESTORE', 'RED'), ('STORE', 'BLUE'), ('RESTORE', 'RED'), ('STORE', 'BLUE')], [('RESTORE', 'RED'), ('STORE', 'BLUE'), ('RESTORE', 'RED'), ('STORE', 'RED')], [('RESTORE', 'RED'), ('STORE', 'BLUE'), ('RESTORE', 'RED'), ('RESTORE', 'WHITE')], [('RESTORE', 'RED'), ('STORE', 'BLUE'), ('RESTORE', 'RED'), ('RESTORE', 'BLUE')], [('RESTORE', 'RED'), ('STORE', 'BLUE'), ('RESTORE', 'RED'), ('RESTORE', 'RED')], [('RESTORE', 'RED'), ('STORE', 'RED'), ('STORE', 'WHITE'), ('STORE', 'WHITE')], [('RESTORE', 'RED'), ('STORE', 'RED'), ('STORE', 'WHITE'), ('STORE', 'BLUE')], [('RESTORE', 'RED'), ('STORE', 'RED'), ('STORE', 'WHITE'), ('STORE', 'RED')], [('RESTORE', 'RED'), ('STORE', 'RED'), ('STORE', 'WHITE'), ('RESTORE', 'WHITE')], [('RESTORE', 'RED'), ('STORE', 'RED'), ('STORE', 'WHITE'), ('RESTORE', 'BLUE')], [('RESTORE', 'RED'), ('STORE', 'RED'), ('STORE', 'WHITE'), ('RESTORE', 'RED')], [('RESTORE', 'RED'), ('STORE', 'RED'), ('STORE', 'BLUE'), ('STORE', 'WHITE')], [('RESTORE', 'RED'), ('STORE', 'RED'), ('STORE', 'BLUE'), ('STORE', 'BLUE')], [('RESTORE', 'RED'), ('STORE', 'RED'), ('STORE', 'BLUE'), ('STORE', 'RED')], [('RESTORE', 'RED'), ('STORE', 'RED'), ('STORE', 'BLUE'), ('RESTORE', 'WHITE')], [('RESTORE', 'RED'), ('STORE', 'RED'), ('STORE', 'BLUE'), ('RESTORE', 'BLUE')], [('RESTORE', 'RED'), ('STORE', 'RED'), ('STORE', 'BLUE'), ('RESTORE', 'RED')], [('RESTORE', 'RED'), ('STORE', 'RED'), ('STORE', 'RED'), ('STORE', 'WHITE')], [('RESTORE', 'RED'), ('STORE', 'RED'), ('STORE', 'RED'), ('STORE', 'BLUE')], [('RESTORE', 'RED'), ('STORE', 'RED'), ('STORE', 'RED'), ('STORE', 'RED')], [('RESTORE', 'RED'), ('STORE', 'RED'), ('STORE', 'RED'), ('RESTORE', 'WHITE')], [('RESTORE', 'RED'), ('STORE', 'RED'), ('STORE', 'RED'), ('RESTORE', 'BLUE')], [('RESTORE', 'RED'), ('STORE', 'RED'), ('STORE', 'RED'), ('RESTORE', 'RED')], [('RESTORE', 'RED'), ('STORE', 'RED'), ('RESTORE', 'WHITE'), ('STORE', 'WHITE')], [('RESTORE', 'RED'), ('STORE', 'RED'), ('RESTORE', 'WHITE'), ('STORE', 'BLUE')], [('RESTORE', 'RED'), ('STORE', 'RED'), ('RESTORE', 'WHITE'), ('STORE', 'RED')], [('RESTORE', 'RED'), ('STORE', 'RED'), ('RESTORE', 'WHITE'), ('RESTORE', 'WHITE')], [('RESTORE', 'RED'), ('STORE', 'RED'), ('RESTORE', 'WHITE'), ('RESTORE', 'BLUE')], [('RESTORE', 'RED'), ('STORE', 'RED'), ('RESTORE', 'WHITE'), ('RESTORE', 'RED')], [('RESTORE', 'RED'), ('STORE', 'RED'), ('RESTORE', 'BLUE'), ('STORE', 'WHITE')], [('RESTORE', 'RED'), ('STORE', 'RED'), ('RESTORE', 'BLUE'), ('STORE', 'BLUE')], [('RESTORE', 'RED'), ('STORE', 'RED'), ('RESTORE', 'BLUE'), ('STORE', 'RED')], [('RESTORE', 'RED'), ('STORE', 'RED'), ('RESTORE', 'BLUE'), ('RESTORE', 'WHITE')], [('RESTORE', 'RED'), ('STORE', 'RED'), ('RESTORE', 'BLUE'), ('RESTORE', 'BLUE')], [('RESTORE', 'RED'), ('STORE', 'RED'), ('RESTORE', 'BLUE'), ('RESTORE', 'RED')], [('RESTORE', 'RED'), ('STORE', 'RED'), ('RESTORE', 'RED'), ('STORE', 'WHITE')], [('RESTORE', 'RED'), ('STORE', 'RED'), ('RESTORE', 'RED'), ('STORE', 'BLUE')], [('RESTORE', 'RED'), ('STORE', 'RED'), ('RESTORE', 'RED'), ('STORE', 'RED')], [('RESTORE', 'RED'), ('STORE', 'RED'), ('RESTORE', 'RED'), ('RESTORE', 'WHITE')], [('RESTORE', 'RED'), ('STORE', 'RED'), ('RESTORE', 'RED'), ('RESTORE', 'BLUE')], [('RESTORE', 'RED'), ('STORE', 'RED'), ('RESTORE', 'RED'), ('RESTORE', 'RED')], [('RESTORE', 'RED'), ('RESTORE', 'WHITE'), ('STORE', 'WHITE'), ('STORE', 'WHITE')], [('RESTORE', 'RED'), ('RESTORE', 'WHITE'), ('STORE', 'WHITE'), ('STORE', 'BLUE')], [('RESTORE', 'RED'), ('RESTORE', 'WHITE'), ('STORE', 'WHITE'), ('STORE', 'RED')], [('RESTORE', 'RED'), ('RESTORE', 'WHITE'), ('STORE', 'WHITE'), ('RESTORE', 'WHITE')], [('RESTORE', 'RED'), ('RESTORE', 'WHITE'), ('STORE', 'WHITE'), ('RESTORE', 'BLUE')], [('RESTORE', 'RED'), ('RESTORE', 'WHITE'), ('STORE', 'WHITE'), ('RESTORE', 'RED')], [('RESTORE', 'RED'), ('RESTORE', 'WHITE'), ('STORE', 'BLUE'), ('STORE', 'WHITE')], [('RESTORE', 'RED'), ('RESTORE', 'WHITE'), ('STORE', 'BLUE'), ('STORE', 'BLUE')], [('RESTORE', 'RED'), ('RESTORE', 'WHITE'), ('STORE', 'BLUE'), ('STORE', 'RED')], [('RESTORE', 'RED'), ('RESTORE', 'WHITE'), ('STORE', 'BLUE'), ('RESTORE', 'WHITE')], [('RESTORE', 'RED'), ('RESTORE', 'WHITE'), ('STORE', 'BLUE'), ('RESTORE', 'BLUE')], [('RESTORE', 'RED'), ('RESTORE', 'WHITE'), ('STORE', 'BLUE'), ('RESTORE', 'RED')], [('RESTORE', 'RED'), ('RESTORE', 'WHITE'), ('STORE', 'RED'), ('STORE', 'WHITE')], [('RESTORE', 'RED'), ('RESTORE', 'WHITE'), ('STORE', 'RED'), ('STORE', 'BLUE')], [('RESTORE', 'RED'), ('RESTORE', 'WHITE'), ('STORE', 'RED'), ('STORE', 'RED')], [('RESTORE', 'RED'), ('RESTORE', 'WHITE'), ('STORE', 'RED'), ('RESTORE', 'WHITE')], [('RESTORE', 'RED'), ('RESTORE', 'WHITE'), ('STORE', 'RED'), ('RESTORE', 'BLUE')], [('RESTORE', 'RED'), ('RESTORE', 'WHITE'), ('STORE', 'RED'), ('RESTORE', 'RED')], [('RESTORE', 'RED'), ('RESTORE', 'WHITE'), ('RESTORE', 'WHITE'), ('STORE', 'WHITE')], [('RESTORE', 'RED'), ('RESTORE', 'WHITE'), ('RESTORE', 'WHITE'), ('STORE', 'BLUE')], [('RESTORE', 'RED'), ('RESTORE', 'WHITE'), ('RESTORE', 'WHITE'), ('STORE', 'RED')], [('RESTORE', 'RED'), ('RESTORE', 'WHITE'), ('RESTORE', 'WHITE'), ('RESTORE', 'WHITE')], [('RESTORE', 'RED'), ('RESTORE', 'WHITE'), ('RESTORE', 'WHITE'), ('RESTORE', 'BLUE')], [('RESTORE', 'RED'), ('RESTORE', 'WHITE'), ('RESTORE', 'WHITE'), ('RESTORE', 'RED')], [('RESTORE', 'RED'), ('RESTORE', 'WHITE'), ('RESTORE', 'BLUE'), ('STORE', 'WHITE')], [('RESTORE', 'RED'), ('RESTORE', 'WHITE'), ('RESTORE', 'BLUE'), ('STORE', 'BLUE')], [('RESTORE', 'RED'), ('RESTORE', 'WHITE'), ('RESTORE', 'BLUE'), ('STORE', 'RED')], [('RESTORE', 'RED'), ('RESTORE', 'WHITE'), ('RESTORE', 'BLUE'), ('RESTORE', 'WHITE')], [('RESTORE', 'RED'), ('RESTORE', 'WHITE'), ('RESTORE', 'BLUE'), ('RESTORE', 'BLUE')], [('RESTORE', 'RED'), ('RESTORE', 'WHITE'), ('RESTORE', 'BLUE'), ('RESTORE', 'RED')], [('RESTORE', 'RED'), ('RESTORE', 'WHITE'), ('RESTORE', 'RED'), ('STORE', 'WHITE')], [('RESTORE', 'RED'), ('RESTORE', 'WHITE'), ('RESTORE', 'RED'), ('STORE', 'BLUE')], [('RESTORE', 'RED'), ('RESTORE', 'WHITE'), ('RESTORE', 'RED'), ('STORE', 'RED')], [('RESTORE', 'RED'), ('RESTORE', 'WHITE'), ('RESTORE', 'RED'), ('RESTORE', 'WHITE')], [('RESTORE', 'RED'), ('RESTORE', 'WHITE'), ('RESTORE', 'RED'), ('RESTORE', 'BLUE')], [('RESTORE', 'RED'), ('RESTORE', 'WHITE'), ('RESTORE', 'RED'), ('RESTORE', 'RED')], [('RESTORE', 'RED'), ('RESTORE', 'BLUE'), ('STORE', 'WHITE'), ('STORE', 'WHITE')], [('RESTORE', 'RED'), ('RESTORE', 'BLUE'), ('STORE', 'WHITE'), ('STORE', 'BLUE')], [('RESTORE', 'RED'), ('RESTORE', 'BLUE'), ('STORE', 'WHITE'), ('STORE', 'RED')], [('RESTORE', 'RED'), ('RESTORE', 'BLUE'), ('STORE', 'WHITE'), ('RESTORE', 'WHITE')], [('RESTORE', 'RED'), ('RESTORE', 'BLUE'), ('STORE', 'WHITE'), ('RESTORE', 'BLUE')], [('RESTORE', 'RED'), ('RESTORE', 'BLUE'), ('STORE', 'WHITE'), ('RESTORE', 'RED')], [('RESTORE', 'RED'), ('RESTORE', 'BLUE'), ('STORE', 'BLUE'), ('STORE', 'WHITE')], [('RESTORE', 'RED'), ('RESTORE', 'BLUE'), ('STORE', 'BLUE'), ('STORE', 'BLUE')], [('RESTORE', 'RED'), ('RESTORE', 'BLUE'), ('STORE', 'BLUE'), ('STORE', 'RED')], [('RESTORE', 'RED'), ('RESTORE', 'BLUE'), ('STORE', 'BLUE'), ('RESTORE', 'WHITE')], [('RESTORE', 'RED'), ('RESTORE', 'BLUE'), ('STORE', 'BLUE'), ('RESTORE', 'BLUE')], [('RESTORE', 'RED'), ('RESTORE', 'BLUE'), ('STORE', 'BLUE'), ('RESTORE', 'RED')], [('RESTORE', 'RED'), ('RESTORE', 'BLUE'), ('STORE', 'RED'), ('STORE', 'WHITE')], [('RESTORE', 'RED'), ('RESTORE', 'BLUE'), ('STORE', 'RED'), ('STORE', 'BLUE')], [('RESTORE', 'RED'), ('RESTORE', 'BLUE'), ('STORE', 'RED'), ('STORE', 'RED')], [('RESTORE', 'RED'), ('RESTORE', 'BLUE'), ('STORE', 'RED'), ('RESTORE', 'WHITE')], [('RESTORE', 'RED'), ('RESTORE', 'BLUE'), ('STORE', 'RED'), ('RESTORE', 'BLUE')], [('RESTORE', 'RED'), ('RESTORE', 'BLUE'), ('STORE', 'RED'), ('RESTORE', 'RED')], [('RESTORE', 'RED'), ('RESTORE', 'BLUE'), ('RESTORE', 'WHITE'), ('STORE', 'WHITE')], [('RESTORE', 'RED'), ('RESTORE', 'BLUE'), ('RESTORE', 'WHITE'), ('STORE', 'BLUE')], [('RESTORE', 'RED'), ('RESTORE', 'BLUE'), ('RESTORE', 'WHITE'), ('STORE', 'RED')], [('RESTORE', 'RED'), ('RESTORE', 'BLUE'), ('RESTORE', 'WHITE'), ('RESTORE', 'WHITE')], [('RESTORE', 'RED'), ('RESTORE', 'BLUE'), ('RESTORE', 'WHITE'), ('RESTORE', 'BLUE')], [('RESTORE', 'RED'), ('RESTORE', 'BLUE'), ('RESTORE', 'WHITE'), ('RESTORE', 'RED')], [('RESTORE', 'RED'), ('RESTORE', 'BLUE'), ('RESTORE', 'BLUE'), ('STORE', 'WHITE')], [('RESTORE', 'RED'), ('RESTORE', 'BLUE'), ('RESTORE', 'BLUE'), ('STORE', 'BLUE')], [('RESTORE', 'RED'), ('RESTORE', 'BLUE'), ('RESTORE', 'BLUE'), ('STORE', 'RED')], [('RESTORE', 'RED'), ('RESTORE', 'BLUE'), ('RESTORE', 'BLUE'), ('RESTORE', 'WHITE')], [('RESTORE', 'RED'), ('RESTORE', 'BLUE'), ('RESTORE', 'BLUE'), ('RESTORE', 'BLUE')], [('RESTORE', 'RED'), ('RESTORE', 'BLUE'), ('RESTORE', 'BLUE'), ('RESTORE', 'RED')], [('RESTORE', 'RED'), ('RESTORE', 'BLUE'), ('RESTORE', 'RED'), ('STORE', 'WHITE')], [('RESTORE', 'RED'), ('RESTORE', 'BLUE'), ('RESTORE', 'RED'), ('STORE', 'BLUE')], [('RESTORE', 'RED'), ('RESTORE', 'BLUE'), ('RESTORE', 'RED'), ('STORE', 'RED')], [('RESTORE', 'RED'), ('RESTORE', 'BLUE'), ('RESTORE', 'RED'), ('RESTORE', 'WHITE')], [('RESTORE', 'RED'), ('RESTORE', 'BLUE'), ('RESTORE', 'RED'), ('RESTORE', 'BLUE')], [('RESTORE', 'RED'), ('RESTORE', 'BLUE'), ('RESTORE', 'RED'), ('RESTORE', 'RED')], [('RESTORE', 'RED'), ('RESTORE', 'RED'), ('STORE', 'WHITE'), ('STORE', 'WHITE')], [('RESTORE', 'RED'), ('RESTORE', 'RED'), ('STORE', 'WHITE'), ('STORE', 'BLUE')], [('RESTORE', 'RED'), ('RESTORE', 'RED'), ('STORE', 'WHITE'), ('STORE', 'RED')], [('RESTORE', 'RED'), ('RESTORE', 'RED'), ('STORE', 'WHITE'), ('RESTORE', 'WHITE')], [('RESTORE', 'RED'), ('RESTORE', 'RED'), ('STORE', 'WHITE'), ('RESTORE', 'BLUE')], [('RESTORE', 'RED'), ('RESTORE', 'RED'), ('STORE', 'WHITE'), ('RESTORE', 'RED')], [('RESTORE', 'RED'), ('RESTORE', 'RED'), ('STORE', 'BLUE'), ('STORE', 'WHITE')], [('RESTORE', 'RED'), ('RESTORE', 'RED'), ('STORE', 'BLUE'), ('STORE', 'BLUE')], [('RESTORE', 'RED'), ('RESTORE', 'RED'), ('STORE', 'BLUE'), ('STORE', 'RED')], [('RESTORE', 'RED'), ('RESTORE', 'RED'), ('STORE', 'BLUE'), ('RESTORE', 'WHITE')], [('RESTORE', 'RED'), ('RESTORE', 'RED'), ('STORE', 'BLUE'), ('RESTORE', 'BLUE')], [('RESTORE', 'RED'), ('RESTORE', 'RED'), ('STORE', 'BLUE'), ('RESTORE', 'RED')], [('RESTORE', 'RED'), ('RESTORE', 'RED'), ('STORE', 'RED'), ('STORE', 'WHITE')], [('RESTORE', 'RED'), ('RESTORE', 'RED'), ('STORE', 'RED'), ('STORE', 'BLUE')], [('RESTORE', 'RED'), ('RESTORE', 'RED'), ('STORE', 'RED'), ('STORE', 'RED')], [('RESTORE', 'RED'), ('RESTORE', 'RED'), ('STORE', 'RED'), ('RESTORE', 'WHITE')], [('RESTORE', 'RED'), ('RESTORE', 'RED'), ('STORE', 'RED'), ('RESTORE', 'BLUE')], [('RESTORE', 'RED'), ('RESTORE', 'RED'), ('STORE', 'RED'), ('RESTORE', 'RED')], [('RESTORE', 'RED'), ('RESTORE', 'RED'), ('RESTORE', 'WHITE'), ('STORE', 'WHITE')], [('RESTORE', 'RED'), ('RESTORE', 'RED'), ('RESTORE', 'WHITE'), ('STORE', 'BLUE')], [('RESTORE', 'RED'), ('RESTORE', 'RED'), ('RESTORE', 'WHITE'), ('STORE', 'RED')], [('RESTORE', 'RED'), ('RESTORE', 'RED'), ('RESTORE', 'WHITE'), ('RESTORE', 'WHITE')], [('RESTORE', 'RED'), ('RESTORE', 'RED'), ('RESTORE', 'WHITE'), ('RESTORE', 'BLUE')], [('RESTORE', 'RED'), ('RESTORE', 'RED'), ('RESTORE', 'WHITE'), ('RESTORE', 'RED')], [('RESTORE', 'RED'), ('RESTORE', 'RED'), ('RESTORE', 'BLUE'), ('STORE', 'WHITE')], [('RESTORE', 'RED'), ('RESTORE', 'RED'), ('RESTORE', 'BLUE'), ('STORE', 'BLUE')], [('RESTORE', 'RED'), ('RESTORE', 'RED'), ('RESTORE', 'BLUE'), ('STORE', 'RED')], [('RESTORE', 'RED'), ('RESTORE', 'RED'), ('RESTORE', 'BLUE'), ('RESTORE', 'WHITE')], [('RESTORE', 'RED'), ('RESTORE', 'RED'), ('RESTORE', 'BLUE'), ('RESTORE', 'BLUE')], [('RESTORE', 'RED'), ('RESTORE', 'RED'), ('RESTORE', 'BLUE'), ('RESTORE', 'RED')], [('RESTORE', 'RED'), ('RESTORE', 'RED'), ('RESTORE', 'RED'), ('STORE', 'WHITE')], [('RESTORE', 'RED'), ('RESTORE', 'RED'), ('RESTORE', 'RED'), ('STORE', 'BLUE')], [('RESTORE', 'RED'), ('RESTORE', 'RED'), ('RESTORE', 'RED'), ('STORE', 'RED')], [('RESTORE', 'RED'), ('RESTORE', 'RED'), ('RESTORE', 'RED'), ('RESTORE', 'WHITE')], [('RESTORE', 'RED'), ('RESTORE', 'RED'), ('RESTORE', 'RED'), ('RESTORE', 'BLUE')], [('RESTORE', 'RED'), ('RESTORE', 'RED'), ('RESTORE', 'RED'), ('RESTORE', 'RED')]]\n"
     ]
    }
   ],
   "source": [
    "def getStates(warehouseFields, fieldStatus):  \n",
    "    return itertools.product(fieldStatus, repeat=len(warehouseFields))\n",
    "\n",
    "iterStates = getStates(warehouseFields, fieldStatus)\n",
    "states = []\n",
    "for state in iterStates:\n",
    "  states.append(list(state))\n",
    "\n",
    "print(len(states))\n",
    "print(states)"
   ]
  },
  {
   "source": [
    "Create a reward which fits our problem. <br>\n",
    "The reward is higher if the distance our agent has to cover is lower."
   ],
   "cell_type": "markdown",
   "metadata": {}
  },
  {
   "cell_type": "code",
   "execution_count": 112,
   "metadata": {
    "tags": []
   },
   "outputs": [
    {
     "output_type": "stream",
     "name": "stdout",
     "text": [
      "[0.25180384 0.24336554 0.50483062]\n[1.0, 0.25, 0.25, 0.1111111111111111]\n"
     ]
    }
   ],
   "source": [
    "# read statistics from file to calculate better rewards\n",
    "# i = 0: White, i = 1: Blue, i = 2: Red\n",
    "countItems = np.zeros((3))\n",
    "itemsTotal = 0\n",
    "\n",
    "warehouseorder = open('Exercise4_warehousetraining2x2.txt')\n",
    "for line in warehouseorder:\n",
    "    curAction = line.split('\\t')\n",
    "    # curOperation = curAction[0].upper()\n",
    "    curItem = curAction[1].strip('\\n').upper()\n",
    "    if curItem == 'WHITE':\n",
    "        countItems[0] += 1\n",
    "    if curItem == 'BLUE':\n",
    "        countItems[1] += 1\n",
    "    if curItem == 'RED':\n",
    "        countItems[2] += 1\n",
    "    itemsTotal += 1\n",
    "\n",
    "# i = 0: White, i = 1: Blue, i = 2: Red\n",
    "probsItems = countItems / itemsTotal\n",
    "print(probsItems)\n",
    "\n",
    "# reward function based on distance and item probability:\n",
    "def getRewardBasedOnDistanceAndProbability(fieldIndex, item):\n",
    "    x = warehouseFields[fieldIndex]\n",
    "    distance = x[0] + x[1] + 1\n",
    "    prob = 0\n",
    "    if item == 'WHITE':\n",
    "        prob = probsItems[0]\n",
    "    if item == 'BLUE':\n",
    "        prob = probsItems[1]\n",
    "    if item == 'RED':\n",
    "        prob = probsItems[2]\n",
    "    reward = 1/distance * 1/distance * prob\n",
    "    return reward\n",
    "\n",
    "# simple reward function:\n",
    "# get the distance in field from 0,0 (0,0 has already distance 1)\n",
    "# reward is the reciprocal**2 (to punish far away fields even more)\n",
    "def getRewardBasedonActionAndItem(action, item):\n",
    "    #print(action)\n",
    "    #print(field)\n",
    "    distance = action[0] + action[1] + 1\n",
    "    reward = 1/distance\n",
    "    return reward\n",
    "\n",
    "rewardVector = [getRewardBasedOnDistance(x) for x in warehouseFields]\n",
    "print(rewardVector)"
   ]
  },
  {
   "source": [
    "Bring it all together now and create the transition and the reward matrix. <br>"
   ],
   "cell_type": "markdown",
   "metadata": {}
  },
  {
   "cell_type": "code",
   "execution_count": 118,
   "metadata": {
    "tags": []
   },
   "outputs": [
    {
     "output_type": "stream",
     "name": "stdout",
     "text": [
      "(4, 1296, 1296)\n1296.0\n"
     ]
    }
   ],
   "source": [
    "# create Transition and reward matrix\n",
    "def createTransitionAndRewardMatrix(actions, states):\n",
    "    T = np.zeros((len(actions), len(states), len(states)))\n",
    "    R = np.zeros((len(states), len(actions)))\n",
    "\n",
    "    for i in range(len(actions)):\n",
    "        # current operation and item\n",
    "        action = actions[i]\n",
    "        for j in range(len(states)):\n",
    "            curState = states[j]  \n",
    "            \n",
    "            # get possible next fields for the current action:\n",
    "            possibleFields = []\n",
    "            if curState[i] == ('STORE', 'WHITE'):\n",
    "                possibleFields.append(('RESTORE', 'WHITE'))\n",
    "            elif curState[i] == ('STORE', 'RED'):\n",
    "                possibleFields.append(('RESTORE', 'RED'))\n",
    "            elif curState[i] == ('STORE', 'BLUE'):\n",
    "                possibleFields.append(('RESTORE', 'BLUE'))\n",
    "            # after all restore operations:\n",
    "            else:\n",
    "                possibleFields.append(('STORE', 'WHITE'))\n",
    "                possibleFields.append(('STORE', 'RED'))\n",
    "                possibleFields.append(('STORE', 'BLUE'))\n",
    "\n",
    "            transitionProbability = 1 / len(possibleFields) # test equal probability first\n",
    "      \n",
    "            # set probabiltiy in transition matrix for the possible nextStates\n",
    "            for field in possibleFields:\n",
    "                nextState = curState.copy()\n",
    "                nextState[i] = field\n",
    "                nextIndex = states.index(nextState)\n",
    "                T[i, j, nextIndex] = transitionProbability\n",
    "                # set reward in R\n",
    "                # R[nextIndex][i] = rewardVector[field] # old simple reward\n",
    "                R[nextIndex][i] = getRewardBasedonActionAndItem(action, field)         \n",
    "\n",
    "    return T, R\n",
    "\n",
    "T, R = createTransitionAndRewardMatrix(actions, states)\n",
    "print(np.shape(T))\n",
    "test = np.sum(T[3])\n",
    "print(test)"
   ]
  },
  {
   "source": [
    "Finally create the mdp models and evaluate the different classes"
   ],
   "cell_type": "markdown",
   "metadata": {}
  },
  {
   "cell_type": "code",
   "execution_count": 122,
   "metadata": {
    "tags": []
   },
   "outputs": [
    {
     "output_type": "stream",
     "name": "stdout",
     "text": [
      "PolicyIteration:\n0\n1.1111111111111112\n1\n"
     ]
    }
   ],
   "source": [
    "# 1. Policy Iteration\n",
    "mdpWarehousePolicy = mdptoolbox.mdp.PolicyIteration(T, R, 0.1, max_iter=100)\n",
    "# Run the MDP\n",
    "mdpWarehousePolicy.run()\n",
    "\n",
    "print('PolicyIteration:')\n",
    "print(mdpWarehousePolicy.policy[0])\n",
    "print(mdpWarehousePolicy.V[0])\n",
    "print(mdpWarehousePolicy.iter)"
   ]
  },
  {
   "cell_type": "code",
   "execution_count": 123,
   "metadata": {
    "tags": []
   },
   "outputs": [
    {
     "output_type": "stream",
     "name": "stdout",
     "text": [
      "Q learning:\n0\n0.10264077310984646\n"
     ]
    }
   ],
   "source": [
    "# 2. QLearning\n",
    "mdpWarehouseQ = mdptoolbox.mdp.QLearning(T, R, 0.1)\n",
    "# Run the MDP\n",
    "mdpWarehouseQ.run()\n",
    "\n",
    "print('Q learning:')\n",
    "print(mdpWarehouseQ.policy[0])\n",
    "print(mdpWarehouseQ.V[0])"
   ]
  },
  {
   "cell_type": "code",
   "execution_count": 128,
   "metadata": {},
   "outputs": [
    {
     "output_type": "stream",
     "name": "stderr",
     "text": [
      "c:\\Users\\Max\\Documents\\Uni\\SoSe2021\\SAKI\\Ex4\\SAKI_EX4\\saki4\\lib\\site-packages\\mdptoolbox\\mdp.py:1357: RuntimeWarning: divide by zero encountered in double_scalars\n  max_iter = (_math.log((epsilon * (1 - self.discount) / self.discount) /\n"
     ]
    },
    {
     "output_type": "error",
     "ename": "OverflowError",
     "evalue": "cannot convert float infinity to integer",
     "traceback": [
      "\u001b[1;31m---------------------------------------------------------------------------\u001b[0m",
      "\u001b[1;31mOverflowError\u001b[0m                             Traceback (most recent call last)",
      "\u001b[1;32m<ipython-input-128-74a0ab17b424>\u001b[0m in \u001b[0;36m<module>\u001b[1;34m\u001b[0m\n\u001b[0;32m      1\u001b[0m \u001b[1;31m# 3. ValueIteration\u001b[0m\u001b[1;33m\u001b[0m\u001b[1;33m\u001b[0m\u001b[1;33m\u001b[0m\u001b[0m\n\u001b[1;32m----> 2\u001b[1;33m \u001b[0mmdpWarehouseValueIter\u001b[0m \u001b[1;33m=\u001b[0m \u001b[0mmdptoolbox\u001b[0m\u001b[1;33m.\u001b[0m\u001b[0mmdp\u001b[0m\u001b[1;33m.\u001b[0m\u001b[0mValueIteration\u001b[0m\u001b[1;33m(\u001b[0m\u001b[0mT\u001b[0m\u001b[1;33m,\u001b[0m \u001b[0mR\u001b[0m\u001b[1;33m,\u001b[0m \u001b[1;36m0.7\u001b[0m\u001b[1;33m)\u001b[0m\u001b[1;33m\u001b[0m\u001b[1;33m\u001b[0m\u001b[0m\n\u001b[0m\u001b[0;32m      3\u001b[0m \u001b[1;31m# Run the MDP\u001b[0m\u001b[1;33m\u001b[0m\u001b[1;33m\u001b[0m\u001b[1;33m\u001b[0m\u001b[0m\n\u001b[0;32m      4\u001b[0m \u001b[0mmdpWarehouseValueIter\u001b[0m\u001b[1;33m.\u001b[0m\u001b[0mrun\u001b[0m\u001b[1;33m(\u001b[0m\u001b[1;33m)\u001b[0m\u001b[1;33m\u001b[0m\u001b[1;33m\u001b[0m\u001b[0m\n\u001b[0;32m      5\u001b[0m \u001b[1;33m\u001b[0m\u001b[0m\n",
      "\u001b[1;32mc:\\Users\\Max\\Documents\\Uni\\SoSe2021\\SAKI\\Ex4\\SAKI_EX4\\saki4\\lib\\site-packages\\mdptoolbox\\mdp.py\u001b[0m in \u001b[0;36m__init__\u001b[1;34m(self, transitions, reward, discount, epsilon, max_iter, initial_value)\u001b[0m\n\u001b[0;32m   1307\u001b[0m             \u001b[1;31m# compute a bound for the number of iterations and update the\u001b[0m\u001b[1;33m\u001b[0m\u001b[1;33m\u001b[0m\u001b[1;33m\u001b[0m\u001b[0m\n\u001b[0;32m   1308\u001b[0m             \u001b[1;31m# stored value of self.max_iter\u001b[0m\u001b[1;33m\u001b[0m\u001b[1;33m\u001b[0m\u001b[1;33m\u001b[0m\u001b[0m\n\u001b[1;32m-> 1309\u001b[1;33m             \u001b[0mself\u001b[0m\u001b[1;33m.\u001b[0m\u001b[0m_boundIter\u001b[0m\u001b[1;33m(\u001b[0m\u001b[0mepsilon\u001b[0m\u001b[1;33m)\u001b[0m\u001b[1;33m\u001b[0m\u001b[1;33m\u001b[0m\u001b[0m\n\u001b[0m\u001b[0;32m   1310\u001b[0m             \u001b[1;31m# computation of threshold of variation for V for an epsilon-\u001b[0m\u001b[1;33m\u001b[0m\u001b[1;33m\u001b[0m\u001b[1;33m\u001b[0m\u001b[0m\n\u001b[0;32m   1311\u001b[0m             \u001b[1;31m# optimal policy\u001b[0m\u001b[1;33m\u001b[0m\u001b[1;33m\u001b[0m\u001b[1;33m\u001b[0m\u001b[0m\n",
      "\u001b[1;32mc:\\Users\\Max\\Documents\\Uni\\SoSe2021\\SAKI\\Ex4\\SAKI_EX4\\saki4\\lib\\site-packages\\mdptoolbox\\mdp.py\u001b[0m in \u001b[0;36m_boundIter\u001b[1;34m(self, epsilon)\u001b[0m\n\u001b[0;32m   1359\u001b[0m         \u001b[1;31m#self.V = Vprev\u001b[0m\u001b[1;33m\u001b[0m\u001b[1;33m\u001b[0m\u001b[1;33m\u001b[0m\u001b[0m\n\u001b[0;32m   1360\u001b[0m \u001b[1;33m\u001b[0m\u001b[0m\n\u001b[1;32m-> 1361\u001b[1;33m         \u001b[0mself\u001b[0m\u001b[1;33m.\u001b[0m\u001b[0mmax_iter\u001b[0m \u001b[1;33m=\u001b[0m \u001b[0mint\u001b[0m\u001b[1;33m(\u001b[0m\u001b[0m_math\u001b[0m\u001b[1;33m.\u001b[0m\u001b[0mceil\u001b[0m\u001b[1;33m(\u001b[0m\u001b[0mmax_iter\u001b[0m\u001b[1;33m)\u001b[0m\u001b[1;33m)\u001b[0m\u001b[1;33m\u001b[0m\u001b[1;33m\u001b[0m\u001b[0m\n\u001b[0m\u001b[0;32m   1362\u001b[0m \u001b[1;33m\u001b[0m\u001b[0m\n\u001b[0;32m   1363\u001b[0m     \u001b[1;32mdef\u001b[0m \u001b[0mrun\u001b[0m\u001b[1;33m(\u001b[0m\u001b[0mself\u001b[0m\u001b[1;33m)\u001b[0m\u001b[1;33m:\u001b[0m\u001b[1;33m\u001b[0m\u001b[1;33m\u001b[0m\u001b[0m\n",
      "\u001b[1;31mOverflowError\u001b[0m: cannot convert float infinity to integer"
     ]
    }
   ],
   "source": [
    "# 3. ValueIteration\n",
    "mdpWarehouseValueIter = mdptoolbox.mdp.ValueIteration(T, R, 0.7)\n",
    "# Run the MDP\n",
    "mdpWarehouseValueIter.run()\n",
    "\n",
    "print('Value Iteration:')\n",
    "print(mdpWarehouseValueIter.policy)\n",
    "print(mdpWarehouseValueIter.V)\n",
    "print(mdpWarehouseValueIter.iter)"
   ]
  },
  {
   "source": [
    "Now we evaluate the models and compare the needed steps for each model and also compare them to a greedy approach."
   ],
   "cell_type": "markdown",
   "metadata": {}
  },
  {
   "cell_type": "code",
   "execution_count": 90,
   "metadata": {
    "tags": []
   },
   "outputs": [
    {
     "output_type": "stream",
     "name": "stdout",
     "text": [
      "[('STORE', 'WHITE'), ('STORE', 'BLUE'), ('STORE', 'RED'), ('RESTORE', 'WHITE'), ('RESTORE', 'BLUE'), ('RESTORE', 'RED')]\n14401\n"
     ]
    }
   ],
   "source": [
    "stepsTaken = [1, 2, 2, 3]\n",
    "\n",
    "# get all test actions form the test file in a list\n",
    "def getTestActions(warehouseorder):\n",
    "    actionList = []\n",
    "    for line in warehouseorder:\n",
    "        split = line.split('\\t')\n",
    "        curOperation = split[0].upper()\n",
    "        curItem = split[1].strip('\\n').upper()\n",
    "        curAction = (curOperation, curItem)\n",
    "        actionList.append(curAction)\n",
    "    return actionList\n",
    "\n",
    "# evaluate a greedy approach, always store/restore at the nearest possible field\n",
    "def greedyStorage(actionList):\n",
    "    curState = ['EMPTY', 'EMPTY', 'EMPTY', 'EMPTY']\n",
    "    steps = 0\n",
    "\n",
    "    for (operation, item) in actionList:\n",
    "        # case operation not possible\n",
    "        if ((operation == 'STORE') and ('EMPTY' not in curState)) \\\n",
    "            or ((operation == 'RESTORE') and (item not in curState)):\n",
    "            print(\"does this happen?\") # => with our test data this is never the case\n",
    "        else:\n",
    "            if operation == 'STORE':\n",
    "                # store in the nearest field\n",
    "                for i in range(0, len(curState)):\n",
    "                    if curState[i] == 'EMPTY':\n",
    "                        curState[i] = item\n",
    "                        steps += stepsTaken[i]\n",
    "                        break\n",
    "            # restore operation\n",
    "            else:\n",
    "                for i in range(0, len(curState)):\n",
    "                    if curState[i] == item:\n",
    "                        curState[i] = 'EMPTY'\n",
    "                        steps += stepsTaken[i]\n",
    "                        break\n",
    "    return steps    \n",
    "\n",
    "print(actions)\n",
    "warehouseorder = open('Exercise4_warehousetraining2x2.txt')\n",
    "actionList = getTestActions(warehouseorder)\n",
    "greedySteps = greedyStorage(actionList)\n",
    "print(greedySteps)"
   ]
  },
  {
   "cell_type": "code",
   "execution_count": 103,
   "metadata": {
    "tags": []
   },
   "outputs": [
    {
     "output_type": "stream",
     "name": "stdout",
     "text": [
      "Greedy approach steps:14401\n"
     ]
    },
    {
     "output_type": "error",
     "ename": "ValueError",
     "evalue": "('STORE', 'RED') is not in list",
     "traceback": [
      "\u001b[1;31m---------------------------------------------------------------------------\u001b[0m",
      "\u001b[1;31mValueError\u001b[0m                                Traceback (most recent call last)",
      "\u001b[1;32m<ipython-input-103-ef3d64f17613>\u001b[0m in \u001b[0;36m<module>\u001b[1;34m\u001b[0m\n\u001b[0;32m     36\u001b[0m \u001b[0mprint\u001b[0m\u001b[1;33m(\u001b[0m\u001b[1;34m\"Greedy approach steps:\"\u001b[0m \u001b[1;33m+\u001b[0m \u001b[0mstr\u001b[0m\u001b[1;33m(\u001b[0m\u001b[0mgreedySteps\u001b[0m\u001b[1;33m)\u001b[0m\u001b[1;33m)\u001b[0m\u001b[1;33m\u001b[0m\u001b[1;33m\u001b[0m\u001b[0m\n\u001b[0;32m     37\u001b[0m \u001b[1;33m\u001b[0m\u001b[0m\n\u001b[1;32m---> 38\u001b[1;33m \u001b[0mpolicyIterationSteps\u001b[0m \u001b[1;33m=\u001b[0m \u001b[0mevaluateMDPModel\u001b[0m\u001b[1;33m(\u001b[0m\u001b[0mmdpWarehousePolicy\u001b[0m\u001b[1;33m,\u001b[0m \u001b[0mactions\u001b[0m\u001b[1;33m,\u001b[0m \u001b[0mactionList\u001b[0m\u001b[1;33m)\u001b[0m\u001b[1;33m\u001b[0m\u001b[1;33m\u001b[0m\u001b[0m\n\u001b[0m\u001b[0;32m     39\u001b[0m \u001b[0mprint\u001b[0m\u001b[1;33m(\u001b[0m\u001b[1;34m\"Policy iteration steps:\"\u001b[0m \u001b[1;33m+\u001b[0m \u001b[0mstr\u001b[0m\u001b[1;33m(\u001b[0m\u001b[0mpolicyIterationSteps\u001b[0m\u001b[1;33m)\u001b[0m\u001b[1;33m)\u001b[0m\u001b[1;33m\u001b[0m\u001b[1;33m\u001b[0m\u001b[0m\n\u001b[0;32m     40\u001b[0m \u001b[1;33m\u001b[0m\u001b[0m\n",
      "\u001b[1;32m<ipython-input-103-ef3d64f17613>\u001b[0m in \u001b[0;36mevaluateMDPModel\u001b[1;34m(mdpModel, actions, actionList)\u001b[0m\n\u001b[0;32m     13\u001b[0m         \u001b[1;32melse\u001b[0m\u001b[1;33m:\u001b[0m\u001b[1;33m\u001b[0m\u001b[1;33m\u001b[0m\u001b[0m\n\u001b[0;32m     14\u001b[0m             \u001b[1;31m# 1. get next state based on value of the field?\u001b[0m\u001b[1;33m\u001b[0m\u001b[1;33m\u001b[0m\u001b[1;33m\u001b[0m\u001b[0m\n\u001b[1;32m---> 15\u001b[1;33m             \u001b[0mcurActionIndex\u001b[0m \u001b[1;33m=\u001b[0m \u001b[0mactions\u001b[0m\u001b[1;33m.\u001b[0m\u001b[0mindex\u001b[0m\u001b[1;33m(\u001b[0m\u001b[1;33m(\u001b[0m\u001b[0moperation\u001b[0m\u001b[1;33m,\u001b[0m \u001b[0mitem\u001b[0m\u001b[1;33m)\u001b[0m\u001b[1;33m)\u001b[0m\u001b[1;33m\u001b[0m\u001b[1;33m\u001b[0m\u001b[0m\n\u001b[0m\u001b[0;32m     16\u001b[0m             \u001b[0mindexCurState\u001b[0m \u001b[1;33m=\u001b[0m \u001b[0mstates\u001b[0m\u001b[1;33m.\u001b[0m\u001b[0mindex\u001b[0m\u001b[1;33m(\u001b[0m\u001b[0mcurState\u001b[0m\u001b[1;33m)\u001b[0m\u001b[1;33m\u001b[0m\u001b[1;33m\u001b[0m\u001b[0m\n\u001b[0;32m     17\u001b[0m             \u001b[0mcurTransitionLine\u001b[0m \u001b[1;33m=\u001b[0m \u001b[0mT\u001b[0m\u001b[1;33m[\u001b[0m\u001b[0mcurActionIndex\u001b[0m\u001b[1;33m,\u001b[0m \u001b[0mindexCurState\u001b[0m\u001b[1;33m]\u001b[0m\u001b[1;33m\u001b[0m\u001b[1;33m\u001b[0m\u001b[0m\n",
      "\u001b[1;31mValueError\u001b[0m: ('STORE', 'RED') is not in list"
     ]
    }
   ],
   "source": [
    "# evaluate how much steps our mdp models will take:\n",
    "def evaluateMDPModel(mdpModel, actions, actionList):\n",
    "    steps = 0\n",
    "    policy = mdpModel.policy\n",
    "    V = mdpModel.V\n",
    "\n",
    "    curState = ['EMPTY', 'EMPTY', 'EMPTY', 'EMPTY']\n",
    "    for (operation, item) in actionList:\n",
    "        # case operation not possible\n",
    "        if ((operation == 'STORE') and ('EMPTY' not in curState)) \\\n",
    "            or ((operation == 'RESTORE') and (item not in curState)):\n",
    "            print(\"does this happen?\") # => with our test data this is never the case\n",
    "        else:\n",
    "            # 1. get next state based on value of the field?\n",
    "            curActionIndex = actions.index((operation, item))\n",
    "            indexCurState = states.index(curState)\n",
    "            curTransitionLine = T[curActionIndex, indexCurState]\n",
    "            curPossibleSteps = [i for i, value in enumerate(curTransitionLine) if value != 0]\n",
    "            valuesOfTheField = []\n",
    "            for posInd in curPossibleSteps:\n",
    "                valuesOfTheField.append(V[posInd])\n",
    "            max_value = max(valuesOfTheField)\n",
    "            max_index = curPossibleSteps[valuesOfTheField.index(max_value)]\n",
    "            # get next state\n",
    "            nextState = states[max_index].copy()\n",
    "            # evaluate steps, therefore get index of change:\n",
    "            for index, (first, second) in enumerate(zip(curState, nextState)):\n",
    "                if first != second:\n",
    "                    steps += stepsTaken[index]\n",
    "            # set cur state to next state:\n",
    "            curState = nextState           \n",
    "    return steps    \n",
    "\n",
    "stepsTaken = [1, 2, 2, 3]\n",
    "\n",
    "print(\"Greedy approach steps:\" + str(greedySteps))\n",
    "\n",
    "policyIterationSteps = evaluateMDPModel(mdpWarehousePolicy, actions, actionList)\n",
    "print(\"Policy iteration steps:\" + str(policyIterationSteps))\n",
    "\n",
    "valueIterationSteps = evaluateMDPModel(mdpWarehouseValueIter, actions, actionList)\n",
    "print(\"Value iteration steps:\" + str(valueIterationSteps))\n",
    "\n",
    "QlearningSteps = evaluateMDPModel(mdpWarehouseQ, actions, actionList)\n",
    "print(\"Q learning steps:\" + str(QlearningSteps))"
   ]
  },
  {
   "cell_type": "code",
   "execution_count": null,
   "metadata": {},
   "outputs": [],
   "source": []
  }
 ]
}